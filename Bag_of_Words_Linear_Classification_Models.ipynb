{
 "cells": [
  {
   "cell_type": "markdown",
   "metadata": {},
   "source": [
    "# Reviews Sentiment Prediction Experiment\n",
    "\n",
    "# 0. Introduction\n",
    "\n",
    "### For this experiment, we'll start out slowly by referring to the tutorial on kaggle: https://www.kaggle.com/c/word2vec-nlp-tutorial/details/part-1-for-beginners-bag-of-words. We will begin by familiarizing ourselves with its python tools and workflow, reproducing part of the steps in the blog, and then complete the 4 experiments to be described below.\n",
    "\n",
    "### First, we'll import a couple of the libraries we need and check its version #'s. At the time of this writing, the version no.s are 0.18.1 for scikit-learn and 0.20.1 for pandas."
   ]
  },
  {
   "cell_type": "code",
   "execution_count": 2,
   "metadata": {},
   "outputs": [
    {
     "name": "stdout",
     "output_type": "stream",
     "text": [
      "The scikit-learn version is 0.18.1.\n",
      "pandas version is 0.20.1.\n"
     ]
    }
   ],
   "source": [
    "import pandas as pd\n",
    "import sklearn\n",
    "print('The scikit-learn version is {}.'.format(sklearn.__version__))\n",
    "print('pandas version is {}.'.format(pd.__version__))"
   ]
  },
  {
   "cell_type": "markdown",
   "metadata": {},
   "source": [
    "### We next read the training data file consisting of various reviews using pandas's built-in method, and verify the no. of rows and columns."
   ]
  },
  {
   "cell_type": "code",
   "execution_count": 3,
   "metadata": {
    "collapsed": true
   },
   "outputs": [],
   "source": [
    "# Reading from the training data file.\n",
    "# Here, \"header=0\" indicates that the first line of the file contains column names,\n",
    "# \"delimiter=\\t\" indicates that the fields are separated by tabs, and \n",
    "# quoting=3 tells Python to ignore doubled quotes, otherwise you may encounter errors trying to read the file.\n",
    "train = pd.read_csv(\"labeledTrainData.tsv\", header=0, \\\n",
    "                    delimiter=\"\\t\", quoting=3)"
   ]
  },
  {
   "cell_type": "code",
   "execution_count": 4,
   "metadata": {},
   "outputs": [
    {
     "name": "stdout",
     "output_type": "stream",
     "text": [
      "(25000, 3)\n"
     ]
    }
   ],
   "source": [
    "print(train.shape) #expected (rows, cols) value of (25000, 3)"
   ]
  },
  {
   "cell_type": "markdown",
   "metadata": {},
   "source": [
    "### Let's check what the 3 columns consist of."
   ]
  },
  {
   "cell_type": "code",
   "execution_count": 5,
   "metadata": {},
   "outputs": [
    {
     "data": {
      "text/plain": [
       "array(['id', 'sentiment', 'review'], dtype=object)"
      ]
     },
     "execution_count": 5,
     "metadata": {},
     "output_type": "execute_result"
    }
   ],
   "source": [
    "# the columnns are 'id', 'sentiment'(0 = negative, 1 = positive), and 'review' (the actual text of review)\n",
    "train.columns.values"
   ]
  },
  {
   "cell_type": "markdown",
   "metadata": {},
   "source": [
    "### Let's take a look at an example review in the very first row of the training data. The \"id\" column gives you the ID # of the review, the \"review\" column is the actual raw text of the review, and the \"sentiment\" column consists of either 0 (negative review) or 1 (positive review)."
   ]
  },
  {
   "cell_type": "code",
   "execution_count": 6,
   "metadata": {},
   "outputs": [
    {
     "name": "stdout",
     "output_type": "stream",
     "text": [
      "ID:  \"5814_8\"\n",
      "REVIEW TEXT:  \"With all this stuff going down at the moment with MJ i've started listening to his music, watching the odd documentary here and there, watched The Wiz and watched Moonwalker again. Maybe i just want to get a certain insight into this guy who i thought was really cool in the eighties just to maybe make up my mind whether he is guilty or innocent. Moonwalker is part biography, part feature film which i remember going to see at the cinema when it was originally released. Some of it has subtle messages about MJ's feeling towards the press and also the obvious message of drugs are bad m'kay.<br /><br />Visually impressive but of course this is all about Michael Jackson so unless you remotely like MJ in anyway then you are going to hate this and find it boring. Some may call MJ an egotist for consenting to the making of this movie BUT MJ and most of his fans would say that he made it for the fans which if true is really nice of him.<br /><br />The actual feature film bit when it finally starts is only on for 20 minutes or so excluding the Smooth Criminal sequence and Joe Pesci is convincing as a psychopathic all powerful drug lord. Why he wants MJ dead so bad is beyond me. Because MJ overheard his plans? Nah, Joe Pesci's character ranted that he wanted people to know it is he who is supplying drugs etc so i dunno, maybe he just hates MJ's music.<br /><br />Lots of cool things in this like MJ turning into a car and a robot and the whole Speed Demon sequence. Also, the director must have had the patience of a saint when it came to filming the kiddy Bad sequence as usually directors hate working with one kid let alone a whole bunch of them performing a complex dance scene.<br /><br />Bottom line, this movie is for people who like MJ on one level or another (which i think is most people). If not, then stay away. It does try and give off a wholesome message and ironically MJ's bestest buddy in this movie is a girl! Michael Jackson is truly one of the most talented people ever to grace this planet but is he guilty? Well, with all the attention i've gave this subject....hmmm well i don't know because people can be different behind closed doors, i know this for a fact. He is either an extremely nice but stupid guy or one of the most sickest liars. I hope he is not the latter.\"\n",
      "SENTIMENT:  1\n"
     ]
    }
   ],
   "source": [
    "# Reading an example review, along with its id # and sentiment (0 = negative review, 1 = positive review)\n",
    "print(\"ID: \", train[\"id\"][0])\n",
    "print(\"REVIEW TEXT: \", train[\"review\"][0])\n",
    "print(\"SENTIMENT: \", train[\"sentiment\"][0])"
   ]
  },
  {
   "cell_type": "markdown",
   "metadata": {},
   "source": [
    "### It will be useful to save just the \"sentiment\" column as a single vector to a variable Y (for training purposes later). Let's do this now."
   ]
  },
  {
   "cell_type": "code",
   "execution_count": 7,
   "metadata": {},
   "outputs": [
    {
     "name": "stdout",
     "output_type": "stream",
     "text": [
      "[1 1 0 ..., 0 0 1]\n",
      "25000\n",
      "<class 'numpy.ndarray'>\n"
     ]
    }
   ],
   "source": [
    "# We will save the sentiment column as a Y value\n",
    "Y = train[\"sentiment\"].values # the .values attribute saves the column as a numpy array.\n",
    "print (Y)\n",
    "print (len(Y)) # Expected 25000\n",
    "print(type(Y)) # numpy array type"
   ]
  },
  {
   "cell_type": "markdown",
   "metadata": {},
   "source": [
    "### The raw review text contains html markings, punctuations, non-alphabetic characters and common \"stop words\" that generally do not aid us in ascertaining a review's sentiment. Thus, for purposes of training our predictor, we would prefer to have these removed from the raw text. We will proceed to do this now."
   ]
  },
  {
   "cell_type": "code",
   "execution_count": 8,
   "metadata": {},
   "outputs": [
    {
     "name": "stdout",
     "output_type": "stream",
     "text": [
      "Requirement already satisfied: beautifulsoup4 in d:\\program_files_nospace\\anaconda3\\lib\\site-packages\n"
     ]
    }
   ],
   "source": [
    "# We will use BeautifulSoup to parse the text\n",
    "!pip install beautifulsoup4\n",
    "from bs4 import BeautifulSoup"
   ]
  },
  {
   "cell_type": "markdown",
   "metadata": {},
   "source": [
    "### We'll first test the html parser that removes html markings from the raw text."
   ]
  },
  {
   "cell_type": "code",
   "execution_count": 10,
   "metadata": {},
   "outputs": [
    {
     "name": "stdout",
     "output_type": "stream",
     "text": [
      "\"With all this stuff going down at the moment with MJ i've started listening to his music, watching the odd documentary here and there, watched The Wiz and watched Moonwalker again. Maybe i just want to get a certain insight into this guy who i thought was really cool in the eighties just to maybe make up my mind whether he is guilty or innocent. Moonwalker is part biography, part feature film which i remember going to see at the cinema when it was originally released. Some of it has subtle messages about MJ's feeling towards the press and also the obvious message of drugs are bad m'kay.<br /><br />Visually impressive but of course this is all about Michael Jackson so unless you remotely like MJ in anyway then you are going to hate this and find it boring. Some may call MJ an egotist for consenting to the making of this movie BUT MJ and most of his fans would say that he made it for the fans which if true is really nice of him.<br /><br />The actual feature film bit when it finally starts is only on for 20 minutes or so excluding the Smooth Criminal sequence and Joe Pesci is convincing as a psychopathic all powerful drug lord. Why he wants MJ dead so bad is beyond me. Because MJ overheard his plans? Nah, Joe Pesci's character ranted that he wanted people to know it is he who is supplying drugs etc so i dunno, maybe he just hates MJ's music.<br /><br />Lots of cool things in this like MJ turning into a car and a robot and the whole Speed Demon sequence. Also, the director must have had the patience of a saint when it came to filming the kiddy Bad sequence as usually directors hate working with one kid let alone a whole bunch of them performing a complex dance scene.<br /><br />Bottom line, this movie is for people who like MJ on one level or another (which i think is most people). If not, then stay away. It does try and give off a wholesome message and ironically MJ's bestest buddy in this movie is a girl! Michael Jackson is truly one of the most talented people ever to grace this planet but is he guilty? Well, with all the attention i've gave this subject....hmmm well i don't know because people can be different behind closed doors, i know this for a fact. He is either an extremely nice but stupid guy or one of the most sickest liars. I hope he is not the latter.\"\n",
      "\n",
      "\"With all this stuff going down at the moment with MJ i've started listening to his music, watching the odd documentary here and there, watched The Wiz and watched Moonwalker again. Maybe i just want to get a certain insight into this guy who i thought was really cool in the eighties just to maybe make up my mind whether he is guilty or innocent. Moonwalker is part biography, part feature film which i remember going to see at the cinema when it was originally released. Some of it has subtle messages about MJ's feeling towards the press and also the obvious message of drugs are bad m'kay.Visually impressive but of course this is all about Michael Jackson so unless you remotely like MJ in anyway then you are going to hate this and find it boring. Some may call MJ an egotist for consenting to the making of this movie BUT MJ and most of his fans would say that he made it for the fans which if true is really nice of him.The actual feature film bit when it finally starts is only on for 20 minutes or so excluding the Smooth Criminal sequence and Joe Pesci is convincing as a psychopathic all powerful drug lord. Why he wants MJ dead so bad is beyond me. Because MJ overheard his plans? Nah, Joe Pesci's character ranted that he wanted people to know it is he who is supplying drugs etc so i dunno, maybe he just hates MJ's music.Lots of cool things in this like MJ turning into a car and a robot and the whole Speed Demon sequence. Also, the director must have had the patience of a saint when it came to filming the kiddy Bad sequence as usually directors hate working with one kid let alone a whole bunch of them performing a complex dance scene.Bottom line, this movie is for people who like MJ on one level or another (which i think is most people). If not, then stay away. It does try and give off a wholesome message and ironically MJ's bestest buddy in this movie is a girl! Michael Jackson is truly one of the most talented people ever to grace this planet but is he guilty? Well, with all the attention i've gave this subject....hmmm well i don't know because people can be different behind closed doors, i know this for a fact. He is either an extremely nice but stupid guy or one of the most sickest liars. I hope he is not the latter.\"\n"
     ]
    }
   ],
   "source": [
    "example1 = BeautifulSoup(train[\"review\"][0], \"html.parser\")\n",
    "print (train[\"review\"][0]  + \"\\n\")  # the raw review text\n",
    "print (example1.get_text()) # the review with html markings removed"
   ]
  },
  {
   "cell_type": "markdown",
   "metadata": {},
   "source": [
    "### Next, let's use regular expressions to remove all non-alphabetic chars, and test it on a single review."
   ]
  },
  {
   "cell_type": "code",
   "execution_count": 11,
   "metadata": {},
   "outputs": [
    {
     "name": "stdout",
     "output_type": "stream",
     "text": [
      " With all this stuff going down at the moment with MJ i ve started listening to his music  watching the odd documentary here and there  watched The Wiz and watched Moonwalker again  Maybe i just want to get a certain insight into this guy who i thought was really cool in the eighties just to maybe make up my mind whether he is guilty or innocent  Moonwalker is part biography  part feature film which i remember going to see at the cinema when it was originally released  Some of it has subtle messages about MJ s feeling towards the press and also the obvious message of drugs are bad m kay Visually impressive but of course this is all about Michael Jackson so unless you remotely like MJ in anyway then you are going to hate this and find it boring  Some may call MJ an egotist for consenting to the making of this movie BUT MJ and most of his fans would say that he made it for the fans which if true is really nice of him The actual feature film bit when it finally starts is only on for    minutes or so excluding the Smooth Criminal sequence and Joe Pesci is convincing as a psychopathic all powerful drug lord  Why he wants MJ dead so bad is beyond me  Because MJ overheard his plans  Nah  Joe Pesci s character ranted that he wanted people to know it is he who is supplying drugs etc so i dunno  maybe he just hates MJ s music Lots of cool things in this like MJ turning into a car and a robot and the whole Speed Demon sequence  Also  the director must have had the patience of a saint when it came to filming the kiddy Bad sequence as usually directors hate working with one kid let alone a whole bunch of them performing a complex dance scene Bottom line  this movie is for people who like MJ on one level or another  which i think is most people   If not  then stay away  It does try and give off a wholesome message and ironically MJ s bestest buddy in this movie is a girl  Michael Jackson is truly one of the most talented people ever to grace this planet but is he guilty  Well  with all the attention i ve gave this subject    hmmm well i don t know because people can be different behind closed doors  i know this for a fact  He is either an extremely nice but stupid guy or one of the most sickest liars  I hope he is not the latter  \n"
     ]
    }
   ],
   "source": [
    "# We will further use regular expressions to parse the text further, by removing all non-alphabetic chars\n",
    "import re\n",
    "# Use regular expressions to do a find-and-replace\n",
    "letters_only = re.sub(\"[^a-zA-Z]\",           # The pattern to search for\n",
    "                      \" \",                   # The pattern to replace it with\n",
    "                      example1.get_text() )  # The text to search\n",
    "print (letters_only)"
   ]
  },
  {
   "cell_type": "markdown",
   "metadata": {},
   "source": [
    "### For our purposes (sentiment analysis), there is no compelling reason to distinguish between capitalized and lowercase characters. So we'll turn all letters to lowercase. It's also a good idea to split the String to get a list, which is easier to work with."
   ]
  },
  {
   "cell_type": "code",
   "execution_count": 12,
   "metadata": {},
   "outputs": [
    {
     "name": "stdout",
     "output_type": "stream",
     "text": [
      "['with', 'all', 'this', 'stuff', 'going', 'down', 'at', 'the', 'moment', 'with', 'mj', 'i', 've', 'started', 'listening', 'to', 'his', 'music', 'watching', 'the', 'odd', 'documentary', 'here', 'and', 'there', 'watched', 'the', 'wiz', 'and', 'watched', 'moonwalker', 'again', 'maybe', 'i', 'just', 'want', 'to', 'get', 'a', 'certain', 'insight', 'into', 'this', 'guy', 'who', 'i', 'thought', 'was', 'really', 'cool', 'in', 'the', 'eighties', 'just', 'to', 'maybe', 'make', 'up', 'my', 'mind', 'whether', 'he', 'is', 'guilty', 'or', 'innocent', 'moonwalker', 'is', 'part', 'biography', 'part', 'feature', 'film', 'which', 'i', 'remember', 'going', 'to', 'see', 'at', 'the', 'cinema', 'when', 'it', 'was', 'originally', 'released', 'some', 'of', 'it', 'has', 'subtle', 'messages', 'about', 'mj', 's', 'feeling', 'towards', 'the', 'press', 'and', 'also', 'the', 'obvious', 'message', 'of', 'drugs', 'are', 'bad', 'm', 'kay', 'visually', 'impressive', 'but', 'of', 'course', 'this', 'is', 'all', 'about', 'michael', 'jackson', 'so', 'unless', 'you', 'remotely', 'like', 'mj', 'in', 'anyway', 'then', 'you', 'are', 'going', 'to', 'hate', 'this', 'and', 'find', 'it', 'boring', 'some', 'may', 'call', 'mj', 'an', 'egotist', 'for', 'consenting', 'to', 'the', 'making', 'of', 'this', 'movie', 'but', 'mj', 'and', 'most', 'of', 'his', 'fans', 'would', 'say', 'that', 'he', 'made', 'it', 'for', 'the', 'fans', 'which', 'if', 'true', 'is', 'really', 'nice', 'of', 'him', 'the', 'actual', 'feature', 'film', 'bit', 'when', 'it', 'finally', 'starts', 'is', 'only', 'on', 'for', 'minutes', 'or', 'so', 'excluding', 'the', 'smooth', 'criminal', 'sequence', 'and', 'joe', 'pesci', 'is', 'convincing', 'as', 'a', 'psychopathic', 'all', 'powerful', 'drug', 'lord', 'why', 'he', 'wants', 'mj', 'dead', 'so', 'bad', 'is', 'beyond', 'me', 'because', 'mj', 'overheard', 'his', 'plans', 'nah', 'joe', 'pesci', 's', 'character', 'ranted', 'that', 'he', 'wanted', 'people', 'to', 'know', 'it', 'is', 'he', 'who', 'is', 'supplying', 'drugs', 'etc', 'so', 'i', 'dunno', 'maybe', 'he', 'just', 'hates', 'mj', 's', 'music', 'lots', 'of', 'cool', 'things', 'in', 'this', 'like', 'mj', 'turning', 'into', 'a', 'car', 'and', 'a', 'robot', 'and', 'the', 'whole', 'speed', 'demon', 'sequence', 'also', 'the', 'director', 'must', 'have', 'had', 'the', 'patience', 'of', 'a', 'saint', 'when', 'it', 'came', 'to', 'filming', 'the', 'kiddy', 'bad', 'sequence', 'as', 'usually', 'directors', 'hate', 'working', 'with', 'one', 'kid', 'let', 'alone', 'a', 'whole', 'bunch', 'of', 'them', 'performing', 'a', 'complex', 'dance', 'scene', 'bottom', 'line', 'this', 'movie', 'is', 'for', 'people', 'who', 'like', 'mj', 'on', 'one', 'level', 'or', 'another', 'which', 'i', 'think', 'is', 'most', 'people', 'if', 'not', 'then', 'stay', 'away', 'it', 'does', 'try', 'and', 'give', 'off', 'a', 'wholesome', 'message', 'and', 'ironically', 'mj', 's', 'bestest', 'buddy', 'in', 'this', 'movie', 'is', 'a', 'girl', 'michael', 'jackson', 'is', 'truly', 'one', 'of', 'the', 'most', 'talented', 'people', 'ever', 'to', 'grace', 'this', 'planet', 'but', 'is', 'he', 'guilty', 'well', 'with', 'all', 'the', 'attention', 'i', 've', 'gave', 'this', 'subject', 'hmmm', 'well', 'i', 'don', 't', 'know', 'because', 'people', 'can', 'be', 'different', 'behind', 'closed', 'doors', 'i', 'know', 'this', 'for', 'a', 'fact', 'he', 'is', 'either', 'an', 'extremely', 'nice', 'but', 'stupid', 'guy', 'or', 'one', 'of', 'the', 'most', 'sickest', 'liars', 'i', 'hope', 'he', 'is', 'not', 'the', 'latter']\n"
     ]
    }
   ],
   "source": [
    "lower_case = letters_only.lower()        # Convert to lower case\n",
    "words = lower_case.split()               # Split into words to get a list\n",
    "print(words)"
   ]
  },
  {
   "cell_type": "markdown",
   "metadata": {},
   "source": [
    "### Now we'll use nltk to remove some common \"stopwords\" that don't contribute much to the meaning and thus aren't too helpful for training our sentiment classification predictor model. Again, we will test the stop words removal on a single review for now."
   ]
  },
  {
   "cell_type": "code",
   "execution_count": 15,
   "metadata": {},
   "outputs": [
    {
     "name": "stdout",
     "output_type": "stream",
     "text": [
      "Stopwords:\n",
      " ['i', 'me', 'my', 'myself', 'we', 'our', 'ours', 'ourselves', 'you', 'your', 'yours', 'yourself', 'yourselves', 'he', 'him', 'his', 'himself', 'she', 'her', 'hers', 'herself', 'it', 'its', 'itself', 'they', 'them', 'their', 'theirs', 'themselves', 'what', 'which', 'who', 'whom', 'this', 'that', 'these', 'those', 'am', 'is', 'are', 'was', 'were', 'be', 'been', 'being', 'have', 'has', 'had', 'having', 'do', 'does', 'did', 'doing', 'a', 'an', 'the', 'and', 'but', 'if', 'or', 'because', 'as', 'until', 'while', 'of', 'at', 'by', 'for', 'with', 'about', 'against', 'between', 'into', 'through', 'during', 'before', 'after', 'above', 'below', 'to', 'from', 'up', 'down', 'in', 'out', 'on', 'off', 'over', 'under', 'again', 'further', 'then', 'once', 'here', 'there', 'when', 'where', 'why', 'how', 'all', 'any', 'both', 'each', 'few', 'more', 'most', 'other', 'some', 'such', 'no', 'nor', 'not', 'only', 'own', 'same', 'so', 'than', 'too', 'very', 's', 't', 'can', 'will', 'just', 'don', 'should', 'now', 'd', 'll', 'm', 'o', 're', 've', 'y', 'ain', 'aren', 'couldn', 'didn', 'doesn', 'hadn', 'hasn', 'haven', 'isn', 'ma', 'mightn', 'mustn', 'needn', 'shan', 'shouldn', 'wasn', 'weren', 'won', 'wouldn']\n",
      "\n",
      "Orig. review with stop words removed::\n",
      " ['stuff', 'going', 'moment', 'mj', 'started', 'listening', 'music', 'watching', 'odd', 'documentary', 'watched', 'wiz', 'watched', 'moonwalker', 'maybe', 'want', 'get', 'certain', 'insight', 'guy', 'thought', 'really', 'cool', 'eighties', 'maybe', 'make', 'mind', 'whether', 'guilty', 'innocent', 'moonwalker', 'part', 'biography', 'part', 'feature', 'film', 'remember', 'going', 'see', 'cinema', 'originally', 'released', 'subtle', 'messages', 'mj', 'feeling', 'towards', 'press', 'also', 'obvious', 'message', 'drugs', 'bad', 'kay', 'visually', 'impressive', 'course', 'michael', 'jackson', 'unless', 'remotely', 'like', 'mj', 'anyway', 'going', 'hate', 'find', 'boring', 'may', 'call', 'mj', 'egotist', 'consenting', 'making', 'movie', 'mj', 'fans', 'would', 'say', 'made', 'fans', 'true', 'really', 'nice', 'actual', 'feature', 'film', 'bit', 'finally', 'starts', 'minutes', 'excluding', 'smooth', 'criminal', 'sequence', 'joe', 'pesci', 'convincing', 'psychopathic', 'powerful', 'drug', 'lord', 'wants', 'mj', 'dead', 'bad', 'beyond', 'mj', 'overheard', 'plans', 'nah', 'joe', 'pesci', 'character', 'ranted', 'wanted', 'people', 'know', 'supplying', 'drugs', 'etc', 'dunno', 'maybe', 'hates', 'mj', 'music', 'lots', 'cool', 'things', 'like', 'mj', 'turning', 'car', 'robot', 'whole', 'speed', 'demon', 'sequence', 'also', 'director', 'must', 'patience', 'saint', 'came', 'filming', 'kiddy', 'bad', 'sequence', 'usually', 'directors', 'hate', 'working', 'one', 'kid', 'let', 'alone', 'whole', 'bunch', 'performing', 'complex', 'dance', 'scene', 'bottom', 'line', 'movie', 'people', 'like', 'mj', 'one', 'level', 'another', 'think', 'people', 'stay', 'away', 'try', 'give', 'wholesome', 'message', 'ironically', 'mj', 'bestest', 'buddy', 'movie', 'girl', 'michael', 'jackson', 'truly', 'one', 'talented', 'people', 'ever', 'grace', 'planet', 'guilty', 'well', 'attention', 'gave', 'subject', 'hmmm', 'well', 'know', 'people', 'different', 'behind', 'closed', 'doors', 'know', 'fact', 'either', 'extremely', 'nice', 'stupid', 'guy', 'one', 'sickest', 'liars', 'hope', 'latter']\n"
     ]
    }
   ],
   "source": [
    "import nltk\n",
    "# nltk.download()    # uncomment this if you haven't downloaded the stopwords corpora.\n",
    "from nltk.corpus import stopwords\n",
    "print(\"Stopwords:\\n\", stopwords.words(\"english\")) # This is the list of stop words. These will be removed from the reviews\n",
    "\n",
    "# Remove stop words from \"words\"\n",
    "words_minus_stopwords = [w for w in words if not w in stopwords.words(\"english\")]\n",
    "print (\"\\nOrig. review with stop words removed::\\n\", words_minus_stopwords)"
   ]
  },
  {
   "cell_type": "markdown",
   "metadata": {},
   "source": [
    "### We will quickly verify how many stop words have been removed from the original review."
   ]
  },
  {
   "cell_type": "code",
   "execution_count": 16,
   "metadata": {},
   "outputs": [
    {
     "name": "stdout",
     "output_type": "stream",
     "text": [
      "437\n",
      "219\n",
      "218\n"
     ]
    }
   ],
   "source": [
    "# Comparing the length of original list of words vs. list of words excluding stopwords\n",
    "print (len(words))\n",
    "print (len(words_minus_stopwords))\n",
    "\n",
    "# Confirming that there are 437 - 219 = 218 stopwords that have been removed from the original list of words\n",
    "diff = [a for a in words+words_minus_stopwords if (a not in words) or (a not in words_minus_stopwords)]\n",
    "print(len(diff)) # this value should equal 437-219 = 218"
   ]
  },
  {
   "cell_type": "markdown",
   "metadata": {},
   "source": [
    "### Remember, all of the above processing was one for just a single review. But we want to apply the processing to all the reviews in the training data. Thus we'll make a function to do this."
   ]
  },
  {
   "cell_type": "code",
   "execution_count": 17,
   "metadata": {
    "collapsed": true
   },
   "outputs": [],
   "source": [
    "# Let's make a function to accomplish what we did above, since we'll be calling this function a lot of times\n",
    "def review_to_words( raw_review ):\n",
    "    # Function to convert a raw review to a string of words\n",
    "    # The input is a single string (a raw movie review), and \n",
    "    # the output is a single string (a preprocessed, \"cleaned-up\" movie review)\n",
    "    #\n",
    "    # 1. Remove HTML\n",
    "    review_text = BeautifulSoup(raw_review, \"html.parser\").get_text() \n",
    "    #\n",
    "    # 2. Remove non-letters        \n",
    "    letters_only = re.sub(\"[^a-zA-Z]\", \" \", review_text)\n",
    "    #\n",
    "    # 3. Convert to lower case, split into individual words\n",
    "    words = letters_only.lower().split()                             \n",
    "    #\n",
    "    # 4. In Python, searching a set is much faster than\n",
    "    # searching a list, so we'll convert the stop words to a set\n",
    "    stops = set(stopwords.words(\"english\"))        #set of stopwords which we want to disregard\n",
    "    # \n",
    "    # 5. Remove stop words\n",
    "    meaningful_words = [w for w in words if not w in stops] \n",
    "#     print(len(meaningful_words))  # just testing\n",
    "    #\n",
    "    # 6. Join the words back into one string separated by space, \n",
    "    # and return the result. We do this instead of returning the list because\n",
    "    # returning this will make it easier to use with our Bag of Words model.\n",
    "    return( \" \".join( meaningful_words ))"
   ]
  },
  {
   "cell_type": "markdown",
   "metadata": {},
   "source": [
    "### Now let's go through the entire training set of reviews and clean them all up at once, using the above function."
   ]
  },
  {
   "cell_type": "code",
   "execution_count": 18,
   "metadata": {},
   "outputs": [
    {
     "name": "stdout",
     "output_type": "stream",
     "text": [
      "Processing Review 1000 of 25000...Review 2000 of 25000...Review 3000 of 25000...Review 4000 of 25000...Review 5000 of 25000...Review 6000 of 25000...Review 7000 of 25000...Review 8000 of 25000...Review 9000 of 25000...Review 10000 of 25000...Review 11000 of 25000...Review 12000 of 25000...Review 13000 of 25000...Review 14000 of 25000...Review 15000 of 25000...Review 16000 of 25000...Review 17000 of 25000...Review 18000 of 25000...Review 19000 of 25000...Review 20000 of 25000...Review 21000 of 25000...Review 22000 of 25000...Review 23000 of 25000...Review 24000 of 25000...Review 25000 of 25000...Done!\n"
     ]
    }
   ],
   "source": [
    "# Now let's go thru the entire training set of reviews and clean up all of them at once\n",
    "# This might take a few minutes\n",
    "# Get the number of reviews based on the dataframe column size\n",
    "num_reviews = train[\"review\"].size\n",
    "\n",
    "# Initialize an empty list to hold the clean reviews\n",
    "clean_train_reviews = []\n",
    "\n",
    "# Loop over each review; create an index i that goes from 0 to the length\n",
    "# of the movie review list \n",
    "print (\"Processing \", end=\"\")\n",
    "for i in range( 0, num_reviews ):\n",
    "    # If the index is evenly divisible by 1000, print a message for user friendliness\n",
    "    if( (i+1)%1000 == 0 ):\n",
    "        print (\"Review {} of {}...\".format(i+1, num_reviews ), end=\"\")\n",
    "    # Call our function for each one, and add the result to the list of\n",
    "    # clean reviews\n",
    "    clean_train_reviews.append( review_to_words( train[\"review\"][i] ) )\n",
    "print(\"Done!\")"
   ]
  },
  {
   "cell_type": "markdown",
   "metadata": {},
   "source": [
    "### All the reviews in the training data set should now be parsed and processed. We will verify this by looking at one of the reviews."
   ]
  },
  {
   "cell_type": "code",
   "execution_count": 19,
   "metadata": {},
   "outputs": [
    {
     "name": "stdout",
     "output_type": "stream",
     "text": [
      "Example of a processed review:\n",
      " stuff going moment mj started listening music watching odd documentary watched wiz watched moonwalker maybe want get certain insight guy thought really cool eighties maybe make mind whether guilty innocent moonwalker part biography part feature film remember going see cinema originally released subtle messages mj feeling towards press also obvious message drugs bad kay visually impressive course michael jackson unless remotely like mj anyway going hate find boring may call mj egotist consenting making movie mj fans would say made fans true really nice actual feature film bit finally starts minutes excluding smooth criminal sequence joe pesci convincing psychopathic powerful drug lord wants mj dead bad beyond mj overheard plans nah joe pesci character ranted wanted people know supplying drugs etc dunno maybe hates mj music lots cool things like mj turning car robot whole speed demon sequence also director must patience saint came filming kiddy bad sequence usually directors hate working one kid let alone whole bunch performing complex dance scene bottom line movie people like mj one level another think people stay away try give wholesome message ironically mj bestest buddy movie girl michael jackson truly one talented people ever grace planet guilty well attention gave subject hmmm well know people different behind closed doors know fact either extremely nice stupid guy one sickest liars hope latter\n",
      "\n",
      "Total No. of reviews that have been processed:  25000\n"
     ]
    }
   ],
   "source": [
    "print(\"Example of a processed review:\\n\", clean_train_reviews[0]) #Testing\n",
    "print(\"\\nTotal No. of reviews that have been processed: \", len(clean_train_reviews)) # Should be 25000 reviews"
   ]
  },
  {
   "cell_type": "code",
   "execution_count": 20,
   "metadata": {},
   "outputs": [
    {
     "name": "stdout",
     "output_type": "stream",
     "text": [
      "<class 'str'>\n"
     ]
    }
   ],
   "source": [
    "print(type(clean_train_reviews[0])) # should be str"
   ]
  },
  {
   "cell_type": "markdown",
   "metadata": {},
   "source": [
    "# 1. Processing text to design matrices\n",
    "### Now that we have a parsed, processed list of all 25,000 reviews, we will create 4 different design matrices with which to train our review sentiment predictor, as follows:\n",
    "\n",
    "X_counts, X_binary, X_tfidf, and X_binary_imbalance will be created. The properties of each matrix are:\n",
    "\n",
    "X_counts contains the raw word counts (the blog mentioned at the top of this experiment also does this, so in this case we aren't doing anything too different). \n",
    "\n",
    "X_binary modifies X_counts so that all elements are either 0 or 1. \n",
    "\n",
    "X_tfidf modifies X_counts by applying the sklearn tfidf vectorizer (http://scikit-learn.org/stable/modules/feature_extraction.html) with smooth_idf=false.\n",
    "\n",
    "For X_binary_imbalance, we'll start with X_binary, set our rng seed to 0 and then delete 75% of the rows at random corresponding to sentiment=1, thus creating an imbalanced data set.\n",
    "\n",
    "### First, we will create X_counts by using sklearn's CountVectorizer. As implemented below, X_counts can be understood as a 2-D numpy array with 25000 rows and 5000 columns, corresponding to 25000 reviews and 5000 \"features\" (a.k.a. 5000 words in our vocabulary). In other words, each of the 25000 rows contains 5000 elements, where each element is the count of a corresponding word in the 5000-word vocabulary.\n",
    "\n",
    "### (Why is the vocabulary only 5000 words? This is a constraint that we decided to impose when initializing CountVectorizer (see code comments below) for efficiency reasons.)"
   ]
  },
  {
   "cell_type": "code",
   "execution_count": 21,
   "metadata": {},
   "outputs": [
    {
     "name": "stdout",
     "output_type": "stream",
     "text": [
      "CountVectorizer(analyzer='word', binary=False, decode_error='strict',\n",
      "        dtype=<class 'numpy.int64'>, encoding='utf-8', input='content',\n",
      "        lowercase=True, max_df=1.0, max_features=5000, min_df=1,\n",
      "        ngram_range=(1, 1), preprocessor=None, stop_words=None,\n",
      "        strip_accents=None, token_pattern='(?u)\\\\b\\\\w\\\\w+\\\\b',\n",
      "        tokenizer=None, vocabulary=None)\n",
      "Creating the bag of words...Done.\n",
      "The dimension of X_counts (expected 25000, 5000):  (25000, 5000)\n",
      "Type of X_counts (before conversion):  <class 'scipy.sparse.csr.csr_matrix'>\n",
      "Type of X_counts (after conversion):  <class 'numpy.ndarray'>\n",
      "Printing first row of X_counts for testing...\n",
      " [0, 0, 0, 0, 0, 0, 0, 0, 0, 0, 0, 0, 0, 0, 0, 0, 0, 0, 0, 0, 0, 0, 0, 0, 0, 0, 0, 0, 0, 0, 0, 0, 0, 0, 0, 0, 0, 0, 0, 0, 0, 0, 0, 0, 0, 0, 1, 0, 0, 0, 0, 0, 0, 0, 0, 0, 0, 0, 0, 0, 0, 0, 0, 0, 0, 0, 0, 0, 0, 0, 0, 0, 0, 0, 0, 0, 0, 0, 0, 0, 0, 0, 0, 0, 0, 0, 0, 0, 0, 0, 0, 0, 0, 0, 0, 0, 0, 0, 0, 0, 0, 0, 0, 0, 0, 0, 0, 0, 0, 0, 0, 0, 0, 0, 0, 0, 0, 0, 0, 0, 0, 0, 0, 0, 0, 0, 0, 0, 0, 0, 0, 0, 1, 0, 0, 0, 0, 2, 0, 0, 0, 0, 0, 0, 0, 0, 0, 0, 0, 0, 0, 0, 0, 0, 0, 0, 0, 0, 0, 0, 0, 0, 0, 0, 0, 0, 0, 0, 0, 0, 0, 0, 0, 0, 0, 0, 0, 0, 0, 0, 0, 0, 0, 0, 0, 0, 0, 0, 0, 1, 0, 0, 0, 0, 0, 0, 0, 0, 0, 0, 0, 1, 0, 0, 0, 0, 0, 0, 0, 0, 0, 0, 0, 0, 0, 0, 0, 0, 0, 0, 0, 0, 0, 0, 0, 0, 0, 0, 0, 0, 0, 0, 0, 0, 0, 0, 0, 0, 0, 0, 0, 0, 0, 0, 0, 0, 0, 0, 0, 0, 0, 0, 0, 0, 0, 0, 0, 0, 0, 0, 0, 0, 0, 0, 0, 0, 0, 0, 0, 0, 0, 0, 0, 0, 0, 0, 0, 0, 0, 0, 0, 0, 0, 1, 0, 0, 0, 0, 0, 0, 0, 0, 0, 0, 0, 0, 0, 0, 0, 0, 0, 0, 0, 0, 0, 0, 0, 0, 0, 1, 0, 0, 0, 0, 0, 0, 0, 0, 0, 0, 0, 0, 0, 3, 0, 0, 0, 0, 0, 0, 0, 0, 0, 0, 0, 0, 0, 0, 0, 0, 0, 0, 0, 0, 0, 0, 0, 0, 0, 0, 0, 0, 0, 0, 0, 0, 0, 0, 0, 0, 0, 0, 0, 0, 0, 0, 0, 0, 0, 0, 0, 0, 0, 0, 0, 0, 0, 0, 0, 0, 0, 0, 0, 0, 0, 0, 1, 0, 0, 0, 0, 0, 0, 0, 0, 0, 0, 0, 0, 0, 0, 0, 0, 0, 0, 0, 0, 0, 0, 0, 0, 0, 0, 1, 0, 0, 0, 0, 0, 0, 0, 0, 0, 1, 0, 0, 0, 0, 1, 0, 0, 0, 0, 0, 0, 0, 0, 0, 0, 0, 0, 0, 0, 0, 0, 0, 0, 0, 0, 0, 0, 0, 0, 0, 0, 0, 0, 0, 0, 0, 0, 0, 0, 0, 0, 0, 0, 0, 0, 0, 0, 0, 0, 0, 0, 0, 0, 0, 0, 0, 0, 0, 0, 1, 0, 0, 0, 0, 0, 0, 1, 0, 0, 0, 0, 0, 0, 0, 0, 0, 0, 0, 0, 0, 0, 0, 0, 0, 0, 0, 0, 0, 0, 0, 0, 0, 0, 0, 0, 0, 0, 0, 0, 0, 0, 0, 0, 0, 0, 0, 0, 0, 0, 0, 0, 0, 0, 0, 0, 0, 0, 0, 0, 0, 0, 0, 0, 0, 0, 0, 1, 0, 0, 0, 0, 0, 0, 0, 0, 0, 0, 0, 0, 0, 0, 0, 1, 0, 0, 0, 0, 0, 0, 0, 0, 0, 0, 0, 0, 0, 0, 0, 0, 0, 0, 0, 0, 0, 0, 0, 0, 0, 0, 0, 1, 0, 0, 0, 0, 1, 0, 0, 0, 0, 0, 0, 0, 0, 0, 0, 0, 0, 0, 0, 0, 0, 0, 0, 0, 0, 0, 0, 1, 0, 0, 0, 0, 0, 0, 0, 0, 0, 0, 0, 0, 0, 0, 0, 0, 0, 0, 0, 0, 0, 0, 0, 0, 0, 0, 0, 0, 0, 0, 0, 0, 0, 0, 0, 0, 0, 0, 0, 0, 0, 0, 0, 0, 0, 0, 0, 0, 0, 0, 0, 0, 0, 0, 0, 0, 0, 0, 0, 1, 0, 0, 0, 0, 0, 0, 0, 0, 0, 0, 0, 0, 0, 0, 0, 0, 0, 0, 0, 0, 1, 0, 0, 0, 0, 0, 0, 0, 0, 0, 0, 0, 0, 0, 0, 0, 0, 0, 0, 0, 0, 0, 0, 0, 0, 0, 0, 0, 0, 0, 0, 0, 0, 0, 0, 0, 0, 0, 0, 0, 0, 0, 0, 0, 0, 0, 0, 0, 0, 0, 0, 0, 0, 0, 0, 0, 0, 0, 0, 0, 0, 1, 0, 0, 0, 0, 0, 0, 0, 0, 0, 0, 0, 0, 0, 0, 0, 0, 0, 0, 0, 0, 0, 0, 0, 0, 0, 0, 0, 0, 0, 0, 0, 0, 0, 0, 0, 0, 1, 0, 0, 0, 0, 0, 0, 0, 0, 0, 0, 0, 0, 0, 0, 0, 0, 0, 0, 0, 0, 0, 0, 0, 0, 0, 0, 0, 0, 0, 0, 0, 0, 0, 0, 0, 0, 0, 0, 0, 0, 0, 0, 0, 0, 0, 0, 0, 0, 0, 0, 0, 0, 0, 0, 0, 0, 0, 0, 0, 0, 0, 0, 0, 0, 0, 0, 0, 0, 0, 0, 0, 0, 0, 1, 0, 0, 0, 0, 0, 0, 0, 0, 0, 0, 0, 0, 0, 0, 0, 0, 0, 0, 0, 0, 0, 0, 0, 0, 0, 0, 0, 0, 0, 0, 0, 0, 0, 0, 0, 0, 0, 0, 0, 0, 0, 0, 0, 0, 0, 0, 0, 0, 0, 0, 0, 0, 0, 0, 0, 0, 0, 0, 0, 0, 0, 0, 0, 0, 0, 0, 0, 1, 0, 0, 0, 2, 0, 0, 0, 0, 0, 0, 0, 0, 0, 0, 0, 0, 0, 0, 0, 0, 0, 0, 0, 0, 0, 0, 0, 0, 0, 0, 0, 0, 1, 0, 0, 0, 0, 0, 0, 0, 0, 0, 0, 0, 0, 0, 0, 0, 0, 0, 0, 0, 0, 0, 0, 0, 0, 0, 0, 0, 0, 0, 0, 0, 0, 0, 0, 0, 0, 0, 0, 0, 0, 0, 1, 0, 0, 0, 0, 0, 0, 0, 0, 0, 0, 0, 0, 0, 0, 0, 0, 0, 0, 0, 0, 0, 0, 0, 0, 0, 0, 0, 0, 0, 0, 0, 0, 0, 0, 0, 0, 0, 0, 0, 0, 0, 0, 0, 0, 0, 0, 0, 0, 1, 0, 0, 0, 0, 0, 0, 0, 0, 0, 0, 0, 0, 0, 0, 0, 0, 0, 0, 0, 0, 0, 0, 0, 0, 0, 0, 0, 0, 0, 1, 0, 0, 0, 0, 0, 0, 0, 0, 0, 0, 0, 0, 0, 0, 0, 0, 0, 0, 0, 0, 0, 0, 0, 0, 0, 0, 0, 0, 0, 0, 0, 0, 0, 0, 0, 0, 0, 0, 0, 0, 0, 0, 0, 0, 0, 0, 1, 0, 0, 0, 0, 0, 0, 0, 0, 0, 0, 0, 0, 0, 0, 0, 0, 0, 0, 0, 0, 0, 0, 0, 0, 0, 0, 0, 0, 0, 0, 0, 0, 0, 0, 0, 0, 0, 0, 0, 0, 0, 0, 0, 0, 0, 0, 0, 0, 0, 0, 0, 0, 0, 0, 0, 0, 0, 0, 0, 0, 0, 0, 0, 0, 0, 0, 0, 0, 1, 0, 0, 0, 0, 0, 0, 0, 0, 0, 0, 0, 0, 0, 0, 0, 0, 0, 1, 0, 1, 0, 0, 0, 0, 0, 0, 0, 0, 0, 0, 0, 0, 0, 0, 0, 0, 0, 0, 0, 0, 0, 0, 0, 0, 0, 0, 0, 0, 0, 0, 0, 0, 0, 0, 0, 0, 0, 0, 0, 1, 0, 0, 0, 0, 0, 0, 0, 0, 0, 0, 0, 0, 0, 0, 0, 0, 1, 0, 0, 0, 0, 0, 0, 0, 0, 0, 0, 0, 0, 0, 0, 0, 0, 0, 0, 0, 0, 0, 0, 0, 0, 0, 0, 0, 0, 0, 0, 0, 0, 0, 0, 0, 0, 0, 0, 0, 0, 0, 0, 0, 0, 0, 1, 2, 0, 0, 0, 0, 0, 0, 0, 0, 0, 0, 0, 0, 0, 0, 0, 0, 0, 0, 0, 0, 0, 0, 0, 0, 0, 0, 0, 0, 0, 0, 0, 0, 0, 0, 0, 0, 0, 0, 0, 0, 0, 0, 0, 0, 0, 0, 0, 0, 0, 0, 0, 0, 0, 0, 0, 0, 0, 0, 0, 0, 1, 1, 0, 0, 0, 0, 0, 0, 0, 0, 0, 0, 0, 0, 0, 0, 0, 0, 0, 0, 0, 0, 0, 0, 0, 0, 0, 0, 0, 0, 0, 0, 0, 0, 0, 0, 0, 0, 0, 0, 0, 0, 0, 0, 0, 0, 0, 0, 0, 0, 0, 0, 0, 0, 0, 0, 0, 0, 0, 0, 0, 0, 0, 0, 0, 0, 0, 0, 0, 0, 0, 0, 0, 0, 0, 0, 0, 0, 0, 0, 0, 0, 0, 0, 0, 0, 0, 0, 0, 0, 0, 0, 0, 1, 0, 0, 0, 0, 0, 0, 0, 0, 0, 0, 0, 1, 0, 0, 0, 0, 0, 0, 0, 0, 0, 0, 0, 0, 0, 0, 0, 0, 0, 0, 0, 0, 0, 0, 0, 0, 0, 0, 0, 0, 0, 0, 0, 0, 0, 0, 0, 0, 0, 0, 0, 0, 0, 0, 0, 0, 0, 0, 0, 0, 0, 0, 0, 0, 0, 0, 0, 0, 0, 0, 0, 0, 0, 0, 0, 0, 0, 0, 0, 0, 0, 0, 0, 0, 0, 0, 1, 0, 0, 0, 0, 0, 0, 0, 0, 0, 0, 1, 0, 0, 0, 0, 0, 0, 0, 0, 0, 0, 0, 0, 0, 0, 0, 0, 0, 0, 0, 0, 0, 0, 0, 0, 0, 0, 0, 2, 0, 0, 0, 0, 0, 0, 0, 0, 0, 0, 0, 0, 0, 0, 0, 0, 0, 0, 0, 0, 0, 0, 0, 0, 0, 0, 0, 2, 0, 0, 0, 0, 0, 0, 1, 0, 0, 0, 0, 0, 0, 0, 0, 0, 0, 0, 0, 0, 0, 0, 0, 0, 0, 0, 0, 0, 0, 0, 0, 0, 0, 0, 0, 0, 0, 0, 0, 2, 0, 1, 0, 0, 0, 0, 0, 1, 0, 1, 0, 0, 0, 0, 0, 0, 0, 0, 0, 0, 0, 0, 0, 0, 0, 0, 0, 0, 0, 0, 0, 0, 0, 0, 0, 0, 0, 0, 0, 0, 0, 0, 0, 0, 0, 0, 0, 0, 0, 0, 0, 0, 0, 0, 0, 0, 0, 0, 0, 0, 0, 0, 0, 0, 0, 0, 0, 0, 0, 0, 0, 0, 0, 0, 0, 0, 0, 0, 0, 0, 0, 0, 0, 0, 0, 0, 0, 0, 0, 0, 0, 0, 0, 0, 0, 0, 0, 0, 0, 0, 0, 0, 0, 0, 0, 0, 0, 0, 0, 0, 0, 0, 0, 0, 0, 0, 0, 0, 0, 0, 0, 0, 0, 0, 0, 0, 0, 0, 0, 0, 0, 0, 0, 0, 0, 0, 0, 0, 0, 0, 0, 0, 0, 0, 0, 0, 0, 0, 0, 0, 0, 0, 0, 0, 0, 0, 0, 0, 0, 0, 0, 0, 0, 1, 0, 0, 0, 0, 0, 0, 0, 0, 0, 0, 0, 0, 0, 0, 0, 0, 0, 0, 0, 0, 0, 0, 0, 1, 0, 0, 0, 0, 0, 0, 0, 0, 0, 1, 0, 0, 1, 0, 0, 0, 0, 0, 0, 0, 0, 0, 0, 0, 0, 0, 0, 0, 0, 0, 0, 3, 0, 0, 0, 0, 0, 0, 0, 0, 0, 0, 0, 0, 0, 0, 0, 0, 0, 0, 0, 1, 0, 0, 0, 0, 0, 0, 0, 0, 0, 0, 0, 0, 0, 0, 0, 0, 0, 0, 0, 0, 0, 0, 0, 0, 0, 0, 0, 0, 0, 0, 0, 0, 0, 0, 0, 0, 0, 0, 0, 0, 0, 0, 0, 0, 0, 0, 0, 0, 0, 0, 0, 2, 0, 0, 0, 0, 2, 0, 0, 0, 0, 0, 0, 0, 0, 0, 0, 0, 0, 0, 0, 0, 0, 0, 0, 0, 0, 0, 0, 0, 0, 0, 0, 0, 0, 0, 0, 0, 0, 0, 0, 0, 0, 0, 0, 0, 0, 0, 0, 0, 2, 0, 1, 0, 0, 0, 0, 0, 0, 0, 0, 0, 0, 0, 0, 0, 0, 0, 0, 0, 0, 0, 0, 0, 0, 0, 0, 0, 0, 0, 0, 0, 0, 0, 0, 0, 0, 0, 0, 0, 0, 0, 0, 0, 0, 0, 0, 0, 0, 0, 0, 0, 0, 0, 0, 0, 0, 0, 0, 0, 0, 0, 0, 0, 0, 0, 0, 0, 0, 0, 0, 0, 0, 0, 0, 0, 0, 0, 0, 0, 0, 0, 0, 0, 0, 0, 0, 0, 0, 0, 0, 0, 0, 0, 0, 0, 1, 0, 0, 0, 0, 0, 0, 0, 0, 0, 0, 0, 0, 0, 0, 0, 0, 0, 0, 0, 0, 0, 0, 0, 0, 0, 0, 0, 0, 0, 0, 0, 0, 0, 0, 0, 0, 0, 0, 0, 0, 0, 0, 0, 0, 0, 0, 0, 0, 0, 0, 0, 0, 0, 0, 0, 0, 0, 0, 0, 0, 0, 0, 0, 0, 0, 0, 0, 0, 0, 0, 0, 0, 0, 0, 0, 0, 0, 0, 0, 0, 0, 0, 0, 0, 0, 0, 0, 0, 0, 0, 0, 0, 0, 0, 1, 0, 0, 0, 0, 0, 0, 0, 0, 0, 0, 0, 0, 0, 0, 0, 0, 0, 0, 0, 0, 0, 0, 0, 0, 0, 0, 0, 0, 0, 0, 0, 0, 0, 0, 0, 0, 0, 0, 0, 0, 0, 1, 0, 0, 0, 1, 0, 0, 0, 0, 0, 0, 0, 0, 0, 0, 0, 0, 0, 0, 0, 0, 0, 0, 0, 0, 0, 0, 0, 0, 0, 0, 0, 0, 0, 0, 0, 0, 0, 0, 0, 0, 0, 0, 0, 0, 0, 0, 0, 0, 0, 0, 0, 0, 0, 0, 0, 0, 0, 0, 0, 0, 0, 0, 1, 0, 0, 0, 0, 0, 0, 0, 0, 0, 0, 0, 0, 2, 0, 0, 0, 0, 0, 0, 0, 0, 0, 0, 0, 0, 0, 0, 0, 0, 0, 0, 0, 0, 0, 0, 0, 0, 0, 0, 0, 0, 0, 0, 0, 2, 0, 0, 0, 0, 0, 0, 0, 0, 0, 0, 0, 0, 0, 0, 0, 0, 0, 0, 0, 0, 0, 0, 0, 0, 0, 0, 0, 0, 0, 0, 0, 0, 0, 0, 0, 0, 0, 0, 0, 0, 0, 0, 1, 0, 0, 0, 0, 0, 0, 0, 0, 0, 0, 0, 0, 0, 0, 0, 0, 0, 1, 0, 0, 0, 0, 0, 0, 0, 0, 0, 0, 0, 0, 0, 0, 0, 0, 0, 0, 0, 0, 0, 0, 0, 3, 0, 0, 0, 0, 0, 0, 0, 0, 0, 0, 0, 0, 0, 0, 0, 0, 0, 0, 0, 0, 0, 0, 0, 0, 0, 0, 0, 0, 0, 0, 0, 0, 0, 0, 0, 0, 0, 0, 0, 0, 0, 0, 0, 1, 0, 0, 0, 0, 0, 0, 0, 0, 0, 0, 0, 0, 0, 0, 0, 0, 0, 0, 0, 0, 0, 0, 0, 0, 0, 0, 0, 0, 0, 0, 0, 0, 0, 0, 0, 0, 0, 0, 0, 0, 0, 0, 0, 0, 0, 0, 0, 0, 0, 0, 0, 0, 1, 0, 0, 0, 0, 1, 0, 0, 0, 0, 0, 0, 0, 0, 0, 0, 0, 0, 0, 0, 3, 0, 0, 0, 0, 0, 0, 0, 0, 0, 0, 1, 0, 0, 0, 0, 0, 0, 0, 0, 0, 1, 0, 0, 0, 0, 0, 0, 0, 0, 0, 0, 0, 0, 0, 0, 0, 0, 0, 0, 0, 0, 0, 0, 0, 0, 0, 0, 0, 0, 0, 0, 0, 0, 1, 0, 0, 0, 0, 0, 0, 0, 0, 0, 1, 0, 0, 0, 0, 0, 0, 0, 0, 0, 0, 0, 0, 0, 0, 0, 0, 0, 0, 0, 0, 0, 0, 0, 0, 0, 0, 0, 0, 0, 0, 0, 0, 0, 0, 0, 0, 0, 1, 0, 0, 0, 0, 0, 0, 0, 0, 0, 0, 0, 0, 0, 0, 0, 0, 1, 0, 0, 0, 0, 1, 0, 0, 0, 0, 0, 0, 0, 0, 0, 0, 0, 0, 0, 0, 0, 0, 0, 0, 0, 0, 0, 0, 0, 0, 0, 0, 0, 0, 0, 0, 0, 0, 0, 0, 0, 0, 0, 0, 0, 0, 0, 0, 0, 0, 0, 0, 0, 0, 0, 0, 0, 0, 0, 0, 0, 0, 0, 0, 0, 0, 0, 0, 1, 3, 0, 0, 0, 0, 0, 0, 0, 0, 0, 0, 0, 0, 0, 0, 0, 0, 0, 0, 0, 0, 0, 0, 0, 0, 0, 0, 0, 0, 0, 0, 0, 0, 0, 0, 0, 0, 0, 0, 0, 0, 0, 0, 0, 2, 1, 0, 0, 0, 0, 0, 0, 0, 0, 0, 2, 0, 0, 0, 0, 0, 0, 0, 0, 0, 0, 0, 0, 0, 0, 0, 0, 0, 0, 0, 0, 0, 0, 1, 0, 0, 0, 0, 0, 0, 0, 0, 0, 1, 0, 0, 0, 0, 0, 0, 0, 0, 0, 0, 0, 0, 0, 0, 0, 0, 0, 0, 0, 0, 0, 0, 0, 0, 0, 0, 0, 0, 1, 0, 0, 0, 0, 0, 0, 0, 0, 0, 0, 0, 0, 0, 0, 0, 0, 0, 0, 0, 0, 0, 0, 0, 0, 0, 0, 0, 0, 0, 0, 0, 0, 0, 0, 0, 0, 0, 3, 0, 0, 0, 0, 0, 0, 0, 0, 0, 0, 0, 0, 0, 0, 0, 0, 0, 0, 0, 0, 2, 0, 0, 0, 1, 0, 0, 0, 0, 0, 0, 0, 0, 0, 0, 0, 0, 0, 0, 0, 0, 0, 0, 0, 0, 0, 0, 0, 0, 0, 0, 0, 0, 0, 0, 0, 0, 0, 0, 0, 0, 0, 0, 0, 0, 0, 0, 0, 0, 0, 0, 0, 0, 0, 0, 0, 0, 0, 0, 0, 0, 0, 0, 0, 2, 0, 0, 0, 0, 0, 0, 0, 0, 0, 0, 0, 0, 0, 0, 0, 0, 0, 0, 0, 0, 0, 0, 0, 0, 0, 0, 0, 0, 0, 0, 0, 0, 0, 0, 0, 0, 0, 0, 0, 0, 0, 0, 0, 0, 0, 0, 0, 0, 0, 0, 0, 0, 0, 0, 0, 0, 0, 0, 0, 0, 0, 1, 0, 0, 0, 0, 0, 0, 0, 0, 1, 0, 0, 0, 0, 0, 0, 0, 0, 0, 0, 0, 0, 0, 0, 0, 0, 0, 0, 0, 0, 0, 0, 0, 4, 0, 0, 0, 0, 0, 0, 0, 0, 0, 0, 0, 0, 0, 0, 0, 0, 0, 0, 0, 0, 0, 0, 1, 0, 0, 0, 0, 0, 0, 0, 0, 0, 0, 0, 0, 0, 0, 0, 0, 0, 0, 0, 0, 0, 0, 0, 0, 0, 0, 0, 0, 0, 0, 0, 0, 0, 0, 0, 0, 0, 0, 0, 0, 0, 0, 0, 0, 0, 0, 0, 0, 0, 0, 0, 0, 0, 0, 0, 0, 0, 0, 0, 0, 0, 2, 0, 0, 0, 0, 0, 0, 0, 0, 0, 0, 0, 0, 0, 0, 0, 0, 0, 0, 1, 0, 0, 0, 0, 0, 0, 0, 0, 0, 0, 0, 5, 0, 0, 0, 0, 0, 0, 0, 0, 0, 0, 0, 1, 0, 0, 0, 0, 0, 0, 0, 0, 0, 0, 0, 0, 0, 0, 0, 0, 0, 0, 0, 0, 0, 0, 0, 0, 0, 0, 0, 0, 0, 0, 0, 0, 0, 0, 0, 0, 0, 0, 0, 0, 0, 0, 0, 0, 0, 0, 0, 0, 0, 0, 0, 0, 0, 0, 0, 0, 0, 0, 0, 1, 0, 0, 1, 0, 0, 0, 0, 0, 0, 0, 0, 0, 0, 0, 0, 0, 0, 0, 0, 0, 0, 0, 0, 0, 0, 0, 0, 0, 0, 0, 0, 0, 0, 0, 0, 0, 0, 0, 0, 0, 0, 0, 0, 0, 0, 0, 0, 0, 0, 0, 0, 0, 0, 0, 0, 0, 0, 0, 0, 0, 0, 0, 0, 0, 0, 0, 0, 0, 0, 0, 1, 0, 0, 0, 0, 0, 0, 0, 0, 0, 0, 0, 0, 0, 0, 0, 0, 0, 0, 0, 1, 0, 0, 0, 0, 0, 0, 0, 0, 0, 0, 0, 0, 0, 0, 0, 0, 0, 0, 0, 0, 0, 0, 0, 0, 0, 0, 0, 0, 0, 0, 0, 0, 0, 0, 0, 0, 0, 0, 0, 0, 0, 0, 0, 0, 0, 0, 0, 0, 0, 0, 0, 0, 0, 0, 0, 0, 0, 0, 0, 0, 0, 0, 0, 0, 0, 0, 0, 0, 0, 0, 0, 0, 0, 0, 0, 0, 0, 0, 0, 0, 0, 0, 0, 0, 0, 0, 0, 0, 0, 0, 0, 0, 0, 0, 0, 0, 0, 0, 0, 0, 0, 0, 0, 0, 0, 0, 0, 0, 0, 0, 0, 0, 0, 0, 0, 0, 0, 0, 0, 0, 0, 0, 0, 0, 0, 0, 0, 0, 0, 0, 0, 0, 0, 0, 0, 0, 0, 0, 0, 0, 0, 0, 0, 0, 0, 0, 0, 0, 0, 0, 0, 0, 0, 0, 0, 0, 0, 0, 0, 0, 0, 0, 0, 0, 0, 0, 0, 0, 0, 0, 0, 0, 0, 0, 0, 0, 0, 0, 0, 0, 0, 0, 0, 0, 2, 0, 0, 0, 0, 0, 0, 0, 0, 0, 0, 0, 0, 0, 0, 0, 0, 0, 0, 0, 0, 0, 0, 0, 0, 0, 0, 0, 0, 0, 0, 0, 0, 0, 0, 0, 0, 0, 0, 0, 0, 0, 0, 0, 0, 0, 0, 0, 0, 1, 0, 0, 0, 0, 0, 0, 0, 0, 0, 0, 0, 0, 0, 1, 0, 0, 0, 0, 0, 0, 1, 0, 0, 0, 0, 0, 0, 0, 0, 0, 0, 0, 0, 0, 0, 0, 0, 0, 0, 0, 0, 0, 0, 0, 0, 0, 0, 0, 0, 0, 0, 0, 0, 0, 0, 0, 0, 0, 0, 0, 0, 0, 0, 0, 0, 0, 0, 0, 0, 0, 0, 0, 0, 0, 0, 0, 0, 0, 0, 0, 0, 0, 0, 0, 0, 0, 0, 0, 0, 0, 0, 0, 0, 0, 0, 0, 0, 0, 0, 0, 0, 0, 0, 0, 0, 0, 0, 0, 0, 0, 0, 0, 0, 0, 0, 0, 0, 0, 1, 0, 0, 0, 0, 0, 0, 0, 0, 0, 0, 0, 0, 0, 0, 0, 0, 0, 0, 0, 0, 0, 0, 0, 0, 0, 0, 0, 0, 0, 0, 0, 0, 0, 0, 0, 0, 0, 0, 0, 0, 0, 0, 0, 0, 0, 0, 0, 0, 0, 0, 0, 0, 0, 0, 0, 0, 0, 0, 0, 0, 0, 0, 0, 0, 0, 0, 0, 0, 0, 0, 0, 0, 0, 0, 0, 0, 0, 0, 0, 0, 0, 0, 0, 0, 0, 0, 0, 0, 1, 0, 0, 0, 0, 0, 0, 0, 0, 0, 1, 0, 0, 0, 0, 0, 0, 0, 0, 0, 0, 0, 0, 0, 0, 0, 0, 0, 0, 0, 0, 0, 0, 0, 0, 0, 0, 0, 0, 0, 0, 0, 0, 0, 0, 0, 0, 0, 0, 0, 0, 0, 0, 0, 0, 1, 0, 0, 0, 0, 0, 0, 0, 0, 0, 0, 0, 0, 0, 0, 0, 0, 0, 0, 0, 0, 0, 0, 0, 0, 0, 0, 0, 0, 0, 0, 0, 0, 0, 3, 0, 0, 0, 0, 0, 0, 0, 0, 0, 0, 0, 0, 0, 0, 0, 0, 0, 0, 0, 0, 0, 0, 0, 0, 0, 0, 0, 0, 0, 0, 0, 0, 0, 0, 0, 0, 0, 0, 0, 0, 0, 0, 0, 0, 0, 0, 0, 0, 0, 0, 0, 0, 0, 0, 0, 0, 0, 0, 0, 0, 0, 0, 0, 0, 0, 0, 0, 0, 0, 0, 0, 0, 0, 0, 0, 0, 0, 0, 0, 0, 0, 0, 0, 0, 0, 0, 0, 0, 0, 0, 0, 0, 0, 0, 0, 0, 0, 0, 0, 0, 0, 0, 0, 0, 0, 0, 0, 0, 0, 0, 0, 0, 0, 0, 0, 0, 0, 0, 0, 0, 0, 0, 0, 0, 0, 0, 0, 0, 0, 0, 0, 0, 0, 0, 0, 0, 0, 0, 0, 0, 0, 0, 0, 0, 0, 0, 0, 0, 0, 0, 0, 0, 0, 0, 0, 0, 0, 1, 0, 0, 0, 0, 0, 0, 0, 0, 0, 0, 0, 0, 0, 0, 0, 0, 0, 0, 0, 0, 0, 0, 0, 0, 0, 0, 0, 0, 0, 0, 0, 0, 0, 0, 0, 0, 0, 0, 0, 0, 0, 0, 0, 0, 0, 0, 0, 0, 0, 0, 0, 0, 0, 0, 0, 0, 0, 0, 0, 0, 0, 0, 0, 1, 0, 0, 0, 0, 0, 0, 0, 0, 0, 0, 0, 0, 0, 0, 0, 0, 0, 0, 0, 0, 0, 0, 0, 0, 0, 0, 0, 0, 0, 0, 0, 0, 0, 0, 0, 0, 0, 0, 0, 0, 0, 0, 0, 0, 0, 0, 0, 0, 0, 0, 0, 0, 0, 0, 0, 0, 1, 0, 1, 0, 0, 0, 0, 0, 0, 1, 0, 0, 0, 0, 0, 0, 0, 0, 0, 0, 0, 0, 0, 0, 0, 0, 0, 0, 0, 0, 0, 0, 0, 0, 0, 0, 0, 0, 0, 0, 0, 0, 0, 0, 0, 0, 0, 0, 0, 0, 0, 0, 0, 0, 0, 0, 0, 0, 0, 0, 0, 0, 0, 0, 0, 0, 0, 0, 0, 0, 0, 0, 0, 0, 0, 0, 0, 0, 0, 0, 0, 0, 0, 0, 0, 0, 1, 0, 0, 0, 0, 0, 1, 0, 0, 0, 0, 0, 1, 0, 0, 0, 0, 0, 0, 0, 1, 0, 0, 0, 0, 0, 0, 0, 0, 0, 0, 0, 0, 0, 0, 0, 0, 0, 0, 0, 0, 0, 0, 0, 0, 0, 0, 0, 0, 0, 0, 0, 0, 0, 0, 0, 0, 0, 0, 0, 0, 0, 0, 0, 0, 0, 0, 0, 0, 0, 0, 0, 0, 0, 0, 0, 0, 0, 0, 0, 0, 0, 0, 0, 0, 0, 0, 0, 0, 0, 0, 0, 0, 0, 0, 0, 0, 0, 0, 0, 0, 0, 0, 0, 0, 0, 0, 0, 0, 0, 0, 0, 0, 0, 0, 0, 1, 0, 0, 0, 0, 0, 0, 0, 0, 0, 0, 0, 0, 0, 0, 0, 0, 0, 0, 0, 0, 0, 0, 0, 0, 0, 0, 0, 0, 0, 0, 0, 0, 0, 0, 0, 0, 0, 0, 0, 0, 0, 0, 0, 0, 0, 0, 0, 0, 0, 0, 0, 0, 0, 0, 0, 0, 0, 0, 0, 0, 0, 0, 0, 0, 0, 0, 0, 0, 0, 0, 0, 0, 0, 0, 0, 0, 0, 0, 0, 0, 0, 0, 0, 0, 1, 1, 0, 0, 0, 0, 0, 0, 0, 0, 1, 0, 0, 0, 0, 0, 0, 0, 0, 0, 0, 0, 0, 0, 0, 0, 0, 0, 0, 0, 0, 0, 0, 0, 0, 0, 0, 0, 0, 0, 0, 0, 0, 0, 0, 0, 0, 0, 0, 0, 0, 0, 0, 0, 0, 0, 0, 0, 0, 0, 0, 0, 0, 0, 0, 0, 0, 0, 0, 0, 0, 0, 0, 0, 0, 0, 0, 0, 0, 0, 0, 0, 0, 0, 0, 1, 0, 0, 0, 0, 0, 0, 0, 0, 0, 0, 0, 0, 0, 0, 0, 0, 0, 0, 0, 0, 0, 0, 0, 0, 0, 0, 0, 0, 0, 0, 0, 0, 0, 0, 0, 0, 0, 0, 0, 0, 0, 0, 0, 0, 0, 0, 0, 0, 0, 0, 0, 0, 0, 0, 0, 0, 1, 1, 0, 0, 1, 0, 0, 0, 0, 0, 0, 0, 0, 1, 0, 0, 0, 0, 0, 0, 0, 0, 0, 0, 0, 0, 0, 0, 0, 0, 0, 0, 0, 0, 0, 0, 0, 0, 0, 0, 0, 0, 0, 0, 0, 0, 0, 0, 0, 0, 0, 0, 0, 0, 0, 0, 0, 0, 0, 0, 0, 0, 0, 0, 0, 0, 0, 0, 0, 0, 0, 0, 0, 0, 0, 1, 0, 0, 0, 0, 0, 0, 0, 0, 0, 0, 0, 0, 0, 0, 0, 0, 0, 0, 0, 0, 0, 0, 0, 0, 0, 0, 0, 0, 0, 0, 1, 0, 0, 0, 0, 0, 0, 0, 0, 0, 0, 0, 0, 0, 0, 0, 0, 0, 0, 0, 0, 0, 0, 0, 0, 0, 0, 0, 0, 0, 0, 0, 0, 0, 0, 0, 0, 0, 0, 0, 0, 0, 0, 0, 0, 0, 0, 0, 0, 0, 0, 0, 0, 0, 0, 0, 0, 0, 0, 0, 0, 1, 0, 0, 0, 0, 0, 0, 0, 0, 0, 0, 0, 0, 0, 0, 0, 0, 0, 0, 0, 0, 0, 0, 0, 0, 0, 0, 0, 0, 0, 0, 0, 1, 1, 0, 1, 0, 0, 0, 0, 0, 0, 0, 0, 0, 0, 0, 0, 0, 0, 0, 0, 0, 0, 0, 2, 0, 1, 0, 0, 0, 0, 0, 0, 0, 0, 0, 0, 0, 0, 0, 0, 0, 0, 0, 0, 0, 0, 0, 0, 0, 0, 0, 0, 2, 0, 0, 0, 0, 0, 0, 0, 0, 0, 0, 0, 0, 0, 0, 0, 0, 1, 0, 0, 0, 2, 0, 0, 0, 0, 0, 0, 0, 0, 0, 0, 0, 0, 0, 0, 0, 0, 0, 0, 0, 0, 0, 0, 0, 0, 0, 0, 0, 0, 0, 0, 0, 0, 0, 0, 0, 0, 0, 0, 0, 0, 0, 0, 0, 0, 0, 0, 0, 0, 0, 0, 0, 0, 0, 0, 0, 0, 0, 0, 0, 0, 0, 0, 0, 0, 0, 0, 1, 0, 0, 0, 0, 0, 0, 0, 0, 0, 0, 0, 0, 1, 0, 0, 0, 0, 0, 0, 0, 0, 0, 0, 0, 0, 0, 0, 0, 0, 0, 0, 0, 0, 0, 0, 0, 0, 0, 0, 0, 0, 0, 0, 0, 0, 0, 0, 0, 0, 0]\n"
     ]
    }
   ],
   "source": [
    "# Now that we have a clean list of all 25,000 reviews, let's create a Bag of Words\n",
    "from sklearn.feature_extraction.text import CountVectorizer\n",
    "\n",
    "# Initialize the \"CountVectorizer\" object, which is scikit-learn's\n",
    "# bag of words tool.  \n",
    "# Note that CountVectorizer comes with its own options to automatically do \n",
    "# preprocessing, tokenization, and stop word removal -- for each of these, \n",
    "# instead of specifying \"None\", we could have used a built-in method \n",
    "# or specified our own function to use.  \n",
    "# See the function documentation for more details \n",
    "# (http://scikit-learn.org/stable/modules/generated/sklearn.feature_extraction.text.CountVectorizer.html)\n",
    "# However, we wanted to write our own function for data cleaning in this experiment \n",
    "# for academic purposes, so it's not necessary to use these parameters here.\n",
    "\n",
    "# Also note that we capped max_features at 5000. This will limit the # of vocabulary to \n",
    "# 5000 max_features ordered by term frequency across the corpus.\n",
    "# This is done mostly for efficiency reasons.\n",
    "vectorizer = CountVectorizer(analyzer = \"word\",   \\\n",
    "                             tokenizer = None,    \\\n",
    "                             preprocessor = None, \\\n",
    "                             stop_words = None,   \\\n",
    "                             max_features = 5000) \n",
    "print (vectorizer)\n",
    "\n",
    "print (\"Creating the bag of words...\", end = \"\")\n",
    "\n",
    "# fit_transform() performs two roles: First, it fits the model\n",
    "# and learns the vocabulary; second, it transforms our training data\n",
    "# into feature vectors. The input to fit_transform should be a list of \n",
    "# strings.\n",
    "X_counts = vectorizer.fit_transform(clean_train_reviews)\n",
    "\n",
    "print(\"Done.\")\n",
    "print (\"The dimension of X_counts (expected 25000, 5000): \", X_counts.shape)\n",
    "print(\"Type of X_counts (before conversion to nparray): \", type(X_counts))\n",
    "\n",
    "X_counts = X_counts.toarray() # Convert to np array to make it easier to work with\n",
    "print(\"Type of X_counts (after conversion): \", type(X_counts))\n",
    "print(\"Printing first row of X_counts for testing...\\n\", [element for element in X_counts[0]]) # Printing first row for testing"
   ]
  },
  {
   "cell_type": "markdown",
   "metadata": {
    "scrolled": true
   },
   "source": [
    "### Now we will create X_binary. As the name implies, this is the same matrix as X_count except that each element in X_binary is either 0 (if the corresponding element in X_count is 0) or 1 (if the corresponding element in X_count is greater than 0)."
   ]
  },
  {
   "cell_type": "code",
   "execution_count": 22,
   "metadata": {},
   "outputs": [
    {
     "name": "stdout",
     "output_type": "stream",
     "text": [
      "Printing first row of X_binary for testing...\n",
      " [0, 0, 0, 0, 0, 0, 0, 0, 0, 0, 0, 0, 0, 0, 0, 0, 0, 0, 0, 0, 0, 0, 0, 0, 0, 0, 0, 0, 0, 0, 0, 0, 0, 0, 0, 0, 0, 0, 0, 0, 0, 0, 0, 0, 0, 0, 1, 0, 0, 0, 0, 0, 0, 0, 0, 0, 0, 0, 0, 0, 0, 0, 0, 0, 0, 0, 0, 0, 0, 0, 0, 0, 0, 0, 0, 0, 0, 0, 0, 0, 0, 0, 0, 0, 0, 0, 0, 0, 0, 0, 0, 0, 0, 0, 0, 0, 0, 0, 0, 0, 0, 0, 0, 0, 0, 0, 0, 0, 0, 0, 0, 0, 0, 0, 0, 0, 0, 0, 0, 0, 0, 0, 0, 0, 0, 0, 0, 0, 0, 0, 0, 0, 1, 0, 0, 0, 0, 1, 0, 0, 0, 0, 0, 0, 0, 0, 0, 0, 0, 0, 0, 0, 0, 0, 0, 0, 0, 0, 0, 0, 0, 0, 0, 0, 0, 0, 0, 0, 0, 0, 0, 0, 0, 0, 0, 0, 0, 0, 0, 0, 0, 0, 0, 0, 0, 0, 0, 0, 0, 1, 0, 0, 0, 0, 0, 0, 0, 0, 0, 0, 0, 1, 0, 0, 0, 0, 0, 0, 0, 0, 0, 0, 0, 0, 0, 0, 0, 0, 0, 0, 0, 0, 0, 0, 0, 0, 0, 0, 0, 0, 0, 0, 0, 0, 0, 0, 0, 0, 0, 0, 0, 0, 0, 0, 0, 0, 0, 0, 0, 0, 0, 0, 0, 0, 0, 0, 0, 0, 0, 0, 0, 0, 0, 0, 0, 0, 0, 0, 0, 0, 0, 0, 0, 0, 0, 0, 0, 0, 0, 0, 0, 0, 0, 1, 0, 0, 0, 0, 0, 0, 0, 0, 0, 0, 0, 0, 0, 0, 0, 0, 0, 0, 0, 0, 0, 0, 0, 0, 0, 1, 0, 0, 0, 0, 0, 0, 0, 0, 0, 0, 0, 0, 0, 1, 0, 0, 0, 0, 0, 0, 0, 0, 0, 0, 0, 0, 0, 0, 0, 0, 0, 0, 0, 0, 0, 0, 0, 0, 0, 0, 0, 0, 0, 0, 0, 0, 0, 0, 0, 0, 0, 0, 0, 0, 0, 0, 0, 0, 0, 0, 0, 0, 0, 0, 0, 0, 0, 0, 0, 0, 0, 0, 0, 0, 0, 0, 1, 0, 0, 0, 0, 0, 0, 0, 0, 0, 0, 0, 0, 0, 0, 0, 0, 0, 0, 0, 0, 0, 0, 0, 0, 0, 0, 1, 0, 0, 0, 0, 0, 0, 0, 0, 0, 1, 0, 0, 0, 0, 1, 0, 0, 0, 0, 0, 0, 0, 0, 0, 0, 0, 0, 0, 0, 0, 0, 0, 0, 0, 0, 0, 0, 0, 0, 0, 0, 0, 0, 0, 0, 0, 0, 0, 0, 0, 0, 0, 0, 0, 0, 0, 0, 0, 0, 0, 0, 0, 0, 0, 0, 0, 0, 0, 0, 1, 0, 0, 0, 0, 0, 0, 1, 0, 0, 0, 0, 0, 0, 0, 0, 0, 0, 0, 0, 0, 0, 0, 0, 0, 0, 0, 0, 0, 0, 0, 0, 0, 0, 0, 0, 0, 0, 0, 0, 0, 0, 0, 0, 0, 0, 0, 0, 0, 0, 0, 0, 0, 0, 0, 0, 0, 0, 0, 0, 0, 0, 0, 0, 0, 0, 0, 1, 0, 0, 0, 0, 0, 0, 0, 0, 0, 0, 0, 0, 0, 0, 0, 1, 0, 0, 0, 0, 0, 0, 0, 0, 0, 0, 0, 0, 0, 0, 0, 0, 0, 0, 0, 0, 0, 0, 0, 0, 0, 0, 0, 1, 0, 0, 0, 0, 1, 0, 0, 0, 0, 0, 0, 0, 0, 0, 0, 0, 0, 0, 0, 0, 0, 0, 0, 0, 0, 0, 0, 1, 0, 0, 0, 0, 0, 0, 0, 0, 0, 0, 0, 0, 0, 0, 0, 0, 0, 0, 0, 0, 0, 0, 0, 0, 0, 0, 0, 0, 0, 0, 0, 0, 0, 0, 0, 0, 0, 0, 0, 0, 0, 0, 0, 0, 0, 0, 0, 0, 0, 0, 0, 0, 0, 0, 0, 0, 0, 0, 0, 1, 0, 0, 0, 0, 0, 0, 0, 0, 0, 0, 0, 0, 0, 0, 0, 0, 0, 0, 0, 0, 1, 0, 0, 0, 0, 0, 0, 0, 0, 0, 0, 0, 0, 0, 0, 0, 0, 0, 0, 0, 0, 0, 0, 0, 0, 0, 0, 0, 0, 0, 0, 0, 0, 0, 0, 0, 0, 0, 0, 0, 0, 0, 0, 0, 0, 0, 0, 0, 0, 0, 0, 0, 0, 0, 0, 0, 0, 0, 0, 0, 0, 1, 0, 0, 0, 0, 0, 0, 0, 0, 0, 0, 0, 0, 0, 0, 0, 0, 0, 0, 0, 0, 0, 0, 0, 0, 0, 0, 0, 0, 0, 0, 0, 0, 0, 0, 0, 0, 1, 0, 0, 0, 0, 0, 0, 0, 0, 0, 0, 0, 0, 0, 0, 0, 0, 0, 0, 0, 0, 0, 0, 0, 0, 0, 0, 0, 0, 0, 0, 0, 0, 0, 0, 0, 0, 0, 0, 0, 0, 0, 0, 0, 0, 0, 0, 0, 0, 0, 0, 0, 0, 0, 0, 0, 0, 0, 0, 0, 0, 0, 0, 0, 0, 0, 0, 0, 0, 0, 0, 0, 0, 0, 1, 0, 0, 0, 0, 0, 0, 0, 0, 0, 0, 0, 0, 0, 0, 0, 0, 0, 0, 0, 0, 0, 0, 0, 0, 0, 0, 0, 0, 0, 0, 0, 0, 0, 0, 0, 0, 0, 0, 0, 0, 0, 0, 0, 0, 0, 0, 0, 0, 0, 0, 0, 0, 0, 0, 0, 0, 0, 0, 0, 0, 0, 0, 0, 0, 0, 0, 0, 1, 0, 0, 0, 1, 0, 0, 0, 0, 0, 0, 0, 0, 0, 0, 0, 0, 0, 0, 0, 0, 0, 0, 0, 0, 0, 0, 0, 0, 0, 0, 0, 0, 1, 0, 0, 0, 0, 0, 0, 0, 0, 0, 0, 0, 0, 0, 0, 0, 0, 0, 0, 0, 0, 0, 0, 0, 0, 0, 0, 0, 0, 0, 0, 0, 0, 0, 0, 0, 0, 0, 0, 0, 0, 0, 1, 0, 0, 0, 0, 0, 0, 0, 0, 0, 0, 0, 0, 0, 0, 0, 0, 0, 0, 0, 0, 0, 0, 0, 0, 0, 0, 0, 0, 0, 0, 0, 0, 0, 0, 0, 0, 0, 0, 0, 0, 0, 0, 0, 0, 0, 0, 0, 0, 1, 0, 0, 0, 0, 0, 0, 0, 0, 0, 0, 0, 0, 0, 0, 0, 0, 0, 0, 0, 0, 0, 0, 0, 0, 0, 0, 0, 0, 0, 1, 0, 0, 0, 0, 0, 0, 0, 0, 0, 0, 0, 0, 0, 0, 0, 0, 0, 0, 0, 0, 0, 0, 0, 0, 0, 0, 0, 0, 0, 0, 0, 0, 0, 0, 0, 0, 0, 0, 0, 0, 0, 0, 0, 0, 0, 0, 1, 0, 0, 0, 0, 0, 0, 0, 0, 0, 0, 0, 0, 0, 0, 0, 0, 0, 0, 0, 0, 0, 0, 0, 0, 0, 0, 0, 0, 0, 0, 0, 0, 0, 0, 0, 0, 0, 0, 0, 0, 0, 0, 0, 0, 0, 0, 0, 0, 0, 0, 0, 0, 0, 0, 0, 0, 0, 0, 0, 0, 0, 0, 0, 0, 0, 0, 0, 0, 1, 0, 0, 0, 0, 0, 0, 0, 0, 0, 0, 0, 0, 0, 0, 0, 0, 0, 1, 0, 1, 0, 0, 0, 0, 0, 0, 0, 0, 0, 0, 0, 0, 0, 0, 0, 0, 0, 0, 0, 0, 0, 0, 0, 0, 0, 0, 0, 0, 0, 0, 0, 0, 0, 0, 0, 0, 0, 0, 0, 1, 0, 0, 0, 0, 0, 0, 0, 0, 0, 0, 0, 0, 0, 0, 0, 0, 1, 0, 0, 0, 0, 0, 0, 0, 0, 0, 0, 0, 0, 0, 0, 0, 0, 0, 0, 0, 0, 0, 0, 0, 0, 0, 0, 0, 0, 0, 0, 0, 0, 0, 0, 0, 0, 0, 0, 0, 0, 0, 0, 0, 0, 0, 1, 1, 0, 0, 0, 0, 0, 0, 0, 0, 0, 0, 0, 0, 0, 0, 0, 0, 0, 0, 0, 0, 0, 0, 0, 0, 0, 0, 0, 0, 0, 0, 0, 0, 0, 0, 0, 0, 0, 0, 0, 0, 0, 0, 0, 0, 0, 0, 0, 0, 0, 0, 0, 0, 0, 0, 0, 0, 0, 0, 0, 0, 1, 1, 0, 0, 0, 0, 0, 0, 0, 0, 0, 0, 0, 0, 0, 0, 0, 0, 0, 0, 0, 0, 0, 0, 0, 0, 0, 0, 0, 0, 0, 0, 0, 0, 0, 0, 0, 0, 0, 0, 0, 0, 0, 0, 0, 0, 0, 0, 0, 0, 0, 0, 0, 0, 0, 0, 0, 0, 0, 0, 0, 0, 0, 0, 0, 0, 0, 0, 0, 0, 0, 0, 0, 0, 0, 0, 0, 0, 0, 0, 0, 0, 0, 0, 0, 0, 0, 0, 0, 0, 0, 0, 0, 1, 0, 0, 0, 0, 0, 0, 0, 0, 0, 0, 0, 1, 0, 0, 0, 0, 0, 0, 0, 0, 0, 0, 0, 0, 0, 0, 0, 0, 0, 0, 0, 0, 0, 0, 0, 0, 0, 0, 0, 0, 0, 0, 0, 0, 0, 0, 0, 0, 0, 0, 0, 0, 0, 0, 0, 0, 0, 0, 0, 0, 0, 0, 0, 0, 0, 0, 0, 0, 0, 0, 0, 0, 0, 0, 0, 0, 0, 0, 0, 0, 0, 0, 0, 0, 0, 0, 1, 0, 0, 0, 0, 0, 0, 0, 0, 0, 0, 1, 0, 0, 0, 0, 0, 0, 0, 0, 0, 0, 0, 0, 0, 0, 0, 0, 0, 0, 0, 0, 0, 0, 0, 0, 0, 0, 0, 1, 0, 0, 0, 0, 0, 0, 0, 0, 0, 0, 0, 0, 0, 0, 0, 0, 0, 0, 0, 0, 0, 0, 0, 0, 0, 0, 0, 1, 0, 0, 0, 0, 0, 0, 1, 0, 0, 0, 0, 0, 0, 0, 0, 0, 0, 0, 0, 0, 0, 0, 0, 0, 0, 0, 0, 0, 0, 0, 0, 0, 0, 0, 0, 0, 0, 0, 0, 1, 0, 1, 0, 0, 0, 0, 0, 1, 0, 1, 0, 0, 0, 0, 0, 0, 0, 0, 0, 0, 0, 0, 0, 0, 0, 0, 0, 0, 0, 0, 0, 0, 0, 0, 0, 0, 0, 0, 0, 0, 0, 0, 0, 0, 0, 0, 0, 0, 0, 0, 0, 0, 0, 0, 0, 0, 0, 0, 0, 0, 0, 0, 0, 0, 0, 0, 0, 0, 0, 0, 0, 0, 0, 0, 0, 0, 0, 0, 0, 0, 0, 0, 0, 0, 0, 0, 0, 0, 0, 0, 0, 0, 0, 0, 0, 0, 0, 0, 0, 0, 0, 0, 0, 0, 0, 0, 0, 0, 0, 0, 0, 0, 0, 0, 0, 0, 0, 0, 0, 0, 0, 0, 0, 0, 0, 0, 0, 0, 0, 0, 0, 0, 0, 0, 0, 0, 0, 0, 0, 0, 0, 0, 0, 0, 0, 0, 0, 0, 0, 0, 0, 0, 0, 0, 0, 0, 0, 0, 0, 0, 0, 0, 0, 1, 0, 0, 0, 0, 0, 0, 0, 0, 0, 0, 0, 0, 0, 0, 0, 0, 0, 0, 0, 0, 0, 0, 0, 1, 0, 0, 0, 0, 0, 0, 0, 0, 0, 1, 0, 0, 1, 0, 0, 0, 0, 0, 0, 0, 0, 0, 0, 0, 0, 0, 0, 0, 0, 0, 0, 1, 0, 0, 0, 0, 0, 0, 0, 0, 0, 0, 0, 0, 0, 0, 0, 0, 0, 0, 0, 1, 0, 0, 0, 0, 0, 0, 0, 0, 0, 0, 0, 0, 0, 0, 0, 0, 0, 0, 0, 0, 0, 0, 0, 0, 0, 0, 0, 0, 0, 0, 0, 0, 0, 0, 0, 0, 0, 0, 0, 0, 0, 0, 0, 0, 0, 0, 0, 0, 0, 0, 0, 1, 0, 0, 0, 0, 1, 0, 0, 0, 0, 0, 0, 0, 0, 0, 0, 0, 0, 0, 0, 0, 0, 0, 0, 0, 0, 0, 0, 0, 0, 0, 0, 0, 0, 0, 0, 0, 0, 0, 0, 0, 0, 0, 0, 0, 0, 0, 0, 0, 1, 0, 1, 0, 0, 0, 0, 0, 0, 0, 0, 0, 0, 0, 0, 0, 0, 0, 0, 0, 0, 0, 0, 0, 0, 0, 0, 0, 0, 0, 0, 0, 0, 0, 0, 0, 0, 0, 0, 0, 0, 0, 0, 0, 0, 0, 0, 0, 0, 0, 0, 0, 0, 0, 0, 0, 0, 0, 0, 0, 0, 0, 0, 0, 0, 0, 0, 0, 0, 0, 0, 0, 0, 0, 0, 0, 0, 0, 0, 0, 0, 0, 0, 0, 0, 0, 0, 0, 0, 0, 0, 0, 0, 0, 0, 0, 1, 0, 0, 0, 0, 0, 0, 0, 0, 0, 0, 0, 0, 0, 0, 0, 0, 0, 0, 0, 0, 0, 0, 0, 0, 0, 0, 0, 0, 0, 0, 0, 0, 0, 0, 0, 0, 0, 0, 0, 0, 0, 0, 0, 0, 0, 0, 0, 0, 0, 0, 0, 0, 0, 0, 0, 0, 0, 0, 0, 0, 0, 0, 0, 0, 0, 0, 0, 0, 0, 0, 0, 0, 0, 0, 0, 0, 0, 0, 0, 0, 0, 0, 0, 0, 0, 0, 0, 0, 0, 0, 0, 0, 0, 0, 1, 0, 0, 0, 0, 0, 0, 0, 0, 0, 0, 0, 0, 0, 0, 0, 0, 0, 0, 0, 0, 0, 0, 0, 0, 0, 0, 0, 0, 0, 0, 0, 0, 0, 0, 0, 0, 0, 0, 0, 0, 0, 1, 0, 0, 0, 1, 0, 0, 0, 0, 0, 0, 0, 0, 0, 0, 0, 0, 0, 0, 0, 0, 0, 0, 0, 0, 0, 0, 0, 0, 0, 0, 0, 0, 0, 0, 0, 0, 0, 0, 0, 0, 0, 0, 0, 0, 0, 0, 0, 0, 0, 0, 0, 0, 0, 0, 0, 0, 0, 0, 0, 0, 0, 0, 1, 0, 0, 0, 0, 0, 0, 0, 0, 0, 0, 0, 0, 1, 0, 0, 0, 0, 0, 0, 0, 0, 0, 0, 0, 0, 0, 0, 0, 0, 0, 0, 0, 0, 0, 0, 0, 0, 0, 0, 0, 0, 0, 0, 0, 1, 0, 0, 0, 0, 0, 0, 0, 0, 0, 0, 0, 0, 0, 0, 0, 0, 0, 0, 0, 0, 0, 0, 0, 0, 0, 0, 0, 0, 0, 0, 0, 0, 0, 0, 0, 0, 0, 0, 0, 0, 0, 0, 1, 0, 0, 0, 0, 0, 0, 0, 0, 0, 0, 0, 0, 0, 0, 0, 0, 0, 1, 0, 0, 0, 0, 0, 0, 0, 0, 0, 0, 0, 0, 0, 0, 0, 0, 0, 0, 0, 0, 0, 0, 0, 1, 0, 0, 0, 0, 0, 0, 0, 0, 0, 0, 0, 0, 0, 0, 0, 0, 0, 0, 0, 0, 0, 0, 0, 0, 0, 0, 0, 0, 0, 0, 0, 0, 0, 0, 0, 0, 0, 0, 0, 0, 0, 0, 0, 1, 0, 0, 0, 0, 0, 0, 0, 0, 0, 0, 0, 0, 0, 0, 0, 0, 0, 0, 0, 0, 0, 0, 0, 0, 0, 0, 0, 0, 0, 0, 0, 0, 0, 0, 0, 0, 0, 0, 0, 0, 0, 0, 0, 0, 0, 0, 0, 0, 0, 0, 0, 0, 1, 0, 0, 0, 0, 1, 0, 0, 0, 0, 0, 0, 0, 0, 0, 0, 0, 0, 0, 0, 1, 0, 0, 0, 0, 0, 0, 0, 0, 0, 0, 1, 0, 0, 0, 0, 0, 0, 0, 0, 0, 1, 0, 0, 0, 0, 0, 0, 0, 0, 0, 0, 0, 0, 0, 0, 0, 0, 0, 0, 0, 0, 0, 0, 0, 0, 0, 0, 0, 0, 0, 0, 0, 0, 1, 0, 0, 0, 0, 0, 0, 0, 0, 0, 1, 0, 0, 0, 0, 0, 0, 0, 0, 0, 0, 0, 0, 0, 0, 0, 0, 0, 0, 0, 0, 0, 0, 0, 0, 0, 0, 0, 0, 0, 0, 0, 0, 0, 0, 0, 0, 0, 1, 0, 0, 0, 0, 0, 0, 0, 0, 0, 0, 0, 0, 0, 0, 0, 0, 1, 0, 0, 0, 0, 1, 0, 0, 0, 0, 0, 0, 0, 0, 0, 0, 0, 0, 0, 0, 0, 0, 0, 0, 0, 0, 0, 0, 0, 0, 0, 0, 0, 0, 0, 0, 0, 0, 0, 0, 0, 0, 0, 0, 0, 0, 0, 0, 0, 0, 0, 0, 0, 0, 0, 0, 0, 0, 0, 0, 0, 0, 0, 0, 0, 0, 0, 0, 1, 1, 0, 0, 0, 0, 0, 0, 0, 0, 0, 0, 0, 0, 0, 0, 0, 0, 0, 0, 0, 0, 0, 0, 0, 0, 0, 0, 0, 0, 0, 0, 0, 0, 0, 0, 0, 0, 0, 0, 0, 0, 0, 0, 0, 1, 1, 0, 0, 0, 0, 0, 0, 0, 0, 0, 1, 0, 0, 0, 0, 0, 0, 0, 0, 0, 0, 0, 0, 0, 0, 0, 0, 0, 0, 0, 0, 0, 0, 1, 0, 0, 0, 0, 0, 0, 0, 0, 0, 1, 0, 0, 0, 0, 0, 0, 0, 0, 0, 0, 0, 0, 0, 0, 0, 0, 0, 0, 0, 0, 0, 0, 0, 0, 0, 0, 0, 0, 1, 0, 0, 0, 0, 0, 0, 0, 0, 0, 0, 0, 0, 0, 0, 0, 0, 0, 0, 0, 0, 0, 0, 0, 0, 0, 0, 0, 0, 0, 0, 0, 0, 0, 0, 0, 0, 0, 1, 0, 0, 0, 0, 0, 0, 0, 0, 0, 0, 0, 0, 0, 0, 0, 0, 0, 0, 0, 0, 1, 0, 0, 0, 1, 0, 0, 0, 0, 0, 0, 0, 0, 0, 0, 0, 0, 0, 0, 0, 0, 0, 0, 0, 0, 0, 0, 0, 0, 0, 0, 0, 0, 0, 0, 0, 0, 0, 0, 0, 0, 0, 0, 0, 0, 0, 0, 0, 0, 0, 0, 0, 0, 0, 0, 0, 0, 0, 0, 0, 0, 0, 0, 0, 1, 0, 0, 0, 0, 0, 0, 0, 0, 0, 0, 0, 0, 0, 0, 0, 0, 0, 0, 0, 0, 0, 0, 0, 0, 0, 0, 0, 0, 0, 0, 0, 0, 0, 0, 0, 0, 0, 0, 0, 0, 0, 0, 0, 0, 0, 0, 0, 0, 0, 0, 0, 0, 0, 0, 0, 0, 0, 0, 0, 0, 0, 1, 0, 0, 0, 0, 0, 0, 0, 0, 1, 0, 0, 0, 0, 0, 0, 0, 0, 0, 0, 0, 0, 0, 0, 0, 0, 0, 0, 0, 0, 0, 0, 0, 1, 0, 0, 0, 0, 0, 0, 0, 0, 0, 0, 0, 0, 0, 0, 0, 0, 0, 0, 0, 0, 0, 0, 1, 0, 0, 0, 0, 0, 0, 0, 0, 0, 0, 0, 0, 0, 0, 0, 0, 0, 0, 0, 0, 0, 0, 0, 0, 0, 0, 0, 0, 0, 0, 0, 0, 0, 0, 0, 0, 0, 0, 0, 0, 0, 0, 0, 0, 0, 0, 0, 0, 0, 0, 0, 0, 0, 0, 0, 0, 0, 0, 0, 0, 0, 1, 0, 0, 0, 0, 0, 0, 0, 0, 0, 0, 0, 0, 0, 0, 0, 0, 0, 0, 1, 0, 0, 0, 0, 0, 0, 0, 0, 0, 0, 0, 1, 0, 0, 0, 0, 0, 0, 0, 0, 0, 0, 0, 1, 0, 0, 0, 0, 0, 0, 0, 0, 0, 0, 0, 0, 0, 0, 0, 0, 0, 0, 0, 0, 0, 0, 0, 0, 0, 0, 0, 0, 0, 0, 0, 0, 0, 0, 0, 0, 0, 0, 0, 0, 0, 0, 0, 0, 0, 0, 0, 0, 0, 0, 0, 0, 0, 0, 0, 0, 0, 0, 0, 1, 0, 0, 1, 0, 0, 0, 0, 0, 0, 0, 0, 0, 0, 0, 0, 0, 0, 0, 0, 0, 0, 0, 0, 0, 0, 0, 0, 0, 0, 0, 0, 0, 0, 0, 0, 0, 0, 0, 0, 0, 0, 0, 0, 0, 0, 0, 0, 0, 0, 0, 0, 0, 0, 0, 0, 0, 0, 0, 0, 0, 0, 0, 0, 0, 0, 0, 0, 0, 0, 0, 1, 0, 0, 0, 0, 0, 0, 0, 0, 0, 0, 0, 0, 0, 0, 0, 0, 0, 0, 0, 1, 0, 0, 0, 0, 0, 0, 0, 0, 0, 0, 0, 0, 0, 0, 0, 0, 0, 0, 0, 0, 0, 0, 0, 0, 0, 0, 0, 0, 0, 0, 0, 0, 0, 0, 0, 0, 0, 0, 0, 0, 0, 0, 0, 0, 0, 0, 0, 0, 0, 0, 0, 0, 0, 0, 0, 0, 0, 0, 0, 0, 0, 0, 0, 0, 0, 0, 0, 0, 0, 0, 0, 0, 0, 0, 0, 0, 0, 0, 0, 0, 0, 0, 0, 0, 0, 0, 0, 0, 0, 0, 0, 0, 0, 0, 0, 0, 0, 0, 0, 0, 0, 0, 0, 0, 0, 0, 0, 0, 0, 0, 0, 0, 0, 0, 0, 0, 0, 0, 0, 0, 0, 0, 0, 0, 0, 0, 0, 0, 0, 0, 0, 0, 0, 0, 0, 0, 0, 0, 0, 0, 0, 0, 0, 0, 0, 0, 0, 0, 0, 0, 0, 0, 0, 0, 0, 0, 0, 0, 0, 0, 0, 0, 0, 0, 0, 0, 0, 0, 0, 0, 0, 0, 0, 0, 0, 0, 0, 0, 0, 0, 0, 0, 0, 0, 1, 0, 0, 0, 0, 0, 0, 0, 0, 0, 0, 0, 0, 0, 0, 0, 0, 0, 0, 0, 0, 0, 0, 0, 0, 0, 0, 0, 0, 0, 0, 0, 0, 0, 0, 0, 0, 0, 0, 0, 0, 0, 0, 0, 0, 0, 0, 0, 0, 1, 0, 0, 0, 0, 0, 0, 0, 0, 0, 0, 0, 0, 0, 1, 0, 0, 0, 0, 0, 0, 1, 0, 0, 0, 0, 0, 0, 0, 0, 0, 0, 0, 0, 0, 0, 0, 0, 0, 0, 0, 0, 0, 0, 0, 0, 0, 0, 0, 0, 0, 0, 0, 0, 0, 0, 0, 0, 0, 0, 0, 0, 0, 0, 0, 0, 0, 0, 0, 0, 0, 0, 0, 0, 0, 0, 0, 0, 0, 0, 0, 0, 0, 0, 0, 0, 0, 0, 0, 0, 0, 0, 0, 0, 0, 0, 0, 0, 0, 0, 0, 0, 0, 0, 0, 0, 0, 0, 0, 0, 0, 0, 0, 0, 0, 0, 0, 0, 0, 1, 0, 0, 0, 0, 0, 0, 0, 0, 0, 0, 0, 0, 0, 0, 0, 0, 0, 0, 0, 0, 0, 0, 0, 0, 0, 0, 0, 0, 0, 0, 0, 0, 0, 0, 0, 0, 0, 0, 0, 0, 0, 0, 0, 0, 0, 0, 0, 0, 0, 0, 0, 0, 0, 0, 0, 0, 0, 0, 0, 0, 0, 0, 0, 0, 0, 0, 0, 0, 0, 0, 0, 0, 0, 0, 0, 0, 0, 0, 0, 0, 0, 0, 0, 0, 0, 0, 0, 0, 1, 0, 0, 0, 0, 0, 0, 0, 0, 0, 1, 0, 0, 0, 0, 0, 0, 0, 0, 0, 0, 0, 0, 0, 0, 0, 0, 0, 0, 0, 0, 0, 0, 0, 0, 0, 0, 0, 0, 0, 0, 0, 0, 0, 0, 0, 0, 0, 0, 0, 0, 0, 0, 0, 0, 1, 0, 0, 0, 0, 0, 0, 0, 0, 0, 0, 0, 0, 0, 0, 0, 0, 0, 0, 0, 0, 0, 0, 0, 0, 0, 0, 0, 0, 0, 0, 0, 0, 0, 1, 0, 0, 0, 0, 0, 0, 0, 0, 0, 0, 0, 0, 0, 0, 0, 0, 0, 0, 0, 0, 0, 0, 0, 0, 0, 0, 0, 0, 0, 0, 0, 0, 0, 0, 0, 0, 0, 0, 0, 0, 0, 0, 0, 0, 0, 0, 0, 0, 0, 0, 0, 0, 0, 0, 0, 0, 0, 0, 0, 0, 0, 0, 0, 0, 0, 0, 0, 0, 0, 0, 0, 0, 0, 0, 0, 0, 0, 0, 0, 0, 0, 0, 0, 0, 0, 0, 0, 0, 0, 0, 0, 0, 0, 0, 0, 0, 0, 0, 0, 0, 0, 0, 0, 0, 0, 0, 0, 0, 0, 0, 0, 0, 0, 0, 0, 0, 0, 0, 0, 0, 0, 0, 0, 0, 0, 0, 0, 0, 0, 0, 0, 0, 0, 0, 0, 0, 0, 0, 0, 0, 0, 0, 0, 0, 0, 0, 0, 0, 0, 0, 0, 0, 0, 0, 0, 0, 0, 1, 0, 0, 0, 0, 0, 0, 0, 0, 0, 0, 0, 0, 0, 0, 0, 0, 0, 0, 0, 0, 0, 0, 0, 0, 0, 0, 0, 0, 0, 0, 0, 0, 0, 0, 0, 0, 0, 0, 0, 0, 0, 0, 0, 0, 0, 0, 0, 0, 0, 0, 0, 0, 0, 0, 0, 0, 0, 0, 0, 0, 0, 0, 0, 1, 0, 0, 0, 0, 0, 0, 0, 0, 0, 0, 0, 0, 0, 0, 0, 0, 0, 0, 0, 0, 0, 0, 0, 0, 0, 0, 0, 0, 0, 0, 0, 0, 0, 0, 0, 0, 0, 0, 0, 0, 0, 0, 0, 0, 0, 0, 0, 0, 0, 0, 0, 0, 0, 0, 0, 0, 1, 0, 1, 0, 0, 0, 0, 0, 0, 1, 0, 0, 0, 0, 0, 0, 0, 0, 0, 0, 0, 0, 0, 0, 0, 0, 0, 0, 0, 0, 0, 0, 0, 0, 0, 0, 0, 0, 0, 0, 0, 0, 0, 0, 0, 0, 0, 0, 0, 0, 0, 0, 0, 0, 0, 0, 0, 0, 0, 0, 0, 0, 0, 0, 0, 0, 0, 0, 0, 0, 0, 0, 0, 0, 0, 0, 0, 0, 0, 0, 0, 0, 0, 0, 0, 0, 1, 0, 0, 0, 0, 0, 1, 0, 0, 0, 0, 0, 1, 0, 0, 0, 0, 0, 0, 0, 1, 0, 0, 0, 0, 0, 0, 0, 0, 0, 0, 0, 0, 0, 0, 0, 0, 0, 0, 0, 0, 0, 0, 0, 0, 0, 0, 0, 0, 0, 0, 0, 0, 0, 0, 0, 0, 0, 0, 0, 0, 0, 0, 0, 0, 0, 0, 0, 0, 0, 0, 0, 0, 0, 0, 0, 0, 0, 0, 0, 0, 0, 0, 0, 0, 0, 0, 0, 0, 0, 0, 0, 0, 0, 0, 0, 0, 0, 0, 0, 0, 0, 0, 0, 0, 0, 0, 0, 0, 0, 0, 0, 0, 0, 0, 0, 1, 0, 0, 0, 0, 0, 0, 0, 0, 0, 0, 0, 0, 0, 0, 0, 0, 0, 0, 0, 0, 0, 0, 0, 0, 0, 0, 0, 0, 0, 0, 0, 0, 0, 0, 0, 0, 0, 0, 0, 0, 0, 0, 0, 0, 0, 0, 0, 0, 0, 0, 0, 0, 0, 0, 0, 0, 0, 0, 0, 0, 0, 0, 0, 0, 0, 0, 0, 0, 0, 0, 0, 0, 0, 0, 0, 0, 0, 0, 0, 0, 0, 0, 0, 0, 1, 1, 0, 0, 0, 0, 0, 0, 0, 0, 1, 0, 0, 0, 0, 0, 0, 0, 0, 0, 0, 0, 0, 0, 0, 0, 0, 0, 0, 0, 0, 0, 0, 0, 0, 0, 0, 0, 0, 0, 0, 0, 0, 0, 0, 0, 0, 0, 0, 0, 0, 0, 0, 0, 0, 0, 0, 0, 0, 0, 0, 0, 0, 0, 0, 0, 0, 0, 0, 0, 0, 0, 0, 0, 0, 0, 0, 0, 0, 0, 0, 0, 0, 0, 0, 1, 0, 0, 0, 0, 0, 0, 0, 0, 0, 0, 0, 0, 0, 0, 0, 0, 0, 0, 0, 0, 0, 0, 0, 0, 0, 0, 0, 0, 0, 0, 0, 0, 0, 0, 0, 0, 0, 0, 0, 0, 0, 0, 0, 0, 0, 0, 0, 0, 0, 0, 0, 0, 0, 0, 0, 0, 1, 1, 0, 0, 1, 0, 0, 0, 0, 0, 0, 0, 0, 1, 0, 0, 0, 0, 0, 0, 0, 0, 0, 0, 0, 0, 0, 0, 0, 0, 0, 0, 0, 0, 0, 0, 0, 0, 0, 0, 0, 0, 0, 0, 0, 0, 0, 0, 0, 0, 0, 0, 0, 0, 0, 0, 0, 0, 0, 0, 0, 0, 0, 0, 0, 0, 0, 0, 0, 0, 0, 0, 0, 0, 0, 1, 0, 0, 0, 0, 0, 0, 0, 0, 0, 0, 0, 0, 0, 0, 0, 0, 0, 0, 0, 0, 0, 0, 0, 0, 0, 0, 0, 0, 0, 0, 1, 0, 0, 0, 0, 0, 0, 0, 0, 0, 0, 0, 0, 0, 0, 0, 0, 0, 0, 0, 0, 0, 0, 0, 0, 0, 0, 0, 0, 0, 0, 0, 0, 0, 0, 0, 0, 0, 0, 0, 0, 0, 0, 0, 0, 0, 0, 0, 0, 0, 0, 0, 0, 0, 0, 0, 0, 0, 0, 0, 0, 1, 0, 0, 0, 0, 0, 0, 0, 0, 0, 0, 0, 0, 0, 0, 0, 0, 0, 0, 0, 0, 0, 0, 0, 0, 0, 0, 0, 0, 0, 0, 0, 1, 1, 0, 1, 0, 0, 0, 0, 0, 0, 0, 0, 0, 0, 0, 0, 0, 0, 0, 0, 0, 0, 0, 1, 0, 1, 0, 0, 0, 0, 0, 0, 0, 0, 0, 0, 0, 0, 0, 0, 0, 0, 0, 0, 0, 0, 0, 0, 0, 0, 0, 0, 1, 0, 0, 0, 0, 0, 0, 0, 0, 0, 0, 0, 0, 0, 0, 0, 0, 1, 0, 0, 0, 1, 0, 0, 0, 0, 0, 0, 0, 0, 0, 0, 0, 0, 0, 0, 0, 0, 0, 0, 0, 0, 0, 0, 0, 0, 0, 0, 0, 0, 0, 0, 0, 0, 0, 0, 0, 0, 0, 0, 0, 0, 0, 0, 0, 0, 0, 0, 0, 0, 0, 0, 0, 0, 0, 0, 0, 0, 0, 0, 0, 0, 0, 0, 0, 0, 0, 0, 1, 0, 0, 0, 0, 0, 0, 0, 0, 0, 0, 0, 0, 1, 0, 0, 0, 0, 0, 0, 0, 0, 0, 0, 0, 0, 0, 0, 0, 0, 0, 0, 0, 0, 0, 0, 0, 0, 0, 0, 0, 0, 0, 0, 0, 0, 0, 0, 0, 0, 0]\n"
     ]
    }
   ],
   "source": [
    "X_binary = X_counts.copy()    # X_binary will turn all nonzero elements in X_count into 1, and everything else to 0.\n",
    "X_binary[X_binary > 0] = 1    # Using vectorization to do what I stated above\n",
    "print (\"Printing first row of X_binary for testing...\\n\", [element for element in X_binary[0]]) # Printing first row for testing"
   ]
  },
  {
   "cell_type": "markdown",
   "metadata": {},
   "source": [
    "### Next, we create X_tfidf, using sklearn's Tfidf Vectorizer."
   ]
  },
  {
   "cell_type": "code",
   "execution_count": 26,
   "metadata": {
    "scrolled": true
   },
   "outputs": [
    {
     "name": "stdout",
     "output_type": "stream",
     "text": [
      "TfidfVectorizer(analyzer='word', binary=False, decode_error='strict',\n",
      "        dtype=<class 'numpy.int64'>, encoding='utf-8', input='content',\n",
      "        lowercase=True, max_df=1.0, max_features=5000, min_df=1,\n",
      "        ngram_range=(1, 1), norm='l2', preprocessor=None, smooth_idf=False,\n",
      "        stop_words=None, strip_accents=None, sublinear_tf=False,\n",
      "        token_pattern='(?u)\\\\b\\\\w\\\\w+\\\\b', tokenizer=None, use_idf=True,\n",
      "        vocabulary=None)\n",
      "The dimension of X_tfidf (expected 25000, 5000):  (25000, 5000)\n",
      "Printing first row of X_tfidf for testing...\n",
      " [0.0, 0.0, 0.0, 0.0, 0.0, 0.0, 0.0, 0.0, 0.0, 0.0, 0.0, 0.0, 0.0, 0.0, 0.0, 0.0, 0.0, 0.0, 0.0, 0.0, 0.0, 0.0, 0.0, 0.0, 0.0, 0.0, 0.0, 0.0, 0.0, 0.0, 0.0, 0.0, 0.0, 0.0, 0.0, 0.0, 0.0, 0.0, 0.0, 0.0, 0.0, 0.0, 0.0, 0.0, 0.0, 0.0, 0.067925543347794506, 0.0, 0.0, 0.0, 0.0, 0.0, 0.0, 0.0, 0.0, 0.0, 0.0, 0.0, 0.0, 0.0, 0.0, 0.0, 0.0, 0.0, 0.0, 0.0, 0.0, 0.0, 0.0, 0.0, 0.0, 0.0, 0.0, 0.0, 0.0, 0.0, 0.0, 0.0, 0.0, 0.0, 0.0, 0.0, 0.0, 0.0, 0.0, 0.0, 0.0, 0.0, 0.0, 0.0, 0.0, 0.0, 0.0, 0.0, 0.0, 0.0, 0.0, 0.0, 0.0, 0.0, 0.0, 0.0, 0.0, 0.0, 0.0, 0.0, 0.0, 0.0, 0.0, 0.0, 0.0, 0.0, 0.0, 0.0, 0.0, 0.0, 0.0, 0.0, 0.0, 0.0, 0.0, 0.0, 0.0, 0.0, 0.0, 0.0, 0.0, 0.0, 0.0, 0.0, 0.0, 0.0, 0.063436541849667002, 0.0, 0.0, 0.0, 0.0, 0.070035519530799256, 0.0, 0.0, 0.0, 0.0, 0.0, 0.0, 0.0, 0.0, 0.0, 0.0, 0.0, 0.0, 0.0, 0.0, 0.0, 0.0, 0.0, 0.0, 0.0, 0.0, 0.0, 0.0, 0.0, 0.0, 0.0, 0.0, 0.0, 0.0, 0.0, 0.0, 0.0, 0.0, 0.0, 0.0, 0.0, 0.0, 0.0, 0.0, 0.0, 0.0, 0.0, 0.0, 0.0, 0.0, 0.0, 0.0, 0.0, 0.0, 0.0, 0.0, 0.0, 0.043643784770048523, 0.0, 0.0, 0.0, 0.0, 0.0, 0.0, 0.0, 0.0, 0.0, 0.0, 0.0, 0.062112216282713392, 0.0, 0.0, 0.0, 0.0, 0.0, 0.0, 0.0, 0.0, 0.0, 0.0, 0.0, 0.0, 0.0, 0.0, 0.0, 0.0, 0.0, 0.0, 0.0, 0.0, 0.0, 0.0, 0.0, 0.0, 0.0, 0.0, 0.0, 0.0, 0.0, 0.0, 0.0, 0.0, 0.0, 0.0, 0.0, 0.0, 0.0, 0.0, 0.0, 0.0, 0.0, 0.0, 0.0, 0.0, 0.0, 0.0, 0.0, 0.0, 0.0, 0.0, 0.0, 0.0, 0.0, 0.0, 0.0, 0.0, 0.0, 0.0, 0.0, 0.0, 0.0, 0.0, 0.0, 0.0, 0.0, 0.0, 0.0, 0.0, 0.0, 0.0, 0.0, 0.0, 0.0, 0.0, 0.0, 0.0, 0.0, 0.0, 0.0, 0.0, 0.0, 0.065414289050290619, 0.0, 0.0, 0.0, 0.0, 0.0, 0.0, 0.0, 0.0, 0.0, 0.0, 0.0, 0.0, 0.0, 0.0, 0.0, 0.0, 0.0, 0.0, 0.0, 0.0, 0.0, 0.0, 0.0, 0.0, 0.0, 0.049643286125886796, 0.0, 0.0, 0.0, 0.0, 0.0, 0.0, 0.0, 0.0, 0.0, 0.0, 0.0, 0.0, 0.0, 0.10905704681600456, 0.0, 0.0, 0.0, 0.0, 0.0, 0.0, 0.0, 0.0, 0.0, 0.0, 0.0, 0.0, 0.0, 0.0, 0.0, 0.0, 0.0, 0.0, 0.0, 0.0, 0.0, 0.0, 0.0, 0.0, 0.0, 0.0, 0.0, 0.0, 0.0, 0.0, 0.0, 0.0, 0.0, 0.0, 0.0, 0.0, 0.0, 0.0, 0.0, 0.0, 0.0, 0.0, 0.0, 0.0, 0.0, 0.0, 0.0, 0.0, 0.0, 0.0, 0.0, 0.0, 0.0, 0.0, 0.0, 0.0, 0.0, 0.0, 0.0, 0.0, 0.0, 0.0, 0.060804643963898571, 0.0, 0.0, 0.0, 0.0, 0.0, 0.0, 0.0, 0.0, 0.0, 0.0, 0.0, 0.0, 0.0, 0.0, 0.0, 0.0, 0.0, 0.0, 0.0, 0.0, 0.0, 0.0, 0.0, 0.0, 0.0, 0.0, 0.065810570304703567, 0.0, 0.0, 0.0, 0.0, 0.0, 0.0, 0.0, 0.0, 0.0, 0.1032061160347356, 0.0, 0.0, 0.0, 0.0, 0.048752928398897784, 0.0, 0.0, 0.0, 0.0, 0.0, 0.0, 0.0, 0.0, 0.0, 0.0, 0.0, 0.0, 0.0, 0.0, 0.0, 0.0, 0.0, 0.0, 0.0, 0.0, 0.0, 0.0, 0.0, 0.0, 0.0, 0.0, 0.0, 0.0, 0.0, 0.0, 0.0, 0.0, 0.0, 0.0, 0.0, 0.0, 0.0, 0.0, 0.0, 0.0, 0.0, 0.0, 0.0, 0.0, 0.0, 0.0, 0.0, 0.0, 0.0, 0.0, 0.0, 0.0, 0.0, 0.0, 0.056675313191972991, 0.0, 0.0, 0.0, 0.0, 0.0, 0.0, 0.076325162882019459, 0.0, 0.0, 0.0, 0.0, 0.0, 0.0, 0.0, 0.0, 0.0, 0.0, 0.0, 0.0, 0.0, 0.0, 0.0, 0.0, 0.0, 0.0, 0.0, 0.0, 0.0, 0.0, 0.0, 0.0, 0.0, 0.0, 0.0, 0.0, 0.0, 0.0, 0.0, 0.0, 0.0, 0.0, 0.0, 0.0, 0.0, 0.0, 0.0, 0.0, 0.0, 0.0, 0.0, 0.0, 0.0, 0.0, 0.0, 0.0, 0.0, 0.0, 0.0, 0.0, 0.0, 0.0, 0.0, 0.0, 0.0, 0.0, 0.0, 0.086936643900835039, 0.0, 0.0, 0.0, 0.0, 0.0, 0.0, 0.0, 0.0, 0.0, 0.0, 0.0, 0.0, 0.0, 0.0, 0.0, 0.06742888481585281, 0.0, 0.0, 0.0, 0.0, 0.0, 0.0, 0.0, 0.0, 0.0, 0.0, 0.0, 0.0, 0.0, 0.0, 0.0, 0.0, 0.0, 0.0, 0.0, 0.0, 0.0, 0.0, 0.0, 0.0, 0.0, 0.0, 0.0, 0.064976421065481266, 0.0, 0.0, 0.0, 0.0, 0.056372175470720536, 0.0, 0.0, 0.0, 0.0, 0.0, 0.0, 0.0, 0.0, 0.0, 0.0, 0.0, 0.0, 0.0, 0.0, 0.0, 0.0, 0.0, 0.0, 0.0, 0.0, 0.0, 0.0, 0.064318083909789464, 0.0, 0.0, 0.0, 0.0, 0.0, 0.0, 0.0, 0.0, 0.0, 0.0, 0.0, 0.0, 0.0, 0.0, 0.0, 0.0, 0.0, 0.0, 0.0, 0.0, 0.0, 0.0, 0.0, 0.0, 0.0, 0.0, 0.0, 0.0, 0.0, 0.0, 0.0, 0.0, 0.0, 0.0, 0.0, 0.0, 0.0, 0.0, 0.0, 0.0, 0.0, 0.0, 0.0, 0.0, 0.0, 0.0, 0.0, 0.0, 0.0, 0.0, 0.0, 0.0, 0.0, 0.0, 0.0, 0.0, 0.0, 0.0, 0.0, 0.06807358118835391, 0.0, 0.0, 0.0, 0.0, 0.0, 0.0, 0.0, 0.0, 0.0, 0.0, 0.0, 0.0, 0.0, 0.0, 0.0, 0.0, 0.0, 0.0, 0.0, 0.0, 0.039297033626592044, 0.0, 0.0, 0.0, 0.0, 0.0, 0.0, 0.0, 0.0, 0.0, 0.0, 0.0, 0.0, 0.0, 0.0, 0.0, 0.0, 0.0, 0.0, 0.0, 0.0, 0.0, 0.0, 0.0, 0.0, 0.0, 0.0, 0.0, 0.0, 0.0, 0.0, 0.0, 0.0, 0.0, 0.0, 0.0, 0.0, 0.0, 0.0, 0.0, 0.0, 0.0, 0.0, 0.0, 0.0, 0.0, 0.0, 0.0, 0.0, 0.0, 0.0, 0.0, 0.0, 0.0, 0.0, 0.0, 0.0, 0.0, 0.0, 0.0, 0.0, 0.060104238713765822, 0.0, 0.0, 0.0, 0.0, 0.0, 0.0, 0.0, 0.0, 0.0, 0.0, 0.0, 0.0, 0.0, 0.0, 0.0, 0.0, 0.0, 0.0, 0.0, 0.0, 0.0, 0.0, 0.0, 0.0, 0.0, 0.0, 0.0, 0.0, 0.0, 0.0, 0.0, 0.0, 0.0, 0.0, 0.0, 0.0, 0.098926074154534457, 0.0, 0.0, 0.0, 0.0, 0.0, 0.0, 0.0, 0.0, 0.0, 0.0, 0.0, 0.0, 0.0, 0.0, 0.0, 0.0, 0.0, 0.0, 0.0, 0.0, 0.0, 0.0, 0.0, 0.0, 0.0, 0.0, 0.0, 0.0, 0.0, 0.0, 0.0, 0.0, 0.0, 0.0, 0.0, 0.0, 0.0, 0.0, 0.0, 0.0, 0.0, 0.0, 0.0, 0.0, 0.0, 0.0, 0.0, 0.0, 0.0, 0.0, 0.0, 0.0, 0.0, 0.0, 0.0, 0.0, 0.0, 0.0, 0.0, 0.0, 0.0, 0.0, 0.0, 0.0, 0.0, 0.0, 0.0, 0.0, 0.0, 0.0, 0.0, 0.0, 0.0, 0.076776036180896581, 0.0, 0.0, 0.0, 0.0, 0.0, 0.0, 0.0, 0.0, 0.0, 0.0, 0.0, 0.0, 0.0, 0.0, 0.0, 0.0, 0.0, 0.0, 0.0, 0.0, 0.0, 0.0, 0.0, 0.0, 0.0, 0.0, 0.0, 0.0, 0.0, 0.0, 0.0, 0.0, 0.0, 0.0, 0.0, 0.0, 0.0, 0.0, 0.0, 0.0, 0.0, 0.0, 0.0, 0.0, 0.0, 0.0, 0.0, 0.0, 0.0, 0.0, 0.0, 0.0, 0.0, 0.0, 0.0, 0.0, 0.0, 0.0, 0.0, 0.0, 0.0, 0.0, 0.0, 0.0, 0.0, 0.0, 0.0, 0.073109292684701371, 0.0, 0.0, 0.0, 0.13104264636523827, 0.0, 0.0, 0.0, 0.0, 0.0, 0.0, 0.0, 0.0, 0.0, 0.0, 0.0, 0.0, 0.0, 0.0, 0.0, 0.0, 0.0, 0.0, 0.0, 0.0, 0.0, 0.0, 0.0, 0.0, 0.0, 0.0, 0.0, 0.0, 0.051138455073032933, 0.0, 0.0, 0.0, 0.0, 0.0, 0.0, 0.0, 0.0, 0.0, 0.0, 0.0, 0.0, 0.0, 0.0, 0.0, 0.0, 0.0, 0.0, 0.0, 0.0, 0.0, 0.0, 0.0, 0.0, 0.0, 0.0, 0.0, 0.0, 0.0, 0.0, 0.0, 0.0, 0.0, 0.0, 0.0, 0.0, 0.0, 0.0, 0.0, 0.0, 0.0, 0.081705861689666273, 0.0, 0.0, 0.0, 0.0, 0.0, 0.0, 0.0, 0.0, 0.0, 0.0, 0.0, 0.0, 0.0, 0.0, 0.0, 0.0, 0.0, 0.0, 0.0, 0.0, 0.0, 0.0, 0.0, 0.0, 0.0, 0.0, 0.0, 0.0, 0.0, 0.0, 0.0, 0.0, 0.0, 0.0, 0.0, 0.0, 0.0, 0.0, 0.0, 0.0, 0.0, 0.0, 0.0, 0.0, 0.0, 0.0, 0.0, 0.0, 0.072931469688599496, 0.0, 0.0, 0.0, 0.0, 0.0, 0.0, 0.0, 0.0, 0.0, 0.0, 0.0, 0.0, 0.0, 0.0, 0.0, 0.0, 0.0, 0.0, 0.0, 0.0, 0.0, 0.0, 0.0, 0.0, 0.0, 0.0, 0.0, 0.0, 0.0, 0.057065668264182794, 0.0, 0.0, 0.0, 0.0, 0.0, 0.0, 0.0, 0.0, 0.0, 0.0, 0.0, 0.0, 0.0, 0.0, 0.0, 0.0, 0.0, 0.0, 0.0, 0.0, 0.0, 0.0, 0.0, 0.0, 0.0, 0.0, 0.0, 0.0, 0.0, 0.0, 0.0, 0.0, 0.0, 0.0, 0.0, 0.0, 0.0, 0.0, 0.0, 0.0, 0.0, 0.0, 0.0, 0.0, 0.0, 0.0, 0.093235724634648215, 0.0, 0.0, 0.0, 0.0, 0.0, 0.0, 0.0, 0.0, 0.0, 0.0, 0.0, 0.0, 0.0, 0.0, 0.0, 0.0, 0.0, 0.0, 0.0, 0.0, 0.0, 0.0, 0.0, 0.0, 0.0, 0.0, 0.0, 0.0, 0.0, 0.0, 0.0, 0.0, 0.0, 0.0, 0.0, 0.0, 0.0, 0.0, 0.0, 0.0, 0.0, 0.0, 0.0, 0.0, 0.0, 0.0, 0.0, 0.0, 0.0, 0.0, 0.0, 0.0, 0.0, 0.0, 0.0, 0.0, 0.0, 0.0, 0.0, 0.0, 0.0, 0.0, 0.0, 0.0, 0.0, 0.0, 0.0, 0.0, 0.052831333578839089, 0.0, 0.0, 0.0, 0.0, 0.0, 0.0, 0.0, 0.0, 0.0, 0.0, 0.0, 0.0, 0.0, 0.0, 0.0, 0.0, 0.0, 0.043943010771400982, 0.0, 0.070922753155907473, 0.0, 0.0, 0.0, 0.0, 0.0, 0.0, 0.0, 0.0, 0.0, 0.0, 0.0, 0.0, 0.0, 0.0, 0.0, 0.0, 0.0, 0.0, 0.0, 0.0, 0.0, 0.0, 0.0, 0.0, 0.0, 0.0, 0.0, 0.0, 0.0, 0.0, 0.0, 0.0, 0.0, 0.0, 0.0, 0.0, 0.0, 0.0, 0.0, 0.069831233934977352, 0.0, 0.0, 0.0, 0.0, 0.0, 0.0, 0.0, 0.0, 0.0, 0.0, 0.0, 0.0, 0.0, 0.0, 0.0, 0.0, 0.095338142190978636, 0.0, 0.0, 0.0, 0.0, 0.0, 0.0, 0.0, 0.0, 0.0, 0.0, 0.0, 0.0, 0.0, 0.0, 0.0, 0.0, 0.0, 0.0, 0.0, 0.0, 0.0, 0.0, 0.0, 0.0, 0.0, 0.0, 0.0, 0.0, 0.0, 0.0, 0.0, 0.0, 0.0, 0.0, 0.0, 0.0, 0.0, 0.0, 0.0, 0.0, 0.0, 0.0, 0.0, 0.0, 0.0, 0.079306565759366149, 0.16654676349978126, 0.0, 0.0, 0.0, 0.0, 0.0, 0.0, 0.0, 0.0, 0.0, 0.0, 0.0, 0.0, 0.0, 0.0, 0.0, 0.0, 0.0, 0.0, 0.0, 0.0, 0.0, 0.0, 0.0, 0.0, 0.0, 0.0, 0.0, 0.0, 0.0, 0.0, 0.0, 0.0, 0.0, 0.0, 0.0, 0.0, 0.0, 0.0, 0.0, 0.0, 0.0, 0.0, 0.0, 0.0, 0.0, 0.0, 0.0, 0.0, 0.0, 0.0, 0.0, 0.0, 0.0, 0.0, 0.0, 0.0, 0.0, 0.0, 0.0, 0.0, 0.099096106636379092, 0.055128553378627633, 0.0, 0.0, 0.0, 0.0, 0.0, 0.0, 0.0, 0.0, 0.0, 0.0, 0.0, 0.0, 0.0, 0.0, 0.0, 0.0, 0.0, 0.0, 0.0, 0.0, 0.0, 0.0, 0.0, 0.0, 0.0, 0.0, 0.0, 0.0, 0.0, 0.0, 0.0, 0.0, 0.0, 0.0, 0.0, 0.0, 0.0, 0.0, 0.0, 0.0, 0.0, 0.0, 0.0, 0.0, 0.0, 0.0, 0.0, 0.0, 0.0, 0.0, 0.0, 0.0, 0.0, 0.0, 0.0, 0.0, 0.0, 0.0, 0.0, 0.0, 0.0, 0.0, 0.0, 0.0, 0.0, 0.0, 0.0, 0.0, 0.0, 0.0, 0.0, 0.0, 0.0, 0.0, 0.0, 0.0, 0.0, 0.0, 0.0, 0.0, 0.0, 0.0, 0.0, 0.0, 0.0, 0.0, 0.0, 0.0, 0.0, 0.0, 0.0, 0.062443324912484714, 0.0, 0.0, 0.0, 0.0, 0.0, 0.0, 0.0, 0.0, 0.0, 0.0, 0.0, 0.039417326503086172, 0.0, 0.0, 0.0, 0.0, 0.0, 0.0, 0.0, 0.0, 0.0, 0.0, 0.0, 0.0, 0.0, 0.0, 0.0, 0.0, 0.0, 0.0, 0.0, 0.0, 0.0, 0.0, 0.0, 0.0, 0.0, 0.0, 0.0, 0.0, 0.0, 0.0, 0.0, 0.0, 0.0, 0.0, 0.0, 0.0, 0.0, 0.0, 0.0, 0.0, 0.0, 0.0, 0.0, 0.0, 0.0, 0.0, 0.0, 0.0, 0.0, 0.0, 0.0, 0.0, 0.0, 0.0, 0.0, 0.0, 0.0, 0.0, 0.0, 0.0, 0.0, 0.0, 0.0, 0.0, 0.0, 0.0, 0.0, 0.0, 0.0, 0.0, 0.0, 0.0, 0.0, 0.0, 0.063467699306550579, 0.0, 0.0, 0.0, 0.0, 0.0, 0.0, 0.0, 0.0, 0.0, 0.0, 0.046566800313289587, 0.0, 0.0, 0.0, 0.0, 0.0, 0.0, 0.0, 0.0, 0.0, 0.0, 0.0, 0.0, 0.0, 0.0, 0.0, 0.0, 0.0, 0.0, 0.0, 0.0, 0.0, 0.0, 0.0, 0.0, 0.0, 0.0, 0.0, 0.12038314251870655, 0.0, 0.0, 0.0, 0.0, 0.0, 0.0, 0.0, 0.0, 0.0, 0.0, 0.0, 0.0, 0.0, 0.0, 0.0, 0.0, 0.0, 0.0, 0.0, 0.0, 0.0, 0.0, 0.0, 0.0, 0.0, 0.0, 0.0, 0.136104685052651, 0.0, 0.0, 0.0, 0.0, 0.0, 0.0, 0.062356235803956599, 0.0, 0.0, 0.0, 0.0, 0.0, 0.0, 0.0, 0.0, 0.0, 0.0, 0.0, 0.0, 0.0, 0.0, 0.0, 0.0, 0.0, 0.0, 0.0, 0.0, 0.0, 0.0, 0.0, 0.0, 0.0, 0.0, 0.0, 0.0, 0.0, 0.0, 0.0, 0.0, 0.047133731335427843, 0.0, 0.077680374352691803, 0.0, 0.0, 0.0, 0.0, 0.0, 0.05796445309880096, 0.0, 0.044617140167518762, 0.0, 0.0, 0.0, 0.0, 0.0, 0.0, 0.0, 0.0, 0.0, 0.0, 0.0, 0.0, 0.0, 0.0, 0.0, 0.0, 0.0, 0.0, 0.0, 0.0, 0.0, 0.0, 0.0, 0.0, 0.0, 0.0, 0.0, 0.0, 0.0, 0.0, 0.0, 0.0, 0.0, 0.0, 0.0, 0.0, 0.0, 0.0, 0.0, 0.0, 0.0, 0.0, 0.0, 0.0, 0.0, 0.0, 0.0, 0.0, 0.0, 0.0, 0.0, 0.0, 0.0, 0.0, 0.0, 0.0, 0.0, 0.0, 0.0, 0.0, 0.0, 0.0, 0.0, 0.0, 0.0, 0.0, 0.0, 0.0, 0.0, 0.0, 0.0, 0.0, 0.0, 0.0, 0.0, 0.0, 0.0, 0.0, 0.0, 0.0, 0.0, 0.0, 0.0, 0.0, 0.0, 0.0, 0.0, 0.0, 0.0, 0.0, 0.0, 0.0, 0.0, 0.0, 0.0, 0.0, 0.0, 0.0, 0.0, 0.0, 0.0, 0.0, 0.0, 0.0, 0.0, 0.0, 0.0, 0.0, 0.0, 0.0, 0.0, 0.0, 0.0, 0.0, 0.0, 0.0, 0.0, 0.0, 0.0, 0.0, 0.0, 0.0, 0.0, 0.0, 0.0, 0.0, 0.0, 0.0, 0.0, 0.0, 0.0, 0.0, 0.0, 0.0, 0.0, 0.0, 0.0, 0.0, 0.0, 0.0, 0.0, 0.0, 0.0, 0.0, 0.0, 0.0, 0.0, 0.0, 0.0, 0.0, 0.0, 0.0, 0.0, 0.061201053210605198, 0.0, 0.0, 0.0, 0.0, 0.0, 0.0, 0.0, 0.0, 0.0, 0.0, 0.0, 0.0, 0.0, 0.0, 0.0, 0.0, 0.0, 0.0, 0.0, 0.0, 0.0, 0.0, 0.0, 0.03430252193713286, 0.0, 0.0, 0.0, 0.0, 0.0, 0.0, 0.0, 0.0, 0.0, 0.051566718706688545, 0.0, 0.0, 0.046637072887642753, 0.0, 0.0, 0.0, 0.0, 0.0, 0.0, 0.0, 0.0, 0.0, 0.0, 0.0, 0.0, 0.0, 0.0, 0.0, 0.0, 0.0, 0.0, 0.13385142050255627, 0.0, 0.0, 0.0, 0.0, 0.0, 0.0, 0.0, 0.0, 0.0, 0.0, 0.0, 0.0, 0.0, 0.0, 0.0, 0.0, 0.0, 0.0, 0.0, 0.082525023447816495, 0.0, 0.0, 0.0, 0.0, 0.0, 0.0, 0.0, 0.0, 0.0, 0.0, 0.0, 0.0, 0.0, 0.0, 0.0, 0.0, 0.0, 0.0, 0.0, 0.0, 0.0, 0.0, 0.0, 0.0, 0.0, 0.0, 0.0, 0.0, 0.0, 0.0, 0.0, 0.0, 0.0, 0.0, 0.0, 0.0, 0.0, 0.0, 0.0, 0.0, 0.0, 0.0, 0.0, 0.0, 0.0, 0.0, 0.0, 0.0, 0.0, 0.0, 0.0, 0.17622982432276146, 0.0, 0.0, 0.0, 0.0, 0.10172374536995443, 0.0, 0.0, 0.0, 0.0, 0.0, 0.0, 0.0, 0.0, 0.0, 0.0, 0.0, 0.0, 0.0, 0.0, 0.0, 0.0, 0.0, 0.0, 0.0, 0.0, 0.0, 0.0, 0.0, 0.0, 0.0, 0.0, 0.0, 0.0, 0.0, 0.0, 0.0, 0.0, 0.0, 0.0, 0.0, 0.0, 0.0, 0.0, 0.0, 0.0, 0.0, 0.0, 0.0, 0.13631768066828734, 0.0, 0.098264735045599141, 0.0, 0.0, 0.0, 0.0, 0.0, 0.0, 0.0, 0.0, 0.0, 0.0, 0.0, 0.0, 0.0, 0.0, 0.0, 0.0, 0.0, 0.0, 0.0, 0.0, 0.0, 0.0, 0.0, 0.0, 0.0, 0.0, 0.0, 0.0, 0.0, 0.0, 0.0, 0.0, 0.0, 0.0, 0.0, 0.0, 0.0, 0.0, 0.0, 0.0, 0.0, 0.0, 0.0, 0.0, 0.0, 0.0, 0.0, 0.0, 0.0, 0.0, 0.0, 0.0, 0.0, 0.0, 0.0, 0.0, 0.0, 0.0, 0.0, 0.0, 0.0, 0.0, 0.0, 0.0, 0.0, 0.0, 0.0, 0.0, 0.0, 0.0, 0.0, 0.0, 0.0, 0.0, 0.0, 0.0, 0.0, 0.0, 0.0, 0.0, 0.0, 0.0, 0.0, 0.0, 0.0, 0.0, 0.0, 0.0, 0.0, 0.0, 0.0, 0.0, 0.0, 0.058829420245456961, 0.0, 0.0, 0.0, 0.0, 0.0, 0.0, 0.0, 0.0, 0.0, 0.0, 0.0, 0.0, 0.0, 0.0, 0.0, 0.0, 0.0, 0.0, 0.0, 0.0, 0.0, 0.0, 0.0, 0.0, 0.0, 0.0, 0.0, 0.0, 0.0, 0.0, 0.0, 0.0, 0.0, 0.0, 0.0, 0.0, 0.0, 0.0, 0.0, 0.0, 0.0, 0.0, 0.0, 0.0, 0.0, 0.0, 0.0, 0.0, 0.0, 0.0, 0.0, 0.0, 0.0, 0.0, 0.0, 0.0, 0.0, 0.0, 0.0, 0.0, 0.0, 0.0, 0.0, 0.0, 0.0, 0.0, 0.0, 0.0, 0.0, 0.0, 0.0, 0.0, 0.0, 0.0, 0.0, 0.0, 0.0, 0.0, 0.0, 0.0, 0.0, 0.0, 0.0, 0.0, 0.0, 0.0, 0.0, 0.0, 0.0, 0.0, 0.0, 0.0, 0.0, 0.0, 0.074449969341298133, 0.0, 0.0, 0.0, 0.0, 0.0, 0.0, 0.0, 0.0, 0.0, 0.0, 0.0, 0.0, 0.0, 0.0, 0.0, 0.0, 0.0, 0.0, 0.0, 0.0, 0.0, 0.0, 0.0, 0.0, 0.0, 0.0, 0.0, 0.0, 0.0, 0.0, 0.0, 0.0, 0.0, 0.0, 0.0, 0.0, 0.0, 0.0, 0.0, 0.0, 0.0, 0.07716249116127491, 0.0, 0.0, 0.0, 0.088362192317456595, 0.0, 0.0, 0.0, 0.0, 0.0, 0.0, 0.0, 0.0, 0.0, 0.0, 0.0, 0.0, 0.0, 0.0, 0.0, 0.0, 0.0, 0.0, 0.0, 0.0, 0.0, 0.0, 0.0, 0.0, 0.0, 0.0, 0.0, 0.0, 0.0, 0.0, 0.0, 0.0, 0.0, 0.0, 0.0, 0.0, 0.0, 0.0, 0.0, 0.0, 0.0, 0.0, 0.0, 0.0, 0.0, 0.0, 0.0, 0.0, 0.0, 0.0, 0.0, 0.0, 0.0, 0.0, 0.0, 0.0, 0.0, 0.0, 0.094188221376718076, 0.0, 0.0, 0.0, 0.0, 0.0, 0.0, 0.0, 0.0, 0.0, 0.0, 0.0, 0.0, 0.17655861618139126, 0.0, 0.0, 0.0, 0.0, 0.0, 0.0, 0.0, 0.0, 0.0, 0.0, 0.0, 0.0, 0.0, 0.0, 0.0, 0.0, 0.0, 0.0, 0.0, 0.0, 0.0, 0.0, 0.0, 0.0, 0.0, 0.0, 0.0, 0.0, 0.0, 0.0, 0.0, 0.15294788184817548, 0.0, 0.0, 0.0, 0.0, 0.0, 0.0, 0.0, 0.0, 0.0, 0.0, 0.0, 0.0, 0.0, 0.0, 0.0, 0.0, 0.0, 0.0, 0.0, 0.0, 0.0, 0.0, 0.0, 0.0, 0.0, 0.0, 0.0, 0.0, 0.0, 0.0, 0.0, 0.0, 0.0, 0.0, 0.0, 0.0, 0.0, 0.0, 0.0, 0.0, 0.0, 0.0, 0.10462411041198477, 0.0, 0.0, 0.0, 0.0, 0.0, 0.0, 0.0, 0.0, 0.0, 0.0, 0.0, 0.0, 0.0, 0.0, 0.0, 0.0, 0.0, 0.063943064991127965, 0.0, 0.0, 0.0, 0.0, 0.0, 0.0, 0.0, 0.0, 0.0, 0.0, 0.0, 0.0, 0.0, 0.0, 0.0, 0.0, 0.0, 0.0, 0.0, 0.0, 0.0, 0.0, 0.0, 0.11846618126320595, 0.0, 0.0, 0.0, 0.0, 0.0, 0.0, 0.0, 0.0, 0.0, 0.0, 0.0, 0.0, 0.0, 0.0, 0.0, 0.0, 0.0, 0.0, 0.0, 0.0, 0.0, 0.0, 0.0, 0.0, 0.0, 0.0, 0.0, 0.0, 0.0, 0.0, 0.0, 0.0, 0.0, 0.0, 0.0, 0.0, 0.0, 0.0, 0.0, 0.0, 0.0, 0.0, 0.0, 0.079216397724433896, 0.0, 0.0, 0.0, 0.0, 0.0, 0.0, 0.0, 0.0, 0.0, 0.0, 0.0, 0.0, 0.0, 0.0, 0.0, 0.0, 0.0, 0.0, 0.0, 0.0, 0.0, 0.0, 0.0, 0.0, 0.0, 0.0, 0.0, 0.0, 0.0, 0.0, 0.0, 0.0, 0.0, 0.0, 0.0, 0.0, 0.0, 0.0, 0.0, 0.0, 0.0, 0.0, 0.0, 0.0, 0.0, 0.0, 0.0, 0.0, 0.0, 0.0, 0.0, 0.0, 0.052373060289645612, 0.0, 0.0, 0.0, 0.0, 0.064821890972220422, 0.0, 0.0, 0.0, 0.0, 0.0, 0.0, 0.0, 0.0, 0.0, 0.0, 0.0, 0.0, 0.0, 0.0, 0.078617799251571724, 0.0, 0.0, 0.0, 0.0, 0.0, 0.0, 0.0, 0.0, 0.0, 0.0, 0.055562177667417674, 0.0, 0.0, 0.0, 0.0, 0.0, 0.0, 0.0, 0.0, 0.0, 0.088196883058682285, 0.0, 0.0, 0.0, 0.0, 0.0, 0.0, 0.0, 0.0, 0.0, 0.0, 0.0, 0.0, 0.0, 0.0, 0.0, 0.0, 0.0, 0.0, 0.0, 0.0, 0.0, 0.0, 0.0, 0.0, 0.0, 0.0, 0.0, 0.0, 0.0, 0.0, 0.0, 0.0, 0.081183784254865596, 0.0, 0.0, 0.0, 0.0, 0.0, 0.0, 0.0, 0.0, 0.0, 0.06807358118835391, 0.0, 0.0, 0.0, 0.0, 0.0, 0.0, 0.0, 0.0, 0.0, 0.0, 0.0, 0.0, 0.0, 0.0, 0.0, 0.0, 0.0, 0.0, 0.0, 0.0, 0.0, 0.0, 0.0, 0.0, 0.0, 0.0, 0.0, 0.0, 0.0, 0.0, 0.0, 0.0, 0.0, 0.0, 0.0, 0.0, 0.0, 0.035221916385399406, 0.0, 0.0, 0.0, 0.0, 0.0, 0.0, 0.0, 0.0, 0.0, 0.0, 0.0, 0.0, 0.0, 0.0, 0.0, 0.0, 0.035783674452088063, 0.0, 0.0, 0.0, 0.0, 0.048776147569001706, 0.0, 0.0, 0.0, 0.0, 0.0, 0.0, 0.0, 0.0, 0.0, 0.0, 0.0, 0.0, 0.0, 0.0, 0.0, 0.0, 0.0, 0.0, 0.0, 0.0, 0.0, 0.0, 0.0, 0.0, 0.0, 0.0, 0.0, 0.0, 0.0, 0.0, 0.0, 0.0, 0.0, 0.0, 0.0, 0.0, 0.0, 0.0, 0.0, 0.0, 0.0, 0.0, 0.0, 0.0, 0.0, 0.0, 0.0, 0.0, 0.0, 0.0, 0.0, 0.0, 0.0, 0.0, 0.0, 0.0, 0.0, 0.0, 0.0, 0.0, 0.0, 0.0, 0.048078229461681686, 0.15788024413462209, 0.0, 0.0, 0.0, 0.0, 0.0, 0.0, 0.0, 0.0, 0.0, 0.0, 0.0, 0.0, 0.0, 0.0, 0.0, 0.0, 0.0, 0.0, 0.0, 0.0, 0.0, 0.0, 0.0, 0.0, 0.0, 0.0, 0.0, 0.0, 0.0, 0.0, 0.0, 0.0, 0.0, 0.0, 0.0, 0.0, 0.0, 0.0, 0.0, 0.0, 0.0, 0.0, 0.0, 0.13705348707439394, 0.095606215753967244, 0.0, 0.0, 0.0, 0.0, 0.0, 0.0, 0.0, 0.0, 0.0, 0.12801522068559301, 0.0, 0.0, 0.0, 0.0, 0.0, 0.0, 0.0, 0.0, 0.0, 0.0, 0.0, 0.0, 0.0, 0.0, 0.0, 0.0, 0.0, 0.0, 0.0, 0.0, 0.0, 0.0, 0.05394798034018633, 0.0, 0.0, 0.0, 0.0, 0.0, 0.0, 0.0, 0.0, 0.0, 0.049735943765371715, 0.0, 0.0, 0.0, 0.0, 0.0, 0.0, 0.0, 0.0, 0.0, 0.0, 0.0, 0.0, 0.0, 0.0, 0.0, 0.0, 0.0, 0.0, 0.0, 0.0, 0.0, 0.0, 0.0, 0.0, 0.0, 0.0, 0.0, 0.0, 0.063235593503449025, 0.0, 0.0, 0.0, 0.0, 0.0, 0.0, 0.0, 0.0, 0.0, 0.0, 0.0, 0.0, 0.0, 0.0, 0.0, 0.0, 0.0, 0.0, 0.0, 0.0, 0.0, 0.0, 0.0, 0.0, 0.0, 0.0, 0.0, 0.0, 0.0, 0.0, 0.0, 0.0, 0.0, 0.0, 0.0, 0.0, 0.0, 0.066525558607245058, 0.0, 0.0, 0.0, 0.0, 0.0, 0.0, 0.0, 0.0, 0.0, 0.0, 0.0, 0.0, 0.0, 0.0, 0.0, 0.0, 0.0, 0.0, 0.0, 0.0, 0.10069895617656455, 0.0, 0.0, 0.0, 0.04750730012652353, 0.0, 0.0, 0.0, 0.0, 0.0, 0.0, 0.0, 0.0, 0.0, 0.0, 0.0, 0.0, 0.0, 0.0, 0.0, 0.0, 0.0, 0.0, 0.0, 0.0, 0.0, 0.0, 0.0, 0.0, 0.0, 0.0, 0.0, 0.0, 0.0, 0.0, 0.0, 0.0, 0.0, 0.0, 0.0, 0.0, 0.0, 0.0, 0.0, 0.0, 0.0, 0.0, 0.0, 0.0, 0.0, 0.0, 0.0, 0.0, 0.0, 0.0, 0.0, 0.0, 0.0, 0.0, 0.0, 0.0, 0.0, 0.0, 0.0, 0.10999119470651629, 0.0, 0.0, 0.0, 0.0, 0.0, 0.0, 0.0, 0.0, 0.0, 0.0, 0.0, 0.0, 0.0, 0.0, 0.0, 0.0, 0.0, 0.0, 0.0, 0.0, 0.0, 0.0, 0.0, 0.0, 0.0, 0.0, 0.0, 0.0, 0.0, 0.0, 0.0, 0.0, 0.0, 0.0, 0.0, 0.0, 0.0, 0.0, 0.0, 0.0, 0.0, 0.0, 0.0, 0.0, 0.0, 0.0, 0.0, 0.0, 0.0, 0.0, 0.0, 0.0, 0.0, 0.0, 0.0, 0.0, 0.0, 0.0, 0.0, 0.0, 0.0, 0.063022180496635494, 0.0, 0.0, 0.0, 0.0, 0.0, 0.0, 0.0, 0.0, 0.072843348916322978, 0.0, 0.0, 0.0, 0.0, 0.0, 0.0, 0.0, 0.0, 0.0, 0.0, 0.0, 0.0, 0.0, 0.0, 0.0, 0.0, 0.0, 0.0, 0.0, 0.0, 0.0, 0.0, 0.0, 0.09333566948371054, 0.0, 0.0, 0.0, 0.0, 0.0, 0.0, 0.0, 0.0, 0.0, 0.0, 0.0, 0.0, 0.0, 0.0, 0.0, 0.0, 0.0, 0.0, 0.0, 0.0, 0.0, 0.0, 0.081494827226157543, 0.0, 0.0, 0.0, 0.0, 0.0, 0.0, 0.0, 0.0, 0.0, 0.0, 0.0, 0.0, 0.0, 0.0, 0.0, 0.0, 0.0, 0.0, 0.0, 0.0, 0.0, 0.0, 0.0, 0.0, 0.0, 0.0, 0.0, 0.0, 0.0, 0.0, 0.0, 0.0, 0.0, 0.0, 0.0, 0.0, 0.0, 0.0, 0.0, 0.0, 0.0, 0.0, 0.0, 0.0, 0.0, 0.0, 0.0, 0.0, 0.0, 0.0, 0.0, 0.0, 0.0, 0.0, 0.0, 0.0, 0.0, 0.0, 0.0, 0.0, 0.0, 0.091101398289409552, 0.0, 0.0, 0.0, 0.0, 0.0, 0.0, 0.0, 0.0, 0.0, 0.0, 0.0, 0.0, 0.0, 0.0, 0.0, 0.0, 0.0, 0.0, 0.10015925025166512, 0.0, 0.0, 0.0, 0.0, 0.0, 0.0, 0.0, 0.0, 0.0, 0.0, 0.0, 0.17785858757212955, 0.0, 0.0, 0.0, 0.0, 0.0, 0.0, 0.0, 0.0, 0.0, 0.0, 0.0, 0.094065770642478633, 0.0, 0.0, 0.0, 0.0, 0.0, 0.0, 0.0, 0.0, 0.0, 0.0, 0.0, 0.0, 0.0, 0.0, 0.0, 0.0, 0.0, 0.0, 0.0, 0.0, 0.0, 0.0, 0.0, 0.0, 0.0, 0.0, 0.0, 0.0, 0.0, 0.0, 0.0, 0.0, 0.0, 0.0, 0.0, 0.0, 0.0, 0.0, 0.0, 0.0, 0.0, 0.0, 0.0, 0.0, 0.0, 0.0, 0.0, 0.0, 0.0, 0.0, 0.0, 0.0, 0.0, 0.0, 0.0, 0.0, 0.0, 0.0, 0.0, 0.07971922433029334, 0.0, 0.0, 0.08747491326202006, 0.0, 0.0, 0.0, 0.0, 0.0, 0.0, 0.0, 0.0, 0.0, 0.0, 0.0, 0.0, 0.0, 0.0, 0.0, 0.0, 0.0, 0.0, 0.0, 0.0, 0.0, 0.0, 0.0, 0.0, 0.0, 0.0, 0.0, 0.0, 0.0, 0.0, 0.0, 0.0, 0.0, 0.0, 0.0, 0.0, 0.0, 0.0, 0.0, 0.0, 0.0, 0.0, 0.0, 0.0, 0.0, 0.0, 0.0, 0.0, 0.0, 0.0, 0.0, 0.0, 0.0, 0.0, 0.0, 0.0, 0.0, 0.0, 0.0, 0.0, 0.0, 0.0, 0.0, 0.0, 0.0, 0.0, 0.0, 0.071879505040502709, 0.0, 0.0, 0.0, 0.0, 0.0, 0.0, 0.0, 0.0, 0.0, 0.0, 0.0, 0.0, 0.0, 0.0, 0.0, 0.0, 0.0, 0.0, 0.0, 0.095205895273774238, 0.0, 0.0, 0.0, 0.0, 0.0, 0.0, 0.0, 0.0, 0.0, 0.0, 0.0, 0.0, 0.0, 0.0, 0.0, 0.0, 0.0, 0.0, 0.0, 0.0, 0.0, 0.0, 0.0, 0.0, 0.0, 0.0, 0.0, 0.0, 0.0, 0.0, 0.0, 0.0, 0.0, 0.0, 0.0, 0.0, 0.0, 0.0, 0.0, 0.0, 0.0, 0.0, 0.0, 0.0, 0.0, 0.0, 0.0, 0.0, 0.0, 0.0, 0.0, 0.0, 0.0, 0.0, 0.0, 0.0, 0.0, 0.0, 0.0, 0.0, 0.0, 0.0, 0.0, 0.0, 0.0, 0.0, 0.0, 0.0, 0.0, 0.0, 0.0, 0.0, 0.0, 0.0, 0.0, 0.0, 0.0, 0.0, 0.0, 0.0, 0.0, 0.0, 0.0, 0.0, 0.0, 0.0, 0.0, 0.0, 0.0, 0.0, 0.0, 0.0, 0.0, 0.0, 0.0, 0.0, 0.0, 0.0, 0.0, 0.0, 0.0, 0.0, 0.0, 0.0, 0.0, 0.0, 0.0, 0.0, 0.0, 0.0, 0.0, 0.0, 0.0, 0.0, 0.0, 0.0, 0.0, 0.0, 0.0, 0.0, 0.0, 0.0, 0.0, 0.0, 0.0, 0.0, 0.0, 0.0, 0.0, 0.0, 0.0, 0.0, 0.0, 0.0, 0.0, 0.0, 0.0, 0.0, 0.0, 0.0, 0.0, 0.0, 0.0, 0.0, 0.0, 0.0, 0.0, 0.0, 0.0, 0.0, 0.0, 0.0, 0.0, 0.0, 0.0, 0.0, 0.0, 0.0, 0.0, 0.0, 0.0, 0.0, 0.0, 0.0, 0.0, 0.0, 0.0, 0.0, 0.0, 0.0, 0.0, 0.0, 0.0, 0.0, 0.0, 0.0, 0.0, 0.0, 0.0, 0.0, 0.0, 0.0, 0.0, 0.0, 0.06507646514945864, 0.0, 0.0, 0.0, 0.0, 0.0, 0.0, 0.0, 0.0, 0.0, 0.0, 0.0, 0.0, 0.0, 0.0, 0.0, 0.0, 0.0, 0.0, 0.0, 0.0, 0.0, 0.0, 0.0, 0.0, 0.0, 0.0, 0.0, 0.0, 0.0, 0.0, 0.0, 0.0, 0.0, 0.0, 0.0, 0.0, 0.0, 0.0, 0.0, 0.0, 0.0, 0.0, 0.0, 0.0, 0.0, 0.0, 0.0, 0.0, 0.064367703789773689, 0.0, 0.0, 0.0, 0.0, 0.0, 0.0, 0.0, 0.0, 0.0, 0.0, 0.0, 0.0, 0.0, 0.057259616756446856, 0.0, 0.0, 0.0, 0.0, 0.0, 0.0, 0.087952312944853991, 0.0, 0.0, 0.0, 0.0, 0.0, 0.0, 0.0, 0.0, 0.0, 0.0, 0.0, 0.0, 0.0, 0.0, 0.0, 0.0, 0.0, 0.0, 0.0, 0.0, 0.0, 0.0, 0.0, 0.0, 0.0, 0.0, 0.0, 0.0, 0.0, 0.0, 0.0, 0.0, 0.0, 0.0, 0.0, 0.0, 0.0, 0.0, 0.0, 0.0, 0.0, 0.0, 0.0, 0.0, 0.0, 0.0, 0.0, 0.0, 0.0, 0.0, 0.0, 0.0, 0.0, 0.0, 0.0, 0.0, 0.0, 0.0, 0.0, 0.0, 0.0, 0.0, 0.0, 0.0, 0.0, 0.0, 0.0, 0.0, 0.0, 0.0, 0.0, 0.0, 0.0, 0.0, 0.0, 0.0, 0.0, 0.0, 0.0, 0.0, 0.0, 0.0, 0.0, 0.0, 0.0, 0.0, 0.0, 0.0, 0.0, 0.0, 0.0, 0.0, 0.0, 0.0, 0.0, 0.0, 0.0, 0.090794771662587273, 0.0, 0.0, 0.0, 0.0, 0.0, 0.0, 0.0, 0.0, 0.0, 0.0, 0.0, 0.0, 0.0, 0.0, 0.0, 0.0, 0.0, 0.0, 0.0, 0.0, 0.0, 0.0, 0.0, 0.0, 0.0, 0.0, 0.0, 0.0, 0.0, 0.0, 0.0, 0.0, 0.0, 0.0, 0.0, 0.0, 0.0, 0.0, 0.0, 0.0, 0.0, 0.0, 0.0, 0.0, 0.0, 0.0, 0.0, 0.0, 0.0, 0.0, 0.0, 0.0, 0.0, 0.0, 0.0, 0.0, 0.0, 0.0, 0.0, 0.0, 0.0, 0.0, 0.0, 0.0, 0.0, 0.0, 0.0, 0.0, 0.0, 0.0, 0.0, 0.0, 0.0, 0.0, 0.0, 0.0, 0.0, 0.0, 0.0, 0.0, 0.0, 0.0, 0.0, 0.0, 0.0, 0.0, 0.0, 0.0, 0.040931948699661602, 0.0, 0.0, 0.0, 0.0, 0.0, 0.0, 0.0, 0.0, 0.0, 0.042811697648176723, 0.0, 0.0, 0.0, 0.0, 0.0, 0.0, 0.0, 0.0, 0.0, 0.0, 0.0, 0.0, 0.0, 0.0, 0.0, 0.0, 0.0, 0.0, 0.0, 0.0, 0.0, 0.0, 0.0, 0.0, 0.0, 0.0, 0.0, 0.0, 0.0, 0.0, 0.0, 0.0, 0.0, 0.0, 0.0, 0.0, 0.0, 0.0, 0.0, 0.0, 0.0, 0.0, 0.0, 0.0, 0.031656025433614551, 0.0, 0.0, 0.0, 0.0, 0.0, 0.0, 0.0, 0.0, 0.0, 0.0, 0.0, 0.0, 0.0, 0.0, 0.0, 0.0, 0.0, 0.0, 0.0, 0.0, 0.0, 0.0, 0.0, 0.0, 0.0, 0.0, 0.0, 0.0, 0.0, 0.0, 0.0, 0.0, 0.0, 0.20402986783292867, 0.0, 0.0, 0.0, 0.0, 0.0, 0.0, 0.0, 0.0, 0.0, 0.0, 0.0, 0.0, 0.0, 0.0, 0.0, 0.0, 0.0, 0.0, 0.0, 0.0, 0.0, 0.0, 0.0, 0.0, 0.0, 0.0, 0.0, 0.0, 0.0, 0.0, 0.0, 0.0, 0.0, 0.0, 0.0, 0.0, 0.0, 0.0, 0.0, 0.0, 0.0, 0.0, 0.0, 0.0, 0.0, 0.0, 0.0, 0.0, 0.0, 0.0, 0.0, 0.0, 0.0, 0.0, 0.0, 0.0, 0.0, 0.0, 0.0, 0.0, 0.0, 0.0, 0.0, 0.0, 0.0, 0.0, 0.0, 0.0, 0.0, 0.0, 0.0, 0.0, 0.0, 0.0, 0.0, 0.0, 0.0, 0.0, 0.0, 0.0, 0.0, 0.0, 0.0, 0.0, 0.0, 0.0, 0.0, 0.0, 0.0, 0.0, 0.0, 0.0, 0.0, 0.0, 0.0, 0.0, 0.0, 0.0, 0.0, 0.0, 0.0, 0.0, 0.0, 0.0, 0.0, 0.0, 0.0, 0.0, 0.0, 0.0, 0.0, 0.0, 0.0, 0.0, 0.0, 0.0, 0.0, 0.0, 0.0, 0.0, 0.0, 0.0, 0.0, 0.0, 0.0, 0.0, 0.0, 0.0, 0.0, 0.0, 0.0, 0.0, 0.0, 0.0, 0.0, 0.0, 0.0, 0.0, 0.0, 0.0, 0.0, 0.0, 0.0, 0.0, 0.0, 0.0, 0.0, 0.0, 0.0, 0.0, 0.0, 0.0, 0.0, 0.0, 0.0, 0.0, 0.0, 0.094561739243042689, 0.0, 0.0, 0.0, 0.0, 0.0, 0.0, 0.0, 0.0, 0.0, 0.0, 0.0, 0.0, 0.0, 0.0, 0.0, 0.0, 0.0, 0.0, 0.0, 0.0, 0.0, 0.0, 0.0, 0.0, 0.0, 0.0, 0.0, 0.0, 0.0, 0.0, 0.0, 0.0, 0.0, 0.0, 0.0, 0.0, 0.0, 0.0, 0.0, 0.0, 0.0, 0.0, 0.0, 0.0, 0.0, 0.0, 0.0, 0.0, 0.0, 0.0, 0.0, 0.0, 0.0, 0.0, 0.0, 0.0, 0.0, 0.0, 0.0, 0.0, 0.0, 0.0, 0.0, 0.086128274802007798, 0.0, 0.0, 0.0, 0.0, 0.0, 0.0, 0.0, 0.0, 0.0, 0.0, 0.0, 0.0, 0.0, 0.0, 0.0, 0.0, 0.0, 0.0, 0.0, 0.0, 0.0, 0.0, 0.0, 0.0, 0.0, 0.0, 0.0, 0.0, 0.0, 0.0, 0.0, 0.0, 0.0, 0.0, 0.0, 0.0, 0.0, 0.0, 0.0, 0.0, 0.0, 0.0, 0.0, 0.0, 0.0, 0.0, 0.0, 0.0, 0.0, 0.0, 0.0, 0.0, 0.0, 0.0, 0.0, 0.0, 0.064685865519755817, 0.0, 0.061718826937155087, 0.0, 0.0, 0.0, 0.0, 0.0, 0.0, 0.06751051838266274, 0.0, 0.0, 0.0, 0.0, 0.0, 0.0, 0.0, 0.0, 0.0, 0.0, 0.0, 0.0, 0.0, 0.0, 0.0, 0.0, 0.0, 0.0, 0.0, 0.0, 0.0, 0.0, 0.0, 0.0, 0.0, 0.0, 0.0, 0.0, 0.0, 0.0, 0.0, 0.0, 0.0, 0.0, 0.0, 0.0, 0.0, 0.0, 0.0, 0.0, 0.0, 0.0, 0.0, 0.0, 0.0, 0.0, 0.0, 0.0, 0.0, 0.0, 0.0, 0.0, 0.0, 0.0, 0.0, 0.0, 0.0, 0.0, 0.0, 0.0, 0.0, 0.0, 0.0, 0.0, 0.0, 0.0, 0.0, 0.0, 0.0, 0.0, 0.0, 0.0, 0.0, 0.0, 0.0, 0.0, 0.062212210669282765, 0.0, 0.0, 0.0, 0.0, 0.0, 0.058280200570919614, 0.0, 0.0, 0.0, 0.0, 0.0, 0.069951312716154804, 0.0, 0.0, 0.0, 0.0, 0.0, 0.0, 0.0, 0.076251328089166709, 0.0, 0.0, 0.0, 0.0, 0.0, 0.0, 0.0, 0.0, 0.0, 0.0, 0.0, 0.0, 0.0, 0.0, 0.0, 0.0, 0.0, 0.0, 0.0, 0.0, 0.0, 0.0, 0.0, 0.0, 0.0, 0.0, 0.0, 0.0, 0.0, 0.0, 0.0, 0.0, 0.0, 0.0, 0.0, 0.0, 0.0, 0.0, 0.0, 0.0, 0.0, 0.0, 0.0, 0.0, 0.0, 0.0, 0.0, 0.0, 0.0, 0.0, 0.0, 0.0, 0.0, 0.0, 0.0, 0.0, 0.0, 0.0, 0.0, 0.0, 0.0, 0.0, 0.0, 0.0, 0.0, 0.0, 0.0, 0.0, 0.0, 0.0, 0.0, 0.0, 0.0, 0.0, 0.0, 0.0, 0.0, 0.0, 0.0, 0.0, 0.0, 0.0, 0.0, 0.0, 0.0, 0.0, 0.0, 0.0, 0.0, 0.0, 0.0, 0.0, 0.0, 0.0, 0.0, 0.071934505769406493, 0.0, 0.0, 0.0, 0.0, 0.0, 0.0, 0.0, 0.0, 0.0, 0.0, 0.0, 0.0, 0.0, 0.0, 0.0, 0.0, 0.0, 0.0, 0.0, 0.0, 0.0, 0.0, 0.0, 0.0, 0.0, 0.0, 0.0, 0.0, 0.0, 0.0, 0.0, 0.0, 0.0, 0.0, 0.0, 0.0, 0.0, 0.0, 0.0, 0.0, 0.0, 0.0, 0.0, 0.0, 0.0, 0.0, 0.0, 0.0, 0.0, 0.0, 0.0, 0.0, 0.0, 0.0, 0.0, 0.0, 0.0, 0.0, 0.0, 0.0, 0.0, 0.0, 0.0, 0.0, 0.0, 0.0, 0.0, 0.0, 0.0, 0.0, 0.0, 0.0, 0.0, 0.0, 0.0, 0.0, 0.0, 0.0, 0.0, 0.0, 0.0, 0.0, 0.0, 0.0, 0.046427243160587571, 0.037562113460051914, 0.0, 0.0, 0.0, 0.0, 0.0, 0.0, 0.0, 0.0, 0.046829503020413832, 0.0, 0.0, 0.0, 0.0, 0.0, 0.0, 0.0, 0.0, 0.0, 0.0, 0.0, 0.0, 0.0, 0.0, 0.0, 0.0, 0.0, 0.0, 0.0, 0.0, 0.0, 0.0, 0.0, 0.0, 0.0, 0.0, 0.0, 0.0, 0.0, 0.0, 0.0, 0.0, 0.0, 0.0, 0.0, 0.0, 0.0, 0.0, 0.0, 0.0, 0.0, 0.0, 0.0, 0.0, 0.0, 0.0, 0.0, 0.0, 0.0, 0.0, 0.0, 0.0, 0.0, 0.0, 0.0, 0.0, 0.0, 0.0, 0.0, 0.0, 0.0, 0.0, 0.0, 0.0, 0.0, 0.0, 0.0, 0.0, 0.0, 0.0, 0.0, 0.0, 0.0, 0.0, 0.07066755512831728, 0.0, 0.0, 0.0, 0.0, 0.0, 0.0, 0.0, 0.0, 0.0, 0.0, 0.0, 0.0, 0.0, 0.0, 0.0, 0.0, 0.0, 0.0, 0.0, 0.0, 0.0, 0.0, 0.0, 0.0, 0.0, 0.0, 0.0, 0.0, 0.0, 0.0, 0.0, 0.0, 0.0, 0.0, 0.0, 0.0, 0.0, 0.0, 0.0, 0.0, 0.0, 0.0, 0.0, 0.0, 0.0, 0.0, 0.0, 0.0, 0.0, 0.0, 0.0, 0.0, 0.0, 0.0, 0.0, 0.0, 0.052649341337331866, 0.056430367253738734, 0.0, 0.0, 0.055208901081873998, 0.0, 0.0, 0.0, 0.0, 0.0, 0.0, 0.0, 0.0, 0.079082162105000353, 0.0, 0.0, 0.0, 0.0, 0.0, 0.0, 0.0, 0.0, 0.0, 0.0, 0.0, 0.0, 0.0, 0.0, 0.0, 0.0, 0.0, 0.0, 0.0, 0.0, 0.0, 0.0, 0.0, 0.0, 0.0, 0.0, 0.0, 0.0, 0.0, 0.0, 0.0, 0.0, 0.0, 0.0, 0.0, 0.0, 0.0, 0.0, 0.0, 0.0, 0.0, 0.0, 0.0, 0.0, 0.0, 0.0, 0.0, 0.0, 0.0, 0.0, 0.0, 0.0, 0.0, 0.0, 0.0, 0.0, 0.0, 0.0, 0.0, 0.0, 0.0, 0.069039433435526154, 0.0, 0.0, 0.0, 0.0, 0.0, 0.0, 0.0, 0.0, 0.0, 0.0, 0.0, 0.0, 0.0, 0.0, 0.0, 0.0, 0.0, 0.0, 0.0, 0.0, 0.0, 0.0, 0.0, 0.0, 0.0, 0.0, 0.0, 0.0, 0.0, 0.0, 0.064467442801692684, 0.0, 0.0, 0.0, 0.0, 0.0, 0.0, 0.0, 0.0, 0.0, 0.0, 0.0, 0.0, 0.0, 0.0, 0.0, 0.0, 0.0, 0.0, 0.0, 0.0, 0.0, 0.0, 0.0, 0.0, 0.0, 0.0, 0.0, 0.0, 0.0, 0.0, 0.0, 0.0, 0.0, 0.0, 0.0, 0.0, 0.0, 0.0, 0.0, 0.0, 0.0, 0.0, 0.0, 0.0, 0.0, 0.0, 0.0, 0.0, 0.0, 0.0, 0.0, 0.0, 0.0, 0.0, 0.0, 0.0, 0.0, 0.0, 0.0, 0.0, 0.083999266210494486, 0.0, 0.0, 0.0, 0.0, 0.0, 0.0, 0.0, 0.0, 0.0, 0.0, 0.0, 0.0, 0.0, 0.0, 0.0, 0.0, 0.0, 0.0, 0.0, 0.0, 0.0, 0.0, 0.0, 0.0, 0.0, 0.0, 0.0, 0.0, 0.0, 0.0, 0.0, 0.045900889719323969, 0.059931096673915447, 0.0, 0.061014747088070913, 0.0, 0.0, 0.0, 0.0, 0.0, 0.0, 0.0, 0.0, 0.0, 0.0, 0.0, 0.0, 0.0, 0.0, 0.0, 0.0, 0.0, 0.0, 0.0, 0.10526855066150789, 0.0, 0.042792257321061664, 0.0, 0.0, 0.0, 0.0, 0.0, 0.0, 0.0, 0.0, 0.0, 0.0, 0.0, 0.0, 0.0, 0.0, 0.0, 0.0, 0.0, 0.0, 0.0, 0.0, 0.0, 0.0, 0.0, 0.0, 0.0, 0.0, 0.065453319079014749, 0.0, 0.0, 0.0, 0.0, 0.0, 0.0, 0.0, 0.0, 0.0, 0.0, 0.0, 0.0, 0.0, 0.0, 0.0, 0.0, 0.06631179969934474, 0.0, 0.0, 0.0, 0.096637025425132944, 0.0, 0.0, 0.0, 0.0, 0.0, 0.0, 0.0, 0.0, 0.0, 0.0, 0.0, 0.0, 0.0, 0.0, 0.0, 0.0, 0.0, 0.0, 0.0, 0.0, 0.0, 0.0, 0.0, 0.0, 0.0, 0.0, 0.0, 0.0, 0.0, 0.0, 0.0, 0.0, 0.0, 0.0, 0.0, 0.0, 0.0, 0.0, 0.0, 0.0, 0.0, 0.0, 0.0, 0.0, 0.0, 0.0, 0.0, 0.0, 0.0, 0.0, 0.0, 0.0, 0.0, 0.0, 0.0, 0.0, 0.0, 0.0, 0.0, 0.0, 0.0, 0.0, 0.0, 0.0, 0.0, 0.0, 0.067126687285507441, 0.0, 0.0, 0.0, 0.0, 0.0, 0.0, 0.0, 0.0, 0.0, 0.0, 0.0, 0.0, 0.031588170256723988, 0.0, 0.0, 0.0, 0.0, 0.0, 0.0, 0.0, 0.0, 0.0, 0.0, 0.0, 0.0, 0.0, 0.0, 0.0, 0.0, 0.0, 0.0, 0.0, 0.0, 0.0, 0.0, 0.0, 0.0, 0.0, 0.0, 0.0, 0.0, 0.0, 0.0, 0.0, 0.0, 0.0, 0.0, 0.0, 0.0, 0.0]\n"
     ]
    }
   ],
   "source": [
    "from sklearn.feature_extraction.text import TfidfVectorizer  \n",
    "tfidf_vectorizer = TfidfVectorizer(analyzer = \"word\",\n",
    "                                   tokenizer = None,\n",
    "                                   preprocessor = None,\n",
    "                                   stop_words = None,\n",
    "                                   max_features = 5000,\n",
    "                                   smooth_idf = False)\n",
    "\n",
    "print(tfidf_vectorizer)\n",
    "X_tfidf = tfidf_vectorizer.fit_transform(clean_train_reviews)\n",
    "print (\"The dimension of X_tfidf (expected 25000, 5000): \", X_tfidf.shape)\n",
    "X_tfidf = X_tfidf.toarray()\n",
    "print (\"Printing first row of X_tfidf for testing...\\n\", [element for element in X_tfidf[0]]) # Testing"
   ]
  },
  {
   "cell_type": "markdown",
   "metadata": {},
   "source": [
    "### Finally, we create X_binary imbalance. We do this by taking the X_binary we created above and randomly removing 75% of the rows with sentiment values of 1 each."
   ]
  },
  {
   "cell_type": "code",
   "execution_count": 27,
   "metadata": {
    "scrolled": true
   },
   "outputs": [
    {
     "name": "stdout",
     "output_type": "stream",
     "text": [
      "No. of indices that have a sentiment of 1: 12500\n",
      "We will randomly keep 25% of these indices. Trimming...\n",
      "No. of indices to keep: 3125\n",
      "The actual indices we will keep:\n",
      " {1, 8196, 5, 8198, 24584, 9, 12, 8205, 8208, 18, 24595, 16404, 19, 22, 24599, 8217, 24607, 36, 16421, 38, 16423, 40, 8234, 24620, 8239, 47, 16434, 51, 16437, 57, 16445, 8255, 66, 24643, 8267, 24653, 8270, 8272, 81, 8274, 8277, 86, 8279, 24665, 16477, 16478, 24674, 103, 8296, 8297, 16488, 8301, 24688, 112, 16497, 115, 8307, 16501, 24695, 16506, 123, 16508, 8318, 8320, 8323, 24708, 133, 24710, 134, 16515, 24713, 138, 16530, 24724, 8341, 150, 8342, 148, 8350, 8351, 16544, 160, 16542, 24741, 8360, 16555, 172, 8365, 24750, 24749, 24753, 8372, 8376, 185, 8378, 8379, 24763, 24761, 24767, 8387, 24773, 24775, 16584, 201, 24776, 16589, 207, 8400, 24786, 24787, 16596, 8405, 24790, 24791, 8402, 214, 16614, 24807, 232, 16615, 16618, 8428, 24813, 24815, 8431, 24821, 16631, 8441, 249, 253, 16638, 255, 8448, 257, 24835, 8452, 8455, 24841, 16651, 16654, 24853, 16663, 280, 282, 24859, 24861, 24863, 16674, 24867, 16677, 8485, 16679, 294, 24873, 297, 24874, 8496, 305, 16690, 8499, 24887, 16696, 16698, 315, 8507, 318, 8510, 319, 323, 24900, 16711, 327, 331, 24909, 16718, 340, 16728, 8538, 347, 24923, 16734, 8542, 16738, 356, 358, 8552, 24937, 24938, 8558, 24943, 24945, 8561, 371, 16756, 8565, 375, 8570, 24955, 378, 16768, 16771, 8580, 16775, 394, 24977, 8594, 24986, 24987, 412, 16802, 16803, 16807, 16808, 16810, 16819, 8628, 8629, 16822, 443, 16827, 8637, 16832, 16833, 455, 16840, 16848, 16850, 8659, 469, 8664, 477, 479, 16864, 483, 8678, 16873, 16875, 491, 493, 8683, 8687, 495, 8684, 502, 503, 16888, 16887, 8703, 8704, 16897, 520, 521, 8717, 8721, 530, 532, 537, 8733, 542, 16930, 16932, 16939, 560, 16944, 8756, 8761, 16953, 570, 572, 16957, 8772, 16965, 8774, 581, 16966, 16968, 585, 16974, 16975, 16978, 16979, 600, 16985, 8794, 16986, 8798, 16992, 16996, 16998, 16999, 8806, 8812, 8813, 17006, 620, 629, 8824, 8830, 17023, 17022, 17028, 17033, 654, 8848, 657, 672, 17057, 17060, 17064, 8874, 8875, 17068, 8881, 693, 694, 8890, 17085, 702, 704, 8898, 708, 8900, 709, 8903, 17098, 17099, 715, 720, 8913, 722, 17107, 724, 17110, 8923, 732, 8925, 734, 736, 17122, 8933, 17127, 745, 746, 8939, 17135, 17142, 17147, 8955, 767, 8962, 778, 779, 8976, 785, 792, 17181, 8989, 810, 812, 17197, 9006, 9005, 9007, 17200, 9011, 17206, 822, 9017, 826, 829, 17216, 17218, 836, 17220, 839, 9032, 17224, 844, 17229, 17230, 9037, 856, 17242, 860, 863, 17249, 17252, 869, 9064, 9065, 876, 17261, 17264, 17268, 9076, 17272, 889, 892, 17282, 9091, 17284, 902, 17286, 17290, 910, 911, 918, 17307, 9115, 17308, 9118, 927, 9120, 17312, 932, 933, 9134, 944, 950, 951, 953, 17338, 9154, 963, 9159, 970, 9166, 17361, 9172, 980, 17367, 17369, 9177, 9183, 17378, 17379, 996, 1009, 17396, 9207, 9211, 9213, 17406, 1023, 17410, 9227, 17423, 1042, 1043, 1044, 9238, 1051, 17439, 1056, 17441, 17442, 9247, 1060, 17450, 17452, 17455, 9268, 1077, 9276, 17469, 1086, 9284, 17479, 9292, 1106, 17495, 17497, 17499, 1120, 9313, 1122, 1123, 9320, 17513, 17512, 1129, 9327, 9328, 9329, 17522, 9331, 1141, 9336, 17529, 9339, 1153, 17538, 1171, 9365, 1177, 17563, 1181, 1183, 9378, 1188, 1189, 17574, 9383, 9384, 9385, 9388, 17580, 17581, 1201, 1202, 17589, 17591, 1211, 1212, 17598, 1216, 9409, 17603, 17604, 1221, 1223, 1228, 1230, 17615, 17623, 1240, 1241, 9438, 9439, 9440, 9445, 9450, 9454, 1264, 17649, 17651, 17652, 1270, 9467, 9471, 1281, 9475, 1285, 9479, 1288, 9481, 17674, 17677, 1294, 1295, 1301, 9493, 1304, 9497, 1310, 1311, 9503, 17703, 9512, 9513, 1330, 9527, 1338, 9533, 17726, 1342, 1348, 1350, 9543, 1352, 1353, 1354, 1356, 17742, 1359, 1366, 17751, 17750, 17755, 9564, 1373, 1374, 1371, 17760, 17761, 1378, 9571, 1380, 1388, 1389, 1390, 1392, 1395, 17780, 9591, 9594, 17787, 9600, 9604, 9607, 9608, 17799, 1418, 17804, 17805, 1423, 1426, 1427, 1429, 1431, 17816, 17817, 9626, 17820, 1437, 9630, 9636, 17830, 1447, 17834, 1452, 9644, 9646, 17839, 1460, 17846, 1464, 1467, 17852, 17851, 17854, 9662, 1478, 1488, 1490, 9684, 9688, 1500, 9692, 17884, 9703, 17897, 1516, 9711, 1530, 9724, 1533, 17918, 1535, 1540, 1543, 17930, 1551, 9744, 17938, 9748, 17940, 9751, 1561, 17948, 9759, 9762, 9770, 1579, 1582, 17967, 17968, 1585, 1587, 17972, 9780, 17979, 17981, 17983, 9798, 9799, 17996, 9805, 9806, 9810, 18005, 18007, 18009, 1626, 9819, 1627, 18014, 9822, 18023, 18039, 1668, 1675, 1676, 18061, 9870, 18060, 9874, 1689, 18074, 9882, 18075, 9886, 1695, 9887, 9892, 18086, 9896, 18088, 1706, 1707, 18093, 18096, 1713, 18098, 9907, 1716, 9908, 18107, 18109, 18113, 18117, 18118, 18120, 18131, 9940, 1754, 1764, 9961, 18153, 18155, 1770, 1775, 9976, 9980, 1791, 1799, 18184, 9994, 18187, 9999, 10004, 10006, 10009, 1821, 18211, 18213, 18223, 10031, 1841, 18236, 10045, 18239, 10050, 10051, 1860, 10052, 18249, 18252, 1869, 18258, 10068, 1876, 18272, 10082, 1892, 10084, 10087, 10088, 10089, 1902, 10098, 10100, 10102, 1912, 10105, 1917, 18303, 18307, 18313, 1930, 10128, 1939, 18327, 1944, 10143, 10147, 10149, 1962, 18347, 1967, 18353, 10162, 10165, 1974, 1975, 18362, 18368, 10176, 18369, 18371, 18373, 10187, 10191, 10192, 18389, 2006, 2007, 18390, 18393, 2011, 10204, 18398, 2015, 10209, 10210, 18410, 10223, 18416, 2034, 2036, 2038, 2039, 2040, 18424, 10236, 2044, 10239, 10240, 10243, 18436, 18438, 10247, 2056, 2060, 10253, 18446, 10258, 10261, 2070, 18454, 2072, 10266, 10270, 2085, 2089, 2095, 10288, 10294, 10300, 18497, 2115, 10321, 2129, 10325, 18524, 2141, 2144, 10338, 18532, 18533, 2151, 2156, 18542, 10353, 10358, 10359, 2169, 18554, 18553, 2172, 10365, 10362, 10367, 18560, 18561, 2178, 18564, 18566, 10378, 18570, 2190, 18577, 18579, 18583, 2205, 10400, 2213, 18598, 18601, 18603, 18606, 2227, 2242, 10441, 2251, 18636, 18637, 2252, 10447, 2258, 2260, 2264, 10456, 2266, 18654, 18658, 18660, 10470, 18662, 2279, 10477, 10480, 10483, 18676, 10488, 10489, 18682, 2299, 2305, 2308, 18694, 10504, 18697, 2313, 10511, 2320, 2322, 10515, 18707, 10518, 18710, 10521, 18715, 2331, 18718, 10536, 10537, 18735, 2355, 18740, 18745, 10564, 2376, 2387, 18771, 18775, 10589, 10592, 10598, 2409, 10601, 2412, 10606, 18811, 2428, 10622, 18814, 10624, 2435, 18821, 10630, 10631, 10636, 18833, 18835, 10647, 18840, 10649, 18842, 10657, 2467, 18854, 10675, 2485, 2489, 10688, 18881, 10690, 10696, 18894, 10702, 10704, 10703, 2513, 2514, 18900, 10709, 18897, 2519, 2520, 2524, 2531, 18923, 2540, 10733, 10736, 18929, 10738, 10739, 2553, 2555, 10756, 2570, 2571, 10765, 10769, 10770, 2581, 10777, 2587, 2588, 10787, 2595, 18985, 10794, 2605, 18989, 10801, 10806, 19000, 2621, 2627, 10820, 19016, 2637, 2638, 2639, 10832, 10834, 2643, 10836, 2647, 10839, 19034, 10849, 10850, 2660, 2662, 10854, 2664, 19049, 10863, 2671, 2673, 2677, 2679, 2680, 2681, 10875, 2684, 19071, 10879, 10881, 2689, 19074, 2693, 19084, 19090, 2714, 19099, 2717, 19102, 10917, 10920, 19113, 2732, 19118, 10926, 10931, 10933, 10934, 19125, 2744, 19129, 10935, 10939, 2749, 2754, 10947, 10948, 10949, 19142, 19143, 2755, 2765, 19150, 19151, 10963, 10967, 2776, 2780, 10972, 2785, 2786, 10980, 10984, 2794, 10990, 10991, 10992, 2801, 19186, 19184, 2807, 19192, 11003, 11004, 11006, 11008, 2819, 19211, 19212, 11020, 2827, 11022, 2834, 19220, 11032, 19228, 2846, 19230, 2848, 11041, 2853, 2859, 11058, 11059, 19253, 19257, 11067, 19262, 2878, 19265, 2882, 11075, 19269, 11082, 19275, 11087, 19282, 11093, 19292, 19295, 19296, 2913, 2915, 11108, 2916, 19302, 11113, 19306, 2923, 11118, 11122, 19315, 11124, 2935, 2937, 19322, 11130, 2941, 11133, 11135, 11137, 11139, 19336, 11145, 11154, 11155, 11160, 2969, 2968, 11166, 2978, 2986, 19376, 11188, 2997, 2999, 11193, 11195, 3004, 11196, 19393, 3012, 19397, 11207, 3018, 11211, 19404, 11216, 3026, 11218, 11221, 3035, 11235, 19429, 19433, 3055, 19441, 19442, 3060, 11253, 11258, 3069, 11278, 19472, 3090, 11283, 19493, 11301, 3112, 3123, 11316, 19508, 19512, 11326, 3134, 11329, 19521, 3146, 3148, 11341, 19538, 19539, 11349, 3162, 11354, 3172, 19556, 11370, 19563, 11372, 19564, 3179, 11375, 11380, 19574, 19576, 11385, 11387, 11388, 19582, 19586, 19591, 11400, 19593, 3208, 19598, 3217, 19603, 3220, 11413, 11411, 19609, 3228, 11421, 11430, 3240, 11433, 3241, 19626, 19627, 11437, 11436, 19631, 3248, 3249, 3252, 19641, 3263, 19647, 11458, 3267, 3268, 19652, 19653, 11463, 11465, 19658, 19661, 11473, 11474, 3285, 3289, 11481, 3294, 3295, 11488, 19688, 3305, 3306, 11500, 11502, 3315, 19707, 11518, 3331, 19718, 11529, 19721, 3342, 19729, 19730, 3350, 19735, 11546, 3357, 3365, 11557, 11561, 19753, 19758, 11574, 11576, 3387, 11581, 3391, 19778, 11588, 3396, 19782, 19783, 11592, 11593, 11591, 19787, 3407, 11605, 19799, 3415, 11610, 11612, 11613, 3421, 19807, 11616, 11615, 19814, 19815, 11623, 11629, 11630, 3439, 11631, 3442, 3443, 11639, 19838, 19839, 3456, 19841, 3459, 19843, 3464, 11658, 11659, 19855, 11666, 19859, 11678, 19870, 11680, 19871, 3493, 19880, 19881, 3496, 11691, 3502, 19895, 3512, 11705, 11716, 19909, 11718, 3527, 11722, 19915, 19920, 3539, 3542, 19934, 3554, 3556, 11753, 11755, 19948, 19949, 11760, 19953, 3572, 11772, 11786, 19979, 3594, 3597, 11791, 19985, 3601, 11796, 3605, 19991, 19993, 19996, 3615, 3619, 20003, 20008, 3625, 3626, 3627, 3631, 20017, 3635, 20025, 3647, 11842, 11844, 20038, 20039, 3655, 11851, 3661, 20045, 20048, 20050, 3671, 3675, 20061, 20067, 20069, 11879, 11880, 20074, 3694, 11888, 3699, 11892, 20086, 3704, 11897, 20090, 11900, 20094, 20098, 3716, 20102, 11912, 20109, 20111, 20115, 11923, 20120, 3738, 3741, 3744, 20129, 11938, 11939, 3746, 11947, 3758, 11952, 3762, 3763, 20148, 3768, 3773, 3774, 20159, 20161, 11970, 11972, 3783, 3787, 20173, 3790, 3792, 20179, 3797, 11996, 20189, 20190, 3807, 20191, 3812, 20201, 20202, 3830, 3832, 20222, 20232, 12042, 12050, 12051, 12056, 3865, 3864, 3866, 12064, 3876, 12073, 20266, 12078, 20271, 3888, 3890, 3891, 20275, 20277, 12089, 20282, 12094, 3902, 20290, 3909, 20296, 20299, 3917, 12112, 20306, 12117, 3925, 3934, 20322, 3941, 20326, 12133, 20329, 3950, 12148, 20341, 12156, 3966, 20350, 12160, 3972, 3976, 12175, 20381, 12191, 20384, 12199, 20392, 12200, 20394, 4012, 12206, 20398, 20400, 4017, 20402, 12210, 20405, 4021, 20407, 12216, 12217, 4023, 4032, 20417, 4035, 4036, 12231, 20431, 4050, 20438, 4057, 4059, 20447, 4064, 12265, 12266, 4076, 4086, 12280, 12281, 4091, 4092, 4094, 12290, 12291, 4103, 20488, 4104, 20491, 4109, 20494, 4113, 20501, 4126, 4134, 20519, 4136, 12329, 20525, 4144, 12338, 12339, 20533, 20537, 20541, 20545, 12359, 4169, 20558, 20562, 20563, 12371, 20565, 20566, 12375, 4184, 12378, 4187, 12382, 4190, 4196, 12390, 4198, 4200, 20586, 12400, 20597, 12407, 4215, 20600, 4218, 4224, 20608, 12418, 12419, 4228, 4230, 20620, 4240, 4241, 4242, 20626, 12440, 20635, 20638, 4256, 20640, 12450, 12453, 20648, 12457, 20651, 12461, 20655, 12464, 12466, 12469, 20663, 12471, 20666, 20667, 12479, 12483, 12489, 20684, 12493, 12495, 12499, 12500, 4310, 4311, 4312, 12504, 4314, 4317, 12509, 4321, 20706, 4322, 20711, 20712, 4330, 20714, 12524, 20719, 12538, 20734, 4352, 12546, 12548, 4361, 20746, 20747, 4362, 4368, 20753, 12566, 4377, 4378, 20767, 4384, 4383, 20770, 20771, 12580, 20772, 4386, 4390, 20776, 20778, 4396, 20783, 12594, 12596, 20791, 4407, 12602, 4411, 12604, 4412, 4417, 4418, 20804, 12612, 20805, 12615, 4424, 12616, 4430, 4431, 12628, 4444, 20831, 12642, 20836, 4453, 20840, 12649, 12652, 4461, 20846, 4463, 20844, 20850, 20851, 20852, 12660, 20859, 12667, 4475, 4478, 20862, 20864, 4481, 20861, 12671, 4485, 12678, 20871, 20872, 4490, 4491, 4492, 20880, 20881, 4501, 12693, 12694, 12696, 4502, 12698, 20890, 20891, 4506, 20895, 12707, 12708, 12711, 12713, 4526, 4527, 20921, 4538, 20924, 4542, 12739, 4548, 12741, 20936, 20937, 4556, 20942, 4562, 12755, 12758, 20951, 4568, 20955, 12769, 4580, 4581, 4582, 12778, 20973, 4591, 4592, 20981, 12790, 12791, 12794, 20992, 4613, 4614, 4618, 21005, 12814, 4623, 21006, 4626, 12820, 4629, 4634, 4635, 12828, 21021, 4637, 21023, 4642, 21027, 21026, 12838, 21031, 4650, 12843, 12844, 4652, 12846, 4655, 21043, 21044, 4661, 12855, 4663, 21050, 21051, 12859, 4672, 21057, 21058, 21059, 4680, 21065, 12874, 4685, 12880, 4693, 12889, 12897, 12903, 21095, 21097, 12906, 21100, 12911, 21106, 12920, 4728, 4733, 4734, 4738, 21125, 4744, 21142, 12953, 4763, 12957, 4766, 12963, 21155, 4771, 12971, 21167, 4784, 4786, 12983, 12984, 21177, 12990, 4799, 21183, 21185, 12997, 13000, 4809, 4810, 21198, 13011, 4823, 4826, 4831, 4832, 4842, 4843, 13037, 21230, 21235, 21241, 4863, 13056, 4865, 13068, 13070, 21266, 4883, 21268, 21276, 13088, 21281, 21283, 13092, 4902, 13096, 4907, 13103, 21296, 21297, 4914, 4915, 21299, 4917, 21302, 4919, 21306, 21309, 13121, 13128, 4937, 13134, 13140, 4950, 13145, 21339, 13155, 13159, 21352, 21353, 21354, 13165, 4974, 21361, 13170, 21363, 4980, 4978, 21367, 13176, 13177, 4985, 13178, 21368, 4990, 4993, 13185, 13189, 5004, 5012, 13206, 5014, 21400, 5018, 21404, 5021, 5023, 21409, 13217, 5031, 21417, 13225, 13228, 13233, 5042, 5043, 5041, 5045, 21430, 13242, 5054, 5056, 21441, 5058, 21445, 5063, 21449, 13257, 5067, 21453, 5074, 21464, 5088, 5089, 21474, 5094, 21478, 13290, 13291, 5101, 13296, 13299, 21492, 5110, 5111, 13305, 21499, 5116, 5122, 13314, 13315, 5125, 21513, 5130, 13323, 21515, 21517, 13326, 21519, 5134, 5140, 13332, 21527, 13335, 5145, 5154, 21540, 5156, 5159, 13353, 5162, 13355, 13359, 21554, 21556, 21559, 5176, 13368, 5182, 5187, 13379, 5190, 13384, 5192, 21578, 21585, 21586, 13394, 13397, 21591, 13405, 5214, 13407, 21605, 13415, 21610, 21612, 5231, 21622, 5238, 13434, 5243, 5244, 13437, 13438, 5249, 21634, 13443, 13445, 21638, 5262, 21647, 5263, 5267, 21653, 5271, 5279, 5280, 21666, 5287, 5288, 13482, 13483, 21679, 13488, 21681, 5300, 21685, 13498, 5312, 13508, 13510, 21703, 13513, 13514, 21709, 5325, 13523, 13524, 13532, 21726, 13537, 5348, 5349, 21735, 21740, 13548, 21742, 21755, 5373, 5374, 5375, 21760, 13566, 21768, 5386, 13586, 21781, 5398, 13591, 5399, 5401, 13594, 21784, 21791, 5411, 13604, 13606, 5416, 13608, 13613, 13614, 5422, 5423, 5421, 21806, 5424, 5429, 13622, 13623, 13630, 5440, 13634, 21829, 5447, 21831, 5451, 13644, 5456, 5457, 13650, 13653, 13656, 5465, 21849, 21853, 13665, 5473, 21862, 13674, 5487, 13679, 13686, 21884, 21886, 13695, 21887, 21891, 21892, 13704, 21898, 5518, 5520, 13716, 13720, 21914, 13723, 5538, 13738, 5550, 13743, 21934, 13748, 13749, 5560, 21945, 21951, 5570, 13763, 13764, 21957, 21960, 5587, 13780, 5590, 21975, 21976, 13785, 5594, 21980, 5606, 13802, 21999, 22000, 13809, 5615, 22003, 5620, 22010, 5628, 13821, 22014, 5631, 5634, 5645, 22034, 22035, 22045, 13865, 22058, 13866, 22061, 5677, 13872, 22066, 13876, 22071, 22075, 22077, 13886, 5698, 13892, 13896, 13901, 5712, 5713, 5715, 5716, 5717, 13912, 22110, 13920, 13925, 5734, 22119, 13932, 13934, 22127, 5744, 5755, 13952, 13953, 5762, 5767, 22152, 22157, 5775, 13976, 22173, 22177, 22183, 5803, 13999, 5813, 22201, 22203, 5825, 22210, 5828, 5831, 14029, 5839, 22224, 5841, 14031, 22229, 5848, 14042, 22239, 5856, 14047, 22244, 22246, 22248, 5865, 22256, 5874, 22260, 14069, 5880, 14072, 22268, 22270, 5886, 5888, 14088, 14089, 14091, 14092, 14093, 22283, 22287, 14096, 22289, 5904, 14099, 22292, 14098, 22296, 22302, 5920, 5925, 5926, 14118, 14117, 22311, 14122, 5931, 22317, 22321, 22322, 5947, 22333, 22338, 5959, 22343, 14153, 5962, 5965, 22354, 14166, 5976, 5977, 22366, 22368, 14178, 14179, 22372, 14183, 22376, 14184, 5994, 22386, 14199, 14200, 22394, 6013, 14207, 22399, 22401, 14216, 14218, 6029, 6030, 6032, 6033, 14226, 22419, 14235, 14242, 6051, 6052, 22441, 6059, 22444, 14255, 14256, 22448, 6067, 14263, 6076, 6081, 22465, 6086, 6088, 6093, 6094, 22481, 14290, 6099, 22489, 6106, 14300, 22496, 22504, 6123, 14316, 6126, 6131, 6132, 22520, 6137, 22526, 14343, 14345, 6153, 22541, 22544, 6163, 6165, 22549, 14364, 22557, 14366, 22561, 14370, 22570, 14384, 6193, 6200, 6201, 6206, 6208, 22596, 14405, 22599, 6219, 6221, 22608, 14418, 22610, 14423, 22615, 14425, 22617, 6233, 14428, 14434, 14435, 14445, 14447, 14450, 22647, 6266, 22654, 14464, 6274, 14467, 14468, 6278, 22668, 22669, 6287, 6289, 14483, 14487, 22682, 14497, 14499, 6309, 22697, 6315, 22703, 22705, 6326, 14522, 6335, 22729, 14538, 14543, 22736, 6351, 14546, 6358, 14556, 14557, 14561, 14566, 6374, 22760, 6378, 6380, 6381, 14581, 22780, 6398, 22786, 6409, 14602, 14607, 22800, 14613, 6423, 14616, 6425, 14620, 14624, 6436, 22825, 14639, 6449, 14642, 14644, 14647, 14650, 22842, 6461, 22850, 14664, 14671, 6481, 14674, 22872, 14681, 6489, 6493, 22882, 6499, 14697, 14698, 6507, 6506, 22892, 22894, 22898, 22899, 6519, 6520, 14714, 22909, 14722, 6530, 14726, 22918, 22925, 22926, 6548, 22936, 14748, 22946, 6568, 22956, 6572, 6574, 22960, 22964, 6580, 22966, 14774, 14777, 6593, 6598, 14790, 22987, 22991, 6607, 6612, 6614, 14807, 14808, 23007, 6623, 23008, 6626, 23025, 14834, 23030, 14840, 23034, 23035, 23037, 23039, 6658, 23045, 23051, 6670, 23056, 23057, 14867, 6679, 14876, 23068, 14878, 14883, 14884, 6694, 14887, 6695, 23082, 6699, 6700, 14892, 23086, 23087, 6706, 14902, 14913, 6726, 6729, 6732, 6733, 6746, 6747, 14941, 6753, 6754, 14947, 23145, 6762, 14955, 14957, 23150, 23152, 6771, 14965, 14974, 23168, 6786, 14980, 23173, 23174, 6788, 14984, 6792, 14986, 6795, 6798, 6800, 23186, 14996, 23190, 23197, 23198, 15015, 23208, 6824, 23211, 23213, 6831, 23218, 23219, 15027, 15031, 15037, 15038, 15039, 23233, 15043, 23236, 15050, 15052, 6860, 23247, 23252, 23253, 6871, 23256, 6878, 6883, 23269, 23271, 6888, 23292, 23294, 23303, 23308, 15123, 15126, 23323, 15133, 15136, 15137, 23330, 23331, 23332, 6951, 23344, 6961, 23349, 6976, 6979, 15172, 6981, 23366, 6983, 23369, 15178, 15183, 23379, 6998, 23385, 15194, 7001, 7004, 7002, 15201, 23394, 15205, 15206, 7015, 15221, 7030, 15232, 23425, 7044, 7046, 7049, 23437, 15246, 23438, 7060, 15263, 23458, 23459, 7078, 23465, 7082, 23468, 15278, 23477, 7102, 15296, 7106, 23494, 7114, 23502, 15311, 7120, 7121, 7122, 7119, 15318, 7127, 7137, 7138, 7142, 23528, 15340, 7150, 15343, 7156, 15350, 7158, 15352, 7164, 23554, 23557, 7175, 7180, 23567, 15377, 23572, 23574, 23575, 7192, 23577, 23582, 23586, 15397, 23594, 15402, 15406, 7215, 7223, 23608, 23612, 15425, 7234, 23621, 15432, 7250, 23635, 23638, 15447, 15453, 23648, 15456, 7266, 23652, 15463, 23657, 15470, 15471, 15473, 23666, 7282, 15475, 7281, 15477, 7286, 23675, 15484, 23676, 15487, 7295, 23685, 15496, 7307, 15503, 7313, 7319, 23704, 23705, 15517, 7326, 23711, 23710, 7334, 23718, 7341, 23726, 7343, 15546, 7354, 23742, 15552, 7367, 23754, 15563, 23755, 23757, 15570, 15574, 23766, 23771, 15580, 15589, 7398, 7399, 23782, 15594, 15596, 15600, 23794, 7413, 7414, 15611, 15617, 23814, 15624, 15631, 7440, 15632, 7439, 7442, 15637, 23834, 7454, 15656, 23849, 23850, 15659, 15660, 7466, 15663, 23859, 15670, 15671, 23871, 15680, 7487, 15684, 23878, 15686, 23882, 7498, 7506, 7509, 23894, 23896, 23900, 23901, 7519, 15714, 7524, 15716, 23909, 23911, 7538, 7545, 15746, 15749, 7562, 7563, 15755, 23949, 23956, 15767, 15769, 7579, 7580, 7581, 7582, 15775, 23963, 23967, 23970, 15776, 15772, 15782, 7591, 15787, 23980, 7598, 15792, 15795, 23988, 7607, 15801, 15802, 15807, 23999, 15809, 15810, 15812, 24006, 7622, 24014, 7631, 15823, 7633, 24017, 15828, 7641, 15835, 24027, 15840, 24033, 15841, 24042, 7658, 7660, 24050, 7673, 7674, 15869, 7681, 15873, 15876, 24069, 7686, 7690, 15885, 7705, 24095, 7713, 24097, 7716, 24101, 7720, 24106, 7723, 7727, 7737, 24126, 7745, 15939, 15940, 24133, 24134, 7752, 7755, 7756, 24140, 24142, 15949, 7760, 24144, 15947, 24152, 7769, 15966, 15968, 24160, 15970, 7779, 7781, 15980, 7790, 7793, 15986, 7795, 15989, 24183, 7801, 24188, 24189, 24192, 7814, 7815, 24200, 7819, 7821, 7822, 16014, 24208, 24213, 16026, 7834, 7837, 16032, 24232, 7849, 7848, 24235, 24236, 24241, 24243, 16054, 24252, 16063, 24259, 16076, 16077, 16080, 24279, 24280, 16089, 24287, 24290, 16101, 24295, 16103, 16105, 7914, 16108, 16109, 24303, 7941, 24327, 16137, 7948, 24337, 24345, 16154, 16156, 24353, 7972, 16166, 7976, 7978, 16172, 16176, 16177, 7986, 16181, 24373, 24377, 16187, 24381, 7997, 7999, 24384, 16192, 8004, 8008, 24392, 16202, 16203, 16204, 8012, 8015, 24399, 24406, 24408, 8031, 24417, 8035, 16228, 8036, 16232, 16234, 24429, 24430, 16238, 24440, 24441, 16253, 16254, 16256, 8064, 24449, 8068, 24454, 16262, 8073, 8075, 8076, 8078, 24463, 8083, 16275, 24470, 8093, 16285, 16287, 8098, 8107, 16300, 16301, 24494, 24493, 24496, 16308, 16312, 24508, 24510, 24511, 16320, 24513, 8133, 24518, 16327, 8137, 24521, 24523, 8140, 8143, 24536, 24538, 16348, 16349, 8162, 24546, 8169, 8171, 16367, 16373, 8182, 24567, 8181}\n"
     ]
    },
    {
     "name": "stdout",
     "output_type": "stream",
     "text": [
      "The dimension of X_binary_imbalance (expected (15625, 5000)):  (15625, 5000)\n"
     ]
    }
   ],
   "source": [
    "# For the X_binary_imbalance, start with X_binary, set your rng seed to 0 (for consistency when testing)\n",
    "# and then delete 75% of the rows corresponding to sentiment=1\n",
    "import random\n",
    "import numpy as np\n",
    "random.seed(0)\n",
    "\n",
    "# Begin by saving all the indices in X_binary with a sentiment of 1.\n",
    "sentiment1_indices = [i for i in range(len(X_binary)) if train['sentiment'][i] == 1]\n",
    "numElementsWSentiment1 = len(sentiment1_indices)\n",
    "print (\"No. of indices that have a sentiment of 1:\", numElementsWSentiment1)               # expected 12500\n",
    "\n",
    "# Double-checking. This should be equal to the number above (comment out once verified)\n",
    "# numElementsWSentiment1 = len(train[train['sentiment'] == 1])  \n",
    "# print (numElementsWSentiment1)               # expected 12500\n",
    "\n",
    "# Triple-checking. sum should be equal to the number we got above. (comment out once verified)\n",
    "# numElementsWSentiment1 = 0\n",
    "# for sentiment in train['sentiment']:\n",
    "#     if (sentiment == 1):\n",
    "#        numElementsWSentiment1 += 1\n",
    "# print (numElementsWSentiment1)\n",
    "\n",
    "# Now randomly delete 75% of the indices with sentiment == 1. In other words retain only 25%.\n",
    "print(\"We will randomly keep 25% of these indices. Trimming...\")\n",
    "numIndicesToKeep = int(numElementsWSentiment1 / 4)  # we will keep 25%\n",
    "indices_to_keep = set(random.sample(sentiment1_indices, numIndicesToKeep)) # this will randomly pick the indices to keep.\n",
    "print(\"No. of indices to keep:\", len(indices_to_keep))\n",
    "print(\"The actual indices we will keep:\\n\",indices_to_keep) #Testing\n",
    "\n",
    "# Now create matrix that copies X_binary except it retains only the indices_to_keep, \n",
    "# as well as all other indices with sentiment == 0\n",
    "X_binary_imbalance = np.array([X_binary[i] for i in range(len(X_binary)) if i in indices_to_keep or train['sentiment'][i] == 0])\n",
    "print(\"The dimension of X_binary_imbalance (expected (15625, 5000)): \", X_binary_imbalance.shape) #Expected (15625, 5000)"
   ]
  },
  {
   "cell_type": "markdown",
   "metadata": {},
   "source": [
    "### Note that, because we deleted 75% of the rows with sentiment of 1, X_binary_imbalance has only 15625 rows, whereas all the other design matrices each have 25000 rows. This means that the original training data (which also has 25000 rows) will be out of aligment with X_binary_imbalance -- that is, the indices of X_binary_imbalance will not correspond to the correct review in the original training data.\n",
    "\n",
    "### To fix this, we will make a copy of the training data with the same indices taken out. We will also do the same to the sentiment vector, Y, which we created above as well."
   ]
  },
  {
   "cell_type": "code",
   "execution_count": 28,
   "metadata": {},
   "outputs": [
    {
     "name": "stdout",
     "output_type": "stream",
     "text": [
      "(15625, 3)\n",
      "(15625,)\n"
     ]
    }
   ],
   "source": [
    "# Save a separate array of the training data with the same indices taken out as in X_binary_imbalance\n",
    "train_nparray = train.values\n",
    "train_imbalance = np.array([train_nparray[i] for i in range(len(train_nparray)) if i in indices_to_keep or train['sentiment'][i] == 0])\n",
    "print(train_imbalance.shape) #Expected (15625, 3)\n",
    "\n",
    "# Save a separate array of just the sentiment data corresponding to X_binary_imbalance\n",
    "Y_imbalance = np.array([Y[i] for i in range(len(Y)) if i in indices_to_keep or train['sentiment'][i] == 0])\n",
    "print(Y_imbalance.shape)  #Expected (15625, )"
   ]
  },
  {
   "cell_type": "markdown",
   "metadata": {},
   "source": [
    "# 2. Feature space similarity experiment\n",
    "### We will take the four design matrices we created in the previous section (X_counts, X_binary, X_tfidf, X_binary_imbalance) and compute the Euclidean distance between every pair of the reviews. Since each design matrix has saved the reviews in vectorized form, with each review represented by the \"bag of words\" in the 5,000-word vocabulary, computing this distance should give us some (hopefully) useful information about what it means for two reviews to be very \"alike\" or \"different\". \n",
    "\n",
    "### Afterwards, we will look at the closest pair of reviews for each design matrix and compare them. Specifically, then, we will:\n",
    "\n",
    "Write a function dist(X, i, j, distance_function='Euclidean') which returns the (Euclidean) distance between rows i and j of a design matrix. Also write a function topk(X, k) which returns ((i1,j1,d1),...(ik,jk,dk)) where (ix,jx) are the indices of the xth closest pair, and dx is the corresponding distance. We will break ties randomly. Then we'll use topk() to find the closest review pairs for each design matrix and print the following: the indices of the reviews, the distance, the first 20 characters of each review, the labels for each review. Then we'll observe whether the pairs are always the same or not for each design matrix.\n",
    "\n",
    "### We will begin by creating the dist(X, i, j, distance_function = 'Euclidean') method, and testing it with a small example."
   ]
  },
  {
   "cell_type": "code",
   "execution_count": 29,
   "metadata": {},
   "outputs": [
    {
     "name": "stdout",
     "output_type": "stream",
     "text": [
      "Creating a small design matrix, X, for purposes of testing the dist() method:\n",
      "X =  [[1, 3, 4], [2, 1, 0], [3, 3, 3]]\n",
      "\n",
      "Calling dist(X, 0, 1)...\n",
      "Resulting 2D array of distances:\n",
      " [[ 0.          4.58257569  2.23606798]\n",
      " [ 4.58257569  0.          3.74165739]\n",
      " [ 2.23606798  3.74165739  0.        ]]\n",
      "\n",
      "Euclidean distance between row 0 and 1 of design matrix X:\n",
      "(Expected answer: sqrt((1-2)^2 + (3-1)^2 + (4-0)^2) = 4.58257569496)\n",
      " 4.58257569496\n"
     ]
    }
   ],
   "source": [
    "from scipy.spatial import distance\n",
    "# import math\n",
    "\n",
    "# Write a function dist(X, i, j, distance_function=’Euclidean’) which returns the\n",
    "# (Euclidean) distance between rows i and j of a design matrix\n",
    "\n",
    "def dist(X, i, j, distance_function = 'Euclidean'):\n",
    "    row_i = X[i]\n",
    "    row_j = X[j]\n",
    "    # Using pdist function from scipy to get the distances between all rows\n",
    "    distance_function = distance_function.lower() # Convert the distance_function parameter to lowercase\n",
    "    d = distance.pdist(X, distance_function)  # Invoke built-in function with the parameter.\n",
    "#     print (d)\n",
    "    d = distance.squareform(d)  # This turns the result into a 2D array.\n",
    "    print(\"Resulting 2D array of distances:\\n\", d)                    # Printing out the result for testing\n",
    "    return d[i][j]              # Returning the distance between row i and j\n",
    "    \n",
    "    # Alternate way to manually compute the distance between row i and j (commented out)\n",
    "#     sum = 0\n",
    "#     for k in range(len(row_i)):\n",
    "#         sum += (row_i[k] - row_j[k])**2\n",
    "#     return math.sqrt(sum)\n",
    "\n",
    "\n",
    "# Testing\n",
    "X = [[1,3,4],[2,1,0],[3,3,3]]\n",
    "print(\"Creating a small design matrix, X, for purposes of testing the dist() method:\")\n",
    "print(\"X = \", X)\n",
    "print(\"\\nCalling dist(X, 0, 1)...\")\n",
    "euc_dist = dist(X, 0, 1)\n",
    "\n",
    "#Expected sqrt((1-2)^2 + (3-1)^2 + (4-0)^2) = 4.58257569496\n",
    "print (\"\\nEuclidean distance between row 0 and 1 of design matrix X:\\n\\\n",
    "(Expected answer: sqrt((1-2)^2 + (3-1)^2 + (4-0)^2) = 4.58257569496)\\n\",\\\n",
    "euc_dist)"
   ]
  },
  {
   "cell_type": "markdown",
   "metadata": {},
   "source": [
    "### Next, we'll write the topk(X, k) method. This method could invoke the dist() method we wrote above, but instead we will use sklearn's built-in euclidean_distances method for even greater efficiency. We will then test the method with a small example."
   ]
  },
  {
   "cell_type": "code",
   "execution_count": 30,
   "metadata": {
    "scrolled": true
   },
   "outputs": [
    {
     "name": "stdout",
     "output_type": "stream",
     "text": [
      "Preparing to test the topk() method with the following design matrix:\n",
      "X =  [[1, 3, 4], [2, 1, 0], [3, 3, 3]]\n",
      "topk(X, 0) =  []\n",
      "topk(X, 1) =  [(0, 2, 2.2360679774997898)]\n",
      "topk(X, 2) =  [(0, 2, 2.2360679774997898), (1, 2, 3.7416573867739413)]\n",
      "topk(X, 3) =  [(0, 2, 2.2360679774997898), (1, 2, 3.7416573867739413), (0, 1, 4.5825756949558398)]\n",
      "topk(X, 4) =  [(0, 2, 2.2360679774997898), (1, 2, 3.7416573867739413), (0, 1, 4.5825756949558398)]\n"
     ]
    }
   ],
   "source": [
    "from sklearn.metrics.pairwise import euclidean_distances\n",
    "import heapq\n",
    "import math\n",
    "\n",
    "# returns ((i1,j1,d1),...(ik,jk,dk)) where (ix,jx) are the indices of the xth\n",
    "# closest pair, and dx is the corresponding distance. You can break ties randomly.\n",
    "def topk(X, k):\n",
    "    \n",
    "    # Get distance between every pair of rows of X\n",
    "    d = euclidean_distances(X,X)\n",
    "#     print(d)\n",
    "    \n",
    "    # We will use a heap to \"sort\" the distances, only keeping the top k results at all times to save space.\n",
    "    h = []\n",
    "    \n",
    "    # Go thru each pair. We make sure that pairs will not repeat by having j range from i+1 to len(d[i]).\n",
    "    # For example, (1,0) will not show up since it is a repeat of the pair (0,1).\n",
    "    for i in range(len(d)):\n",
    "        for j in range(i+1, len(d[i])):\n",
    "            # We multiply the distance by -1 here, because we want to \"pop\" the largest elements out as we\n",
    "            # add more elements to the heap. But by default, the heap pops out the smallest elements instead,\n",
    "            # thus we multiply by -1 here.\n",
    "            heapq.heappush(h, (-1 * d[i][j], i, j)) \n",
    "            if (len(h) > k):  # Only keep k elements at most in the heap\n",
    "                heapq.heappop(h)\n",
    "    \n",
    "    # Now we initialize the list that will be returned. This list will consist of k elements or,\n",
    "    # if k > the total no. of rows in X, then the list will consist of len(X) elements instead.\n",
    "    # (After all, we can't return a list containing more elements than the design matrix X does!)\n",
    "    k = min(k, len(h))\n",
    "    ret = [0 for x in range(k)]  # initialize an array with all zeroes\n",
    "\n",
    "    # We will iterate backwards from k-1 down to 0, filling up the largest distance in the heap down to the smallest distance.\n",
    "    # The result is that smallest distance will end up in the 0th index position\n",
    "    for i in range(k-1, -1, -1):\n",
    "        # Although heappop removes smallest element by default, we multiplied each element by -1 \n",
    "        # in the for loop above, so we're really removing the largest element in the heap)\n",
    "        tup = heapq.heappop(h)\n",
    "        # We again multiply by -1 here to \"undo\" the multiplcation by -1 that we did in the loop above.\n",
    "        ret[i] = (tup[1], tup[2], -1 * tup[0]) # tup[1] and tup[2] indicate the pair of rows, and -1*tup[0] indicates the distance\n",
    "    return ret\n",
    "\n",
    "print(\"Preparing to test the topk() method with the following design matrix:\")\n",
    "print(\"X = \", X)\n",
    "\n",
    "print (\"topk(X, 0) = \", topk(X, 0)) # should be empty\n",
    "print (\"topk(X, 1) = \", topk(X, 1)) # expected [(0, 2, 2.2360679774997898)]\n",
    "print (\"topk(X, 2) = \", topk(X, 2)) # expected [(0, 2, 2.2360679774997898), (1, 2, 3.7416573867739413)]\n",
    "print (\"topk(X, 3) = \", topk(X, 3)) # expected [(0, 2, 2.2360679774997898), (1, 2, 3.7416573867739413), (0, 1, 4.5825756949558398)]\n",
    "print (\"topk(X, 4) = \", topk(X, 4)) # expected same output as topk(X, 3) since X only contains 3 rows."
   ]
  },
  {
   "cell_type": "markdown",
   "metadata": {},
   "source": [
    "### We are now ready to invoke the topk() method above for each of the 4 design matricees. We will let k = 50, meaning the method will return the 50 shortest distances (along with the corresponding pair of rows)."
   ]
  },
  {
   "cell_type": "code",
   "execution_count": 31,
   "metadata": {
    "collapsed": true
   },
   "outputs": [],
   "source": [
    "distances_xcounts = topk(X_counts, 50) # each of these may take a few minutes depending on your system"
   ]
  },
  {
   "cell_type": "code",
   "execution_count": 32,
   "metadata": {
    "collapsed": true
   },
   "outputs": [],
   "source": [
    "distances_xbinary = topk(X_binary, 50)"
   ]
  },
  {
   "cell_type": "code",
   "execution_count": 33,
   "metadata": {
    "collapsed": true
   },
   "outputs": [],
   "source": [
    "distances_xtfidf = topk(X_tfidf, 50)"
   ]
  },
  {
   "cell_type": "code",
   "execution_count": 34,
   "metadata": {
    "collapsed": true
   },
   "outputs": [],
   "source": [
    "distances_xbinary_imbalance = topk(X_binary_imbalance, 50)"
   ]
  },
  {
   "cell_type": "code",
   "execution_count": 35,
   "metadata": {
    "scrolled": true
   },
   "outputs": [
    {
     "name": "stdout",
     "output_type": "stream",
     "text": [
      "[(22599, 23581, 0.0), (21186, 21877, 0.0), (19463, 21339, 0.0), (19177, 21292, 0.0), (17910, 24442, 0.0), (17736, 18042, 0.0), (17342, 21172, 0.0), (17050, 19737, 0.0), (17045, 23321, 0.0), (16969, 22922, 0.0), (16502, 19613, 0.0), (15426, 21441, 0.0), (15381, 23160, 0.0), (15290, 18042, 0.0), (15290, 17736, 0.0), (14935, 24983, 0.0), (14783, 22344, 0.0), (14767, 22244, 0.0), (14104, 22961, 0.0), (14037, 24500, 0.0), (13371, 17878, 0.0), (13159, 16990, 0.0), (12399, 17018, 0.0), (12394, 24781, 0.0), (11769, 22499, 0.0), (11550, 24848, 0.0), (11377, 24576, 0.0), (11005, 20550, 0.0), (10893, 12699, 0.0), (10709, 14504, 0.0), (10506, 14949, 0.0), (10374, 10941, 0.0), (9838, 22087, 0.0), (9776, 22278, 0.0), (9316, 19818, 0.0), (8748, 23538, 0.0), (8741, 22449, 0.0), (8434, 12462, 0.0), (8418, 17935, 0.0), (8411, 12541, 0.0), (8358, 22911, 0.0), (8255, 19847, 0.0), (8117, 8136, 0.0), (8087, 10416, 0.0), (7765, 22278, 0.0), (7765, 9776, 0.0), (7667, 12234, 0.0), (7398, 14974, 0.0), (7310, 17019, 0.0), (7248, 7915, 0.0)]\n",
      "[(22599, 23581, 0.0), (21186, 21877, 0.0), (19463, 21339, 0.0), (19177, 21292, 0.0), (17910, 24442, 0.0), (17736, 18042, 0.0), (17342, 21172, 0.0), (17050, 19737, 0.0), (17045, 23321, 0.0), (16969, 22922, 0.0), (16502, 19613, 0.0), (15426, 21441, 0.0), (15381, 23160, 0.0), (15290, 18042, 0.0), (15290, 17736, 0.0), (14935, 24983, 0.0), (14783, 22344, 0.0), (14767, 22244, 0.0), (14104, 22961, 0.0), (14037, 24500, 0.0), (13371, 17878, 0.0), (13159, 16990, 0.0), (12399, 17018, 0.0), (12394, 24781, 0.0), (11769, 22499, 0.0), (11550, 24848, 0.0), (11377, 24576, 0.0), (11005, 20550, 0.0), (10893, 12699, 0.0), (10709, 14504, 0.0), (10506, 14949, 0.0), (10374, 10941, 0.0), (9838, 22087, 0.0), (9776, 22278, 0.0), (9316, 19818, 0.0), (8748, 23538, 0.0), (8741, 22449, 0.0), (8434, 12462, 0.0), (8418, 17935, 0.0), (8411, 12541, 0.0), (8358, 22911, 0.0), (8255, 19847, 0.0), (8117, 8136, 0.0), (8087, 10416, 0.0), (7765, 22278, 0.0), (7765, 9776, 0.0), (7667, 12234, 0.0), (7398, 14974, 0.0), (7310, 17019, 0.0), (7248, 7915, 0.0)]\n",
      "[(19463, 21339, 0.0), (19177, 21292, 0.0), (17910, 24442, 0.0), (17736, 18042, 0.0), (17342, 21172, 0.0), (17050, 19737, 0.0), (17045, 23321, 0.0), (16502, 19613, 0.0), (15426, 21441, 0.0), (15290, 18042, 0.0), (15290, 17736, 0.0), (14767, 22244, 0.0), (14104, 22961, 0.0), (13371, 17878, 0.0), (13159, 16990, 0.0), (12394, 24781, 0.0), (11769, 22499, 0.0), (11550, 24848, 0.0), (11377, 24576, 0.0), (11005, 20550, 0.0), (10893, 12699, 0.0), (10709, 14504, 0.0), (10374, 10941, 0.0), (9838, 22087, 0.0), (9776, 22278, 0.0), (8748, 23538, 0.0), (8741, 22449, 0.0), (8434, 12462, 0.0), (8418, 17935, 0.0), (8411, 12541, 0.0), (8358, 22911, 0.0), (8255, 19847, 0.0), (8117, 8136, 0.0), (8087, 10416, 0.0), (7765, 22278, 0.0), (7765, 9776, 0.0), (7667, 12234, 0.0), (7398, 14974, 0.0), (7011, 21163, 0.0), (6903, 7610, 0.0), (6649, 21733, 0.0), (6035, 18501, 0.0), (5766, 11510, 0.0), (5656, 10451, 0.0), (5651, 7034, 0.0), (5519, 14734, 0.0), (5078, 11344, 0.0), (5065, 6691, 0.0), (5033, 18484, 0.0), (4975, 7610, 0.0)]\n",
      "[(13274, 13676, 0.0), (12006, 13334, 0.0), (11227, 15294, 0.0), (11114, 11310, 0.0), (10691, 12358, 0.0), (10688, 14604, 0.0), (10348, 12281, 0.0), (9646, 14496, 0.0), (9588, 11310, 0.0), (9588, 11114, 0.0), (9362, 15612, 0.0), (9273, 13987, 0.0), (8829, 14369, 0.0), (8783, 15328, 0.0), (8351, 11206, 0.0), (7715, 10669, 0.0), (7712, 15496, 0.0), (7324, 14076, 0.0), (7186, 15538, 0.0), (6832, 12873, 0.0), (6763, 7913, 0.0), (6528, 9376, 0.0), (6108, 13815, 0.0), (6070, 13947, 0.0), (5786, 12408, 0.0), (5433, 14739, 0.0), (5429, 14048, 0.0), (5234, 7751, 0.0), (5222, 11244, 0.0), (5218, 7805, 0.0), (5032, 5044, 0.0), (5014, 6476, 0.0), (4826, 13947, 0.0), (4826, 6070, 0.0), (4775, 7611, 0.0), (4611, 9394, 0.0), (4554, 10670, 0.0), (4517, 4908, 0.0), (4294, 4745, 0.0), (4077, 15102, 0.0), (3767, 11606, 0.0), (3602, 7154, 0.0), (3531, 6498, 0.0), (3449, 9245, 0.0), (3185, 7041, 0.0), (3177, 4170, 0.0), (3158, 11594, 0.0), (3122, 4745, 0.0), (3122, 4294, 0.0), (3103, 11737, 0.0)]\n"
     ]
    }
   ],
   "source": [
    "print(distances_xcounts)\n",
    "print(distances_xbinary)\n",
    "print(distances_xtfidf)\n",
    "print(distances_xbinary_imbalance)"
   ]
  },
  {
   "cell_type": "markdown",
   "metadata": {},
   "source": [
    "### For each design matrix, we will print the indices of the closest pair of reviews, the distance, the first 20 characters of the review, and the sentiment labels for each review."
   ]
  },
  {
   "cell_type": "code",
   "execution_count": 37,
   "metadata": {
    "scrolled": false
   },
   "outputs": [
    {
     "name": "stdout",
     "output_type": "stream",
     "text": [
      "Closest review pair for X_counts:\n",
      "(22599, 23581, 0.0)\n",
      "First 20 characters of review index 22599: \"I loved this movie.\n",
      "First 20 characters of review index 23581: \"I loved this movie.\n",
      "Sentiment of review index 22599: 1\n",
      "Sentiment of review index 23581: 1\n",
      "Distance: 0.0\n",
      "\n",
      "Closest review pair for X_binary:\n",
      "(22599, 23581, 0.0)\n",
      "First 20 characters of review index 22599: \"I loved this movie.\n",
      "First 20 characters of review index 23581: \"I loved this movie.\n",
      "Sentiment of review index 22599: 1\n",
      "Sentiment of review index 23581: 1\n",
      "Distance: 0.0\n",
      "\n",
      "Closest review pair for X_tfidf:\n",
      "(19463, 21339, 0.0)\n",
      "First 20 characters of review index 19463: \"Bette Midler showca\n",
      "First 20 characters of review index 21339: \"Bette Midler showca\n",
      "Sentiment of review index 19463: 1\n",
      "Sentiment of review index 21339: 1\n",
      "Distance: 0.0\n",
      "\n",
      "Closest review pair for X_binary_imbalance:\n",
      "(13274, 13676, 0.0)\n",
      "First 20 characters of review index 13274: \"<br /><br />Back in\n",
      "First 20 characters of review index 13676: \"<br /><br />Back in\n",
      "Sentiment of review index 13274: 0\n",
      "Sentiment of review index 13676: 0\n",
      "Distance: 0.0\n",
      "\n"
     ]
    }
   ],
   "source": [
    "distances_list = [(distances_xcounts, \"X_counts\"), \n",
    "                  (distances_xbinary, \"X_binary\"),\n",
    "                  (distances_xtfidf, \"X_tfidf\"),\n",
    "                  (distances_xbinary_imbalance, \"X_binary_imbalance\")]\n",
    "\n",
    "for tupl in distances_list:    \n",
    "    print (\"Closest review pair for {}:\".format(tupl[1]))\n",
    "    dist = tupl[0]\n",
    "    print (dist[0])\n",
    "    # X_binary_imbalance is a special case, corresponding training data is train_imbalance, not train\n",
    "    if (tupl[1] == \"X_binary_imbalance\"):\n",
    "        print (\"First 20 characters of review index {}: {}\".format(dist[0][0], train_imbalance[dist[0][0]][2][:20]))\n",
    "        print (\"First 20 characters of review index {}: {}\".format(dist[0][1], train_imbalance[dist[0][1]][2][:20]))\n",
    "        print (\"Sentiment of review index {}: {}\".format(dist[0][0], train_imbalance[dist[0][0]][1]))\n",
    "        print (\"Sentiment of review index {}: {}\".format(dist[0][1], train_imbalance[dist[0][1]][1]))\n",
    "        print (\"Distance: {}\\n\".format(dist[0][2]))\n",
    "    else:\n",
    "        print (\"First 20 characters of review index {}: {}\".format(dist[0][0], train[\"review\"][dist[0][0]][:20]))\n",
    "        print (\"First 20 characters of review index {}: {}\".format(dist[0][1], train[\"review\"][dist[0][1]][:20]))\n",
    "        print (\"Sentiment of review index {}: {}\".format(dist[0][0], train[\"sentiment\"][dist[0][0]]))\n",
    "        print (\"Sentiment of review index {}: {}\".format(dist[0][1], train[\"sentiment\"][dist[0][1]]))\n",
    "        print (\"Distance: {}\\n\".format(dist[0][2]))"
   ]
  },
  {
   "cell_type": "markdown",
   "metadata": {},
   "source": [
    "### Unsurprisingly, the closest pairs are not always the same for each of the four design matrices. In the next section, we will train an SVM classifier using these matrices and observe the performance of each."
   ]
  },
  {
   "cell_type": "markdown",
   "metadata": {},
   "source": [
    "# 3. Classification experiment\n",
    "\n",
    "Now you’re going to tune an SVM classifier using each design matrix, and measure the resultant performance. Read the sklearn docs ( http://scikit-learn.org/stable/modules/cross_validation.html ) on cross-validation for information on the methods we use. We will adhere to the following scheme:\n",
    "\n",
    "● Set rng seed to 0 and create an initial learning_set / test_set split of 80-20.\n",
    "\n",
    "● Use a linear SVM ( svm.SVC with kernel=linear ) and pick the best C value for our classifier.\n",
    "\n",
    "----○ Repeat for each of the four design matrices:\n",
    "\n",
    "--------■ Repeat 30 times:\n",
    "\n",
    "------------● Pick a random value of C uniformly in the logarithmic interval (1e-4, 1e4)\n",
    "\n",
    "------------● Use 5-fold cross-validation to train the SVM\n",
    "\n",
    "------------● Estimate and record the ROC-AUC\n",
    "\n",
    "--------■ Select the value of C which produced the best ROC-AUC measurement\n",
    "\n",
    "--------■ Retrain the classifier using the entire learning set with this C value\n",
    "\n",
    "--------■ Generate an ROC curve and annotate with the ROC-AUC\n",
    "\n",
    "--------■ Submit test set predictions to Kaggle (making sure we use Kaggle's test data -- we may need to retrain one more time using all \"training data\"). Document the resulting Kaggle score.\n",
    "\n",
    "Afterwards, we will discuss which design matrix performed best (e.g., which encoding method worked best), and the\n",
    "lift (improvement in AUC-ROC) between the worst and best cases for each experiment.\n",
    "\n",
    "### We will begin by importing some of the libraries we will use in this section."
   ]
  },
  {
   "cell_type": "code",
   "execution_count": 38,
   "metadata": {
    "collapsed": true
   },
   "outputs": [],
   "source": [
    "from sklearn.svm import LinearSVC\n",
    "from sklearn.model_selection import train_test_split\n",
    "from sklearn.model_selection import KFold\n",
    "from sklearn.metrics import roc_curve, auc\n",
    "from scipy import interp\n",
    "import matplotlib.pyplot as plt"
   ]
  },
  {
   "cell_type": "markdown",
   "metadata": {},
   "source": [
    "### Let's create a method that performs classification using LinearSVC. The default parameters include 5-fold cross validation along with 30 loops. Parameters are as follows:\n",
    "\n",
    "X_train is the training data containing one of the design matrices\n",
    "\n",
    "Y_train is the corresponding training data containing sentiment labels\n",
    "\n",
    "X_str is a String just to identify which design matrix we're working with (for user-friendliness)\n",
    "\n",
    "folds is the no. of folds to be used for the K-Fold cross validation\n",
    "\n",
    "loops is the no. of times we repeat the training\n",
    "\n",
    "The below function returns a tuple (auc, fpr, tpr, c) containing the highest value of AUC found, along with corresponding false positive / true positive rates and the value of C that was used to initialize LinearSVC."
   ]
  },
  {
   "cell_type": "code",
   "execution_count": 39,
   "metadata": {
    "collapsed": true
   },
   "outputs": [],
   "source": [
    "def k_fold_linearsvc_classification(X_train, Y_train, X_str, folds=5, loops=30):\n",
    "    \n",
    "    # Initialize list of tuples, where each tuple will be in the form (mean_auc, mean_fpr, mean_tpr, C),\n",
    "    # where mean_auc is the mean area under the curve measurement that we will conduct below,\n",
    "    # mean_fpr and mean_tpr are the mean false positive rate and mean true positive rate which we need for graphing,\n",
    "    # and C = the C parameter used when initializing the LinearSVC classifier.\n",
    "    roc_auc_list = []\n",
    "    \n",
    "    print(\"Starting {}-fold cross-validation on the training set for {} (repeating {} times)...\".format(\n",
    "                                                                                        folds, X_str, loops))\n",
    "    \n",
    "    # Repeat the following a total of L times, where L = the loops parameter above\n",
    "    for i in range(loops):\n",
    "        print (\"Loop {}...\".format(i), end=\"\")\n",
    "        # Run classifier with cross-validation and plot ROC curves\n",
    "        cv = KFold(n_splits=folds)\n",
    "        c = np.random.uniform(np.log(1e-4), np.log(1e4)) # random. uniformly distributed over log (1e-4) to log (1e4)\n",
    "        c = np.exp(c)                                    # Convert to actual value between 1e-4 and 1e4\n",
    "#         print(\"C = {}\".format(c))\n",
    "        classifier = LinearSVC(C = c)\n",
    "\n",
    "        mean_tpr = 0.0                     # Mean true positive rate\n",
    "        mean_fpr = np.linspace(0, 1, 100)  # Mean false positive rate\n",
    "\n",
    "        # We will use a cycle list to cyclically loop thru each color (for variety and visibility in the resulting ROC graph)\n",
    "        # UPDATE: not needed.\n",
    "#         colors = cycle(['cyan', 'indigo', 'seagreen', 'yellow', 'blue', 'darkorange'])\n",
    "#         lw = 2  # this is the line width that we will use for plotting\n",
    "\n",
    "        # Perform 5-fold cross validation, and estimate / record the roc-auc along with the C value used.\n",
    "        for (train, test) in cv.split(X_train, Y_train):\n",
    "            # LinearSVC is faster than SVC, but does not come with the predict_proba() function like SVC does.\n",
    "            # So we will instead use the decision_function() method.\n",
    "        #     probas_ = classifier.fit(X[train], y[train]).predict_proba(X[test])\n",
    "            decision_func = classifier.fit(X_train[train], Y_train[train]).decision_function(X_train[test])\n",
    "\n",
    "            # If we had used predict_proba() method above, then we'd be computing the false positive rate,\n",
    "            # true positive rate and thresholds as below. But since we used decision_function() instead,\n",
    "            # we must be careful that in this case decision_function() returns a 1D array,\n",
    "            # whereas predict_proba() would've returned a 2D array.\n",
    "            # Thus, instead of using the parameter probas_[:, 1],\n",
    "            # we instead use decision_func[:]\n",
    "        #     fpr, tpr, thresholds = roc_curve(y[test], probas_[:, 1])\n",
    "            fpr, tpr, thresholds = roc_curve(Y_train[test], decision_func[:])\n",
    "#             print(\"fpr, tpr = {}, {}\".format(fpr, tpr))\n",
    "\n",
    "            mean_tpr += interp(mean_fpr, fpr, tpr)  # Add up the mean true positive rate (to be divided later)\n",
    "            mean_tpr[0] = 0.0\n",
    "            # Use auc() method to compute Area Under Curve, where fpr = false positive rate (horizontal axis) \n",
    "            # and tpr = true positive rate (vertical axis)\n",
    "            roc_auc = auc(fpr, tpr) \n",
    "#             print (\"roc_auc: {}\".format(roc_auc))\n",
    "        #     plt.plot(fpr, tpr, lw=lw, color=color,\n",
    "        #              label='ROC fold %d (area = %0.2f)' % (i, roc_auc))\n",
    "\n",
    "        # End for (train, test), color in zip(...)\n",
    "        \n",
    "        # Now that we're done with the K-fold cross-validation, compute the mean\n",
    "        mean_tpr /= cv.get_n_splits(X_train, Y_train)  # Compute mean positive rate\n",
    "        mean_tpr[-1] = 1.0\n",
    "        mean_auc = auc(mean_fpr, mean_tpr)             # Compute mean area under the curve\n",
    "        print(\"C, AUC: {}, {}\".format(c, mean_auc))\n",
    "\n",
    "        # Append the mean area under curve along with the c value we used in initializing LinearSVC.\n",
    "        # We will later look thru the list to find the C-value that resulted in best auc.\n",
    "        roc_auc_list.append((mean_auc, mean_fpr, mean_tpr, c))\n",
    "    # End for i in range(loops)\n",
    "    \n",
    "    # Now that we're done with all the loops,\n",
    "    # see which value of C performed the best, by sorting roc_auc_list and looking at the best (largest) mean_auc score\n",
    "#     print(\"roc_auc_list before sort: {}\".format(roc_auc_list))\n",
    "    roc_auc_list.sort(key=lambda tup: tup[0], reverse = True)\n",
    "#     print(\"roc_auc_list after sort: {}\".format(roc_auc_list))\n",
    "#     print(\"length of roc_auc_list: {}\".format(len(roc_auc_list)))\n",
    "    best_performer = roc_auc_list[0]\n",
    "#     print(\"best performer: {}\".format(best_performer))\n",
    "    best_mean_auc = best_performer[0]\n",
    "    best_mean_fpr = best_performer[1]\n",
    "    best_mean_tpr = best_performer[2]\n",
    "    best_C = best_performer[-1]\n",
    "    \n",
    "    worst_performer = roc_auc_list[-1]\n",
    "    worst_mean_auc = worst_performer[0]\n",
    "    worst_C = worst_performer[-1]\n",
    "    \n",
    "    print(\"Value of C that produced the best ROC-AUC measurement: {}\\nCorresponding AUC value: {}\".format(best_C, best_mean_auc))\n",
    "    print(\"The lift (improvement in AUC) between the worst and best case for the design matrix {}: {}\".format(\n",
    "        X_str, best_mean_auc - worst_mean_auc))\n",
    "    return best_performer"
   ]
  },
  {
   "cell_type": "markdown",
   "metadata": {},
   "source": [
    "### Let us also create a method that will be used to grab the test data features (processed and transformed via CountVectorizer) from the Kaggle website, for purposes of testing the predictive performance of each of our four design matrices.\n",
    "### Note that this method will only grab the data from the .tsv file if the given parameter equals None. Otherwise, it will simply return the parameter itself. (This is to save time in the event that we have previously grabbed the test data features and do not want to repeat the process)"
   ]
  },
  {
   "cell_type": "code",
   "execution_count": 40,
   "metadata": {
    "collapsed": true
   },
   "outputs": [],
   "source": [
    "def get_test_data_features(test = None, test_data_features = None):\n",
    "    \n",
    "    # If the parameter is None, then create it by reading from the data file.\n",
    "    if test_data_features is None:\n",
    "        # Read the test data\n",
    "        print (\"The test data file does not exist yet and must be created. Reading from the test data file...\")\n",
    "        test = pd.read_csv(\"testData.tsv\", header=0, delimiter=\"\\t\", \\\n",
    "                           quoting=3 )\n",
    "\n",
    "        # Verify that there are 25,000 rows and 2 columns\n",
    "        print (\"Verifying that our test data has 25000 rows and 2 columns: {}\".format(test.shape))\n",
    "\n",
    "        # Create an empty list and append the clean reviews one by one\n",
    "        num_reviews = len(test[\"review\"])\n",
    "        clean_test_reviews = [] \n",
    "\n",
    "        print (\"Cleaning and parsing the test set movie reviews...\")\n",
    "        for i in range(0,num_reviews):\n",
    "            if( (i+1) % 1000 == 0 ):\n",
    "                print (\"Review {} of {}...\".format(i+1, num_reviews), end=\"\")\n",
    "            clean_review = review_to_words( test[\"review\"][i] )  # Call our custom function\n",
    "            clean_test_reviews.append( clean_review )\n",
    "        print(\"done.\")\n",
    "\n",
    "        print(\"Using CountVectorizer to transform the reviews and convert to numpy array...\", end=\"\")\n",
    "        # Get a bag of words for the test set, and convert to a numpy array\n",
    "        # Here, vectorizer is a CountVectorizer instance that we initialized previously\n",
    "        test_data_features = vectorizer.transform(clean_test_reviews)\n",
    "        test_data_features = test_data_features.toarray()\n",
    "        print(\"done.\\n\")\n",
    "    # end if\n",
    "    \n",
    "    return test, test_data_features"
   ]
  },
  {
   "cell_type": "markdown",
   "metadata": {},
   "source": [
    "### We will now use the two functions that we wrote above to train and test the performance of each of our four design matrices. \n",
    "### We will initially split each matrix into 80 / 20 train/test sets before invoking the k_fold_linearsvc_classification() function.\n",
    "### Afterwards, we will take the best-performing C-value, and re-train the 80% learning set of each design matrix, after which we will compute and graph the ROC_AUC curve.\n",
    "### Finally, we will re-train 100% of the learning set and make predictions on the Kaggle test set, then print our predictions to a file to be submitted to Kaggle, after which we will report the Kaggle score for each design matrix."
   ]
  },
  {
   "cell_type": "code",
   "execution_count": 41,
   "metadata": {
    "scrolled": true
   },
   "outputs": [
    {
     "name": "stdout",
     "output_type": "stream",
     "text": [
      "====================================================\n",
      "    Training with X_counts...\n",
      "====================================================\n",
      "\n",
      "Starting 5-fold cross-validation on the training set for X_counts (repeating 30 times)...\n",
      "Loop 0...C, AUC: 2.457582078921003, 0.8985338087185609\n",
      "Loop 1...C, AUC: 599.8102876237876, 0.8955488430019942\n",
      "Loop 2...C, AUC: 1362.021635265945, 0.8953347393625519\n",
      "Loop 3...C, AUC: 314.303943614508, 0.8953373350445654\n",
      "Loop 4...C, AUC: 0.00037007390737761397, 0.9317234478761454\n",
      "Loop 5...C, AUC: 4541.938732736456, 0.8954616536277066\n",
      "Loop 6...C, AUC: 247.3252824567263, 0.8954044503849661\n",
      "Loop 7...C, AUC: 58.21853031748783, 0.8955408528439134\n",
      "Loop 8...C, AUC: 1.4955005393691556, 0.9004159561376356\n",
      "Loop 9...C, AUC: 78.5860421857311, 0.8955844634389644\n",
      "Loop 10...C, AUC: 8.731401853192574, 0.8963220986349286\n",
      "Loop 11...C, AUC: 1662.6001074573285, 0.8954369661556566\n",
      "Loop 12...C, AUC: 38.110931813691835, 0.8956146308734256\n",
      "Loop 13...C, AUC: 0.0023295749146718314, 0.9421060098984956\n",
      "Loop 14...C, AUC: 0.08122433559209678, 0.9240291547397699\n",
      "Loop 15...C, AUC: 4694.551946357611, 0.8953784600706116\n",
      "Loop 16...C, AUC: 16.7828844211337, 0.8959028544463107\n",
      "Loop 17...C, AUC: 9.729282394259219, 0.896437520564101\n",
      "Loop 18...C, AUC: 0.0012748632756243205, 0.9405207141199973\n",
      "Loop 19...C, AUC: 0.00012840238332079411, 0.9174490545311872\n",
      "Loop 20...C, AUC: 6481.502906344206, 0.8953788179550166\n",
      "Loop 21...C, AUC: 0.4066995727517522, 0.908404817783426\n",
      "Loop 22...C, AUC: 0.0009153190258304598, 0.9390541795033244\n",
      "Loop 23...C, AUC: 1106.1324012243049, 0.895483872097404\n",
      "Loop 24...C, AUC: 3.41044958264302, 0.897824694982286\n",
      "Loop 25...C, AUC: 2340.242606725545, 0.8953478920445652\n",
      "Loop 26...C, AUC: 21.841529108138623, 0.8957815031309814\n",
      "Loop 27...C, AUC: 0.013117205252912201, 0.9389235957743869\n",
      "Loop 28...C, AUC: 428.0753631123656, 0.8952656259445978\n",
      "Loop 29...C, AUC: 42.64795726333695, 0.8956370700383746\n",
      "Value of C that produced the best ROC-AUC measurement: 0.0023295749146718314\n",
      "Corresponding AUC value: 0.9421060098984956\n",
      "The lift (improvement in AUC) between the worst and best case for the design matrix X_counts: 0.04684038395389778\n",
      "\n",
      "Retraining the classifier using the entire learning set of X_counts with the best C value of 0.0023295749146718314...\n",
      "Done retraining. C, AUC = 0.0023295749146718314, 0.9472559164210295\n",
      "\n",
      "Plotting the ROC-AUC curve...\n"
     ]
    },
    {
     "data": {
      "image/png": "[encoded data removed]",
      "text/plain": [
       "<matplotlib.figure.Figure at 0x25b06c1b3c8>"
      ]
     },
     "metadata": {},
     "output_type": "display_data"
    },
    {
     "name": "stdout",
     "output_type": "stream",
     "text": [
      "Now preparing to submit test set predictions to Kaggle.\n",
      "We will retrain one last time using the best C value we found above, and\n",
      "using ALL training data (100%) of the design matrix X_counts...\n",
      "\n",
      "Now using our classifier to predict the sentiment label for each review in the test data...\n",
      "The test data file does not exist yet and must be created. Reading from the test data file...\n",
      "Verifying that our test data has 25000 rows and 2 columns: (25000, 2)\n",
      "Cleaning and parsing the test set movie reviews...\n",
      "Review 1000 of 25000...Review 2000 of 25000...Review 3000 of 25000...Review 4000 of 25000...Review 5000 of 25000...Review 6000 of 25000...Review 7000 of 25000...Review 8000 of 25000...Review 9000 of 25000...Review 10000 of 25000...Review 11000 of 25000...Review 12000 of 25000...Review 13000 of 25000...Review 14000 of 25000...Review 15000 of 25000...Review 16000 of 25000...Review 17000 of 25000...Review 18000 of 25000...Review 19000 of 25000...Review 20000 of 25000...Review 21000 of 25000...Review 22000 of 25000...Review 23000 of 25000...Review 24000 of 25000...Review 25000 of 25000...done.\n",
      "Using CountVectorizer to transform the reviews and convert to numpy array...done.\n",
      "\n",
      "Done predicting all sentiment labels. Outputting the predictions to X_counts_model.csv...\n",
      "Finished!\n",
      "\n",
      "====================================================\n",
      "    Training with X_binary...\n",
      "====================================================\n",
      "\n",
      "Starting 5-fold cross-validation on the training set for X_binary (repeating 30 times)...\n",
      "Loop 0...C, AUC: 5.449233905603237, 0.8984175329133738\n",
      "Loop 1...C, AUC: 27.57049450602988, 0.8968195735707224\n",
      "Loop 2...C, AUC: 0.023960485121013033, 0.9381395354575534\n",
      "Loop 3...C, AUC: 0.00996254291613444, 0.942781511473973\n",
      "Loop 4...C, AUC: 63.391968573447315, 0.8964504266936267\n",
      "Loop 5...C, AUC: 0.1441963766444237, 0.92138670341527\n",
      "Loop 6...C, AUC: 0.025858214481400372, 0.9376571865634972\n",
      "Loop 7...C, AUC: 98.48241666353437, 0.8964591791229312\n",
      "Loop 8...C, AUC: 3.628434482839184, 0.8992918144875467\n",
      "Loop 9...C, AUC: 5645.392241752623, 0.8961513856298645\n",
      "Loop 10...C, AUC: 0.08719567829140455, 0.926506244244308\n",
      "Loop 11...C, AUC: 1.977789974054133, 0.90153784354753\n",
      "Loop 12...C, AUC: 51.75238826679805, 0.8965330198642777\n",
      "Loop 13...C, AUC: 0.00019974461077364638, 0.9248958130360656\n",
      "Loop 14...C, AUC: 608.2271952794927, 0.8963515717306606\n",
      "Loop 15...C, AUC: 0.00018440771313505604, 0.9239569598791819\n",
      "Loop 16...C, AUC: 59.76470714745394, 0.8965118975951009\n",
      "Loop 17...C, AUC: 0.007013562690246016, 0.943860948316799\n",
      "Loop 18...C, AUC: 0.002360681616827644, 0.9437594524656773\n",
      "Loop 19...C, AUC: 0.0027284882466796032, 0.9439593181189845\n",
      "Loop 20...C, AUC: 0.057917985197113504, 0.930540464909731\n",
      "Loop 21...C, AUC: 185.84631850075857, 0.8964086283365728\n",
      "Loop 22...C, AUC: 0.008000968691795247, 0.9435072048287986\n",
      "Loop 23...C, AUC: 820.8268260317842, 0.8963209312557187\n",
      "Loop 24...C, AUC: 0.15337991675601287, 0.9207773512998805\n",
      "Loop 25...C, AUC: 3.602369662964128, 0.8994104778754995\n",
      "Loop 26...C, AUC: 0.010835572296680682, 0.9424878756659696\n",
      "Loop 27...C, AUC: 1116.9571116393406, 0.8963103945198436\n",
      "Loop 28...C, AUC: 0.00015755414277629563, 0.9219702423081368\n",
      "Loop 29...C, AUC: 26.100726280733312, 0.8968295032926782\n",
      "Value of C that produced the best ROC-AUC measurement: 0.0027284882466796032\n",
      "Corresponding AUC value: 0.9439593181189845\n",
      "The lift (improvement in AUC) between the worst and best case for the design matrix X_binary: 0.047807932489119964\n",
      "\n",
      "Retraining the classifier using the entire learning set of X_binary with the best C value of 0.0027284882466796032...\n",
      "Done retraining. C, AUC = 0.0027284882466796032, 0.9478066794543141\n",
      "\n",
      "Plotting the ROC-AUC curve...\n"
     ]
    },
    {
     "data": {
      "image/png": "[encoded data removed]",
      "text/plain": [
       "<matplotlib.figure.Figure at 0x25b739d47f0>"
      ]
     },
     "metadata": {},
     "output_type": "display_data"
    },
    {
     "name": "stdout",
     "output_type": "stream",
     "text": [
      "Now preparing to submit test set predictions to Kaggle.\n",
      "We will retrain one last time using the best C value we found above, and\n",
      "using ALL training data (100%) of the design matrix X_binary...\n",
      "\n",
      "Now using our classifier to predict the sentiment label for each review in the test data...\n",
      "Done predicting all sentiment labels. Outputting the predictions to X_binary_model.csv...\n",
      "Finished!\n",
      "\n",
      "====================================================\n",
      "    Training with X_tfidf...\n",
      "====================================================\n",
      "\n",
      "Starting 5-fold cross-validation on the training set for X_tfidf (repeating 30 times)...\n",
      "Loop 0...C, AUC: 20.166272195111308, 0.91429839996756\n",
      "Loop 1...C, AUC: 1128.972059020623, 0.9039880075854962\n",
      "Loop 2...C, AUC: 445.02831292127354, 0.9043253961467708\n",
      "Loop 3...C, AUC: 0.25328665211013385, 0.9504099002517077\n",
      "Loop 4...C, AUC: 31.615948181683816, 0.9112794440598306\n",
      "Loop 5...C, AUC: 1102.5056529187552, 0.9040565947467649\n",
      "Loop 6...C, AUC: 0.00016043597002095847, 0.9001913439660042\n",
      "Loop 7...C, AUC: 14.795018022029385, 0.9168813259220592\n",
      "Loop 8...C, AUC: 814.4132811911466, 0.9039184368681511\n",
      "Loop 9...C, AUC: 0.0025076735227257557, 0.9157200225933144\n",
      "Loop 10...C, AUC: 0.002925759943578043, 0.9175798776598769\n",
      "Loop 11...C, AUC: 59.792305465155586, 0.9081103849795051\n",
      "Loop 12...C, AUC: 1697.2972906427258, 0.9039003842207454\n",
      "Loop 13...C, AUC: 0.0002316952323019588, 0.9007944009585233\n",
      "Loop 14...C, AUC: 0.0006343830025534829, 0.904204410869256\n",
      "Loop 15...C, AUC: 461.6414325826587, 0.9044052562534781\n",
      "Loop 16...C, AUC: 0.0003248195265267133, 0.901621475476479\n",
      "Loop 17...C, AUC: 7.108920877564179, 0.9241521197172817\n",
      "Loop 18...C, AUC: 3931.430289368611, 0.903734488483498\n",
      "Loop 19...C, AUC: 46.59992311606367, 0.9092471957610083\n",
      "Loop 20...C, AUC: 8.770281544161918, 0.9219156823167378\n",
      "Loop 21...C, AUC: 175.1512369906037, 0.905361711812114\n",
      "Loop 22...C, AUC: 13.055097847401838, 0.9180260820134916\n",
      "Loop 23...C, AUC: 0.024139848959810566, 0.9431113447491791\n",
      "Loop 24...C, AUC: 0.00060639536899008, 0.9039851602774023\n",
      "Loop 25...C, AUC: 204.63608653448227, 0.9051538614016608\n",
      "Loop 26...C, AUC: 0.0004454624690688613, 0.9026189277564496\n",
      "Loop 27...C, AUC: 0.04003892800783608, 0.9467900912446723\n",
      "Loop 28...C, AUC: 146.09857770481838, 0.9057190123369847\n",
      "Loop 29...C, AUC: 26.259994801270366, 0.9124291219198069\n",
      "Value of C that produced the best ROC-AUC measurement: 0.25328665211013385\n",
      "Corresponding AUC value: 0.9504099002517077\n",
      "The lift (improvement in AUC) between the worst and best case for the design matrix X_tfidf: 0.050218556285703486\n",
      "\n",
      "Retraining the classifier using the entire learning set of X_tfidf with the best C value of 0.25328665211013385...\n",
      "Done retraining. C, AUC = 0.25328665211013385, 0.953613780183927\n",
      "\n",
      "Plotting the ROC-AUC curve...\n"
     ]
    },
    {
     "data": {
      "image/png": "[encoded data removed]",
      "text/plain": [
       "<matplotlib.figure.Figure at 0x25b06fbd710>"
      ]
     },
     "metadata": {},
     "output_type": "display_data"
    },
    {
     "name": "stdout",
     "output_type": "stream",
     "text": [
      "Now preparing to submit test set predictions to Kaggle.\n",
      "We will retrain one last time using the best C value we found above, and\n",
      "using ALL training data (100%) of the design matrix X_tfidf...\n",
      "\n",
      "Now using our classifier to predict the sentiment label for each review in the test data...\n",
      "Done predicting all sentiment labels. Outputting the predictions to X_tfidf_model.csv...\n",
      "Finished!\n",
      "\n",
      "====================================================\n",
      "    Training with X_binary_imbalance...\n",
      "====================================================\n",
      "\n",
      "Starting 5-fold cross-validation on the training set for X_binary_imbalance (repeating 30 times)...\n",
      "Loop 0...C, AUC: 766.3186419923878, 0.8878564426149506\n",
      "Loop 1...C, AUC: 5.438526706268081, 0.8888849302074321\n",
      "Loop 2...C, AUC: 0.44578405912400276, 0.8961337937845731\n",
      "Loop 3...C, AUC: 0.2934349201937901, 0.8989664630020702\n",
      "Loop 4...C, AUC: 0.0002849604654344569, 0.9068691206234392\n",
      "Loop 5...C, AUC: 28.24054233936058, 0.8880090218131492\n",
      "Loop 6...C, AUC: 0.015225628164924683, 0.9266970102272425\n",
      "Loop 7...C, AUC: 2519.459646091068, 0.8878567978930565\n",
      "Loop 8...C, AUC: 1.414754847436788, 0.8911602312675643\n",
      "Loop 9...C, AUC: 0.002471130140326592, 0.9319658985354743\n",
      "Loop 10...C, AUC: 1.202637712913265, 0.891672826097222\n",
      "Loop 11...C, AUC: 2.0596279621395603, 0.890264401889737\n",
      "Loop 12...C, AUC: 0.003140849551973727, 0.9322618539874052\n",
      "Loop 13...C, AUC: 1924.676657194162, 0.8878567978930565\n",
      "Loop 14...C, AUC: 0.1556691570187098, 0.9044096961640756\n",
      "Loop 15...C, AUC: 4.381036244260289, 0.8891229511061222\n",
      "Loop 16...C, AUC: 0.008320744508378494, 0.9302203236402589\n",
      "Loop 17...C, AUC: 0.007293294804163357, 0.9308745417474322\n",
      "Loop 18...C, AUC: 0.4547656220615722, 0.8960657969288409\n",
      "Loop 19...C, AUC: 0.0018241401645391806, 0.9311575038079167\n",
      "Loop 20...C, AUC: 10.744532218601691, 0.8884118076024236\n",
      "Loop 21...C, AUC: 0.3793380058837666, 0.8972959850030412\n",
      "Loop 22...C, AUC: 4697.445768378835, 0.8878445021318616\n",
      "Loop 23...C, AUC: 1.7980154390352974, 0.8906333936999188\n",
      "Loop 24...C, AUC: 0.0006264976434805033, 0.9230329630922027\n",
      "Loop 25...C, AUC: 0.0002803668271160219, 0.9063748005005725\n",
      "Loop 26...C, AUC: 0.00018390635287725493, 0.8891353846242123\n",
      "Loop 27...C, AUC: 2.273667840719884, 0.8899807603085262\n",
      "Loop 28...C, AUC: 0.0011180001188592498, 0.9285251599841318\n",
      "Loop 29...C, AUC: 0.009061734092569761, 0.9296602766977159\n",
      "Value of C that produced the best ROC-AUC measurement: 0.003140849551973727\n",
      "Corresponding AUC value: 0.9322618539874052\n",
      "The lift (improvement in AUC) between the worst and best case for the design matrix X_binary_imbalance: 0.04441735185554363\n",
      "\n",
      "Retraining the classifier using the entire learning set of X_binary_imbalance with the best C value of 0.003140849551973727...\n",
      "Done retraining. C, AUC = 0.003140849551973727, 0.9427801860626224\n",
      "\n",
      "Plotting the ROC-AUC curve...\n"
     ]
    },
    {
     "data": {
      "image/png": "[encoded data removed]",
      "text/plain": [
       "<matplotlib.figure.Figure at 0x25b05eb0940>"
      ]
     },
     "metadata": {},
     "output_type": "display_data"
    },
    {
     "name": "stdout",
     "output_type": "stream",
     "text": [
      "Now preparing to submit test set predictions to Kaggle.\n",
      "We will retrain one last time using the best C value we found above, and\n",
      "using ALL training data (100%) of the design matrix X_binary_imbalance...\n",
      "\n",
      "Now using our classifier to predict the sentiment label for each review in the test data...\n",
      "Done predicting all sentiment labels. Outputting the predictions to X_binary_imbalance_model.csv...\n",
      "Finished!\n",
      "\n"
     ]
    }
   ],
   "source": [
    "np.random.seed(0)\n",
    "lw = 2  # this is the line width that we will use for plotting\n",
    "\n",
    "# Place into lists the 4 design matrices and corresponding Y (sentiment) vectors which we created in Section 2.\n",
    "# We will iterate through these and train our model for each design matrix and gauge their performance\n",
    "X_List = [X_counts, X_binary, X_tfidf, X_binary_imbalance]\n",
    "X_Str_List = [\"X_counts\", \"X_binary\", \"X_tfidf\", \"X_binary_imbalance\"]\n",
    "Y_List = [Y, Y, Y, Y_imbalance]\n",
    "\n",
    "# The below 2 variables are parameters that will be fed into the invocation of get_test_data_features() method.\n",
    "test = None\n",
    "test_data_features = None\n",
    "\n",
    "# Go thru each element in X_List and corresponding element in Y_List\n",
    "for xi, yi in zip(range(len(X_List)), range(len(Y_List))):\n",
    "    print(\"====================================================\\n\\\n",
    "    Training with {}...\\n====================================================\\n\".format(X_Str_List[xi])) # testing\n",
    "    # Doing 80/20 split into training / test data\n",
    "    X_train, X_test, Y_train, Y_test = train_test_split(X_List[xi], Y_List[yi], test_size=0.20, random_state = 0)\n",
    "    best_performer = k_fold_linearsvc_classification(X_train, Y_train, X_Str_List[xi])  # Call custom function\n",
    "    best_mean_auc = best_performer[0]\n",
    "    best_mean_fpr = best_performer[1]\n",
    "    best_mean_tpr = best_performer[2]\n",
    "    best_C = best_performer[-1]\n",
    "    \n",
    "    print (\"\\nRetraining the classifier using the entire learning set of {} with the best C value of {}...\".format(\n",
    "        X_Str_List[xi], best_C))\n",
    "    classifier = LinearSVC(C = best_C)\n",
    "    decision_func = classifier.fit(X_train, Y_train).decision_function(X_test)\n",
    "    fpr, tpr, thresholds = roc_curve(Y_test, decision_func[:])\n",
    "    roc_auc = auc(fpr, tpr)\n",
    "    print(\"Done retraining. C, AUC = {}, {}\".format(best_C, roc_auc))\n",
    "    print(\"\\nPlotting the ROC-AUC curve...\")\n",
    "    plt.plot([0, 1], [0, 1], linestyle='--', lw=lw, color='k',\n",
    "                 label='Luck')\n",
    "    plt.plot(fpr, tpr, color='g', linestyle='--',\n",
    "         label='Best ROC for {:} (area = {:.2f})'.format(X_Str_List[xi], roc_auc), lw=lw)\n",
    "\n",
    "    # Set the range of x-axis and y-axis for graphing purposes.\n",
    "    plt.xlim([-0.05, 1.05])\n",
    "    plt.ylim([-0.05, 1.05])\n",
    "\n",
    "    plt.xlabel('False Positive Rate')\n",
    "    plt.ylabel('True Positive Rate')\n",
    "    plt.title('Receiver operating characteristic')\n",
    "    plt.legend(loc=\"lower right\", fontsize=10)\n",
    "    plt.show()\n",
    "    \n",
    "    print(\"Now preparing to submit test set predictions to Kaggle.\")\n",
    "    print(\"We will retrain one last time using the best C value we found above, and\\n\\\n",
    "using ALL training data (100%) of the design matrix {}...\".format(X_Str_List[xi]), end=\"\")\n",
    "    classifier = LinearSVC(C = best_C)\n",
    "    classifier = classifier.fit(X_train, Y_train)\n",
    "    print(\"\\n\\nNow using our classifier to predict the sentiment label for each review in the test data...\")\n",
    "    test, test_data_features = get_test_data_features(test, test_data_features)  # Call custom method to get the bag of words representation of test data\n",
    "    result = classifier.predict(test_data_features)\n",
    "#     print(result)\n",
    "    print(\"Done predicting all sentiment labels. Outputting the predictions to {}_model.csv...\".format(X_Str_List[xi]))\n",
    "    \n",
    "    # Copy the results to a pandas dataframe with an \"id\" column and\n",
    "    # a \"sentiment\" column\n",
    "    output = pd.DataFrame( data={\"id\":test[\"id\"], \"sentiment\":result} )\n",
    "\n",
    "    # Use pandas to write the comma-separated output file\n",
    "    output.to_csv( \"{}_model.csv\".format(X_Str_List[xi]), index=False, quoting=3 )\n",
    "    print(\"Finished!\\n\")"
   ]
  },
  {
   "cell_type": "markdown",
   "metadata": {},
   "source": [
    "### Now that we have made predictions using each of our four design matrices on the Kaggle test set, here are the resulting scores:\n",
    "### Score for X_counts_model.csv: 0.87596\n",
    "### Score for X_binary_model.csv: 0.87448\n",
    "### Score for X_tfidf_model.csv: 0.87100\n",
    "### Score for X_binary_imbalance_model.csv: 0.78824\n",
    "### Best-performing model on the Kaggle test data: X_counts_model.csv"
   ]
  },
  {
   "cell_type": "markdown",
   "metadata": {},
   "source": [
    "# 4. Learning curve experiment\n",
    "### In this section, we will use a logistic regression classifier to generate a learning curve:\n",
    "Using a logistic regression classifier and the design matrix X_counts, generate a learning curve:\n",
    "\n",
    "● Set your rng seed to 0\n",
    "● Generate a learning curve (xval vs training error) for n=(100, 500, 1000, 2000, 3000, 4000, 5000, 7500, 10000, 15000, 20000) training instances\n",
    "● Interpret the learning curve\n",
    "\n",
    "### We start by creating a function for plotting the learning curve, with the following parameters:\n",
    "\n",
    "estimator is the type of model we use for prediction. In our case, we will use LogisticRegression.\n",
    "\n",
    "title is a String, indicating the title of our learning curve.\n",
    "\n",
    "X, y are the learning data and the correct labels.\n",
    "\n",
    "ylim indicates the range of the y-axis in the graph.\n",
    "\n",
    "cv indicates the number of folds in conjunction with our cross-validation strategy.\n",
    "\n",
    "n_jobs is a parameter that will be fed into the learning_curve() method, indicating the number of jobs to run via parallel processing.\n",
    "\n",
    "train_sizes is a parameter that will be fed into the learning_curve() method, indicating the numbers of training instances that will be used to generate the learning curve."
   ]
  },
  {
   "cell_type": "code",
   "execution_count": 44,
   "metadata": {
    "collapsed": true
   },
   "outputs": [],
   "source": [
    "import numpy as np\n",
    "import matplotlib.pyplot as plt\n",
    "from sklearn.model_selection import learning_curve\n",
    "\n",
    "# See http://scikit-learn.org/stable/auto_examples/model_selection/plot_learning_curve.html#sphx-glr-auto-examples-model-selection-plot-learning-curve-py\n",
    "def plot_learning_curve(estimator, title, X, y, ylim=None, cv=None,\n",
    "                        n_jobs=1, train_sizes=np.linspace(.1, 1.0, 5)):\n",
    "    plt.figure()\n",
    "    plt.title(title)\n",
    "    if ylim is not None:\n",
    "        plt.ylim(*ylim)\n",
    "    plt.xlabel(\"Training instances\")\n",
    "    plt.ylabel(\"Score\")\n",
    "    train_sizes, train_scores, test_scores = learning_curve(\n",
    "        estimator, X, y, cv=cv, n_jobs=n_jobs, train_sizes=train_sizes)\n",
    "    train_scores_mean = np.mean(train_scores, axis=1)\n",
    "    train_scores_std = np.std(train_scores, axis=1)\n",
    "    test_scores_mean = np.mean(test_scores, axis=1)\n",
    "    test_scores_std = np.std(test_scores, axis=1)\n",
    "    plt.grid()\n",
    "\n",
    "    plt.fill_between(train_sizes, train_scores_mean - train_scores_std,\n",
    "                     train_scores_mean + train_scores_std, alpha=0.1,\n",
    "                     color=\"r\")\n",
    "    plt.fill_between(train_sizes, test_scores_mean - test_scores_std,\n",
    "                     test_scores_mean + test_scores_std, alpha=0.1, color=\"g\")\n",
    "    plt.plot(train_sizes, train_scores_mean, 'o-', color=\"r\",\n",
    "             label=\"Training score\")\n",
    "    plt.plot(train_sizes, test_scores_mean, 'o-', color=\"g\",\n",
    "             label=\"Cross-validation score\")\n",
    "\n",
    "    plt.legend(loc=\"best\")\n",
    "    return plt"
   ]
  },
  {
   "cell_type": "markdown",
   "metadata": {},
   "source": [
    "### We will now apply a Logistic Regression classifier and use it along with the design matrix X_counts to generate a learning curve."
   ]
  },
  {
   "cell_type": "code",
   "execution_count": 45,
   "metadata": {},
   "outputs": [
    {
     "data": {
      "image/png": "[encoded data removed]",
      "text/plain": [
       "<matplotlib.figure.Figure at 0x25b017afe80>"
      ]
     },
     "metadata": {},
     "output_type": "display_data"
    }
   ],
   "source": [
    "np.random.seed(0)\n",
    "from sklearn.linear_model import LogisticRegression\n",
    "title = \"Learning Curves (Logistic Regression using X_counts)\"\n",
    "estimator = LogisticRegression()\n",
    "plot_learning_curve(estimator, title, X_counts, Y, ylim=(0.5, 1.10), cv=5, \\\n",
    "                    train_sizes = np.array([100, 500, 1000, 2000, 3000, 4000, 5000, 7500, 10000, 15000, 20000]), n_jobs=4)\n",
    "plt.show()"
   ]
  },
  {
   "cell_type": "markdown",
   "metadata": {
    "collapsed": true
   },
   "source": [
    "### The learning curve above shows among others that, when the training sample size is relatively small (100 ~ 2000), there is a large gap between the training score and cross-validation score. This is to be expected, since a reasonable learning model won't have much trouble fitting a small set of training data very well, but will likely not generalize well to the testing data due to the small sample size. Conversely, when the training sample size gets larger, the model is more likely to learn the vicissitudes (e.g. noise, etc.) of the training data and generalize better. Sure enough, as the training instances get larger, the gap between the two scores decreases.\n",
    "\n",
    "### Overall, however, this learning curve may have a slight over-fitting (high variance) problem; even as the gap decreases towards the right side of the curve, the scores remain fairly far apart at the end (~0.97 vs ~0.86). It is possible that the scores will converge further given a larger sample size; we may also try introducing different levels of bias into our model to see if it results in better convergence."
   ]
  }
 ],
 "metadata": {
  "anaconda-cloud": {},
  "kernelspec": {
   "display_name": "Python 3",
   "language": "python",
   "name": "python3"
  },
  "language_info": {
   "codemirror_mode": {
    "name": "ipython",
    "version": 3
   },
   "file_extension": ".py",
   "mimetype": "text/x-python",
   "name": "python",
   "nbconvert_exporter": "python",
   "pygments_lexer": "ipython3",
   "version": "3.6.1"
  }
 },
 "nbformat": 4,
 "nbformat_minor": 2
}
